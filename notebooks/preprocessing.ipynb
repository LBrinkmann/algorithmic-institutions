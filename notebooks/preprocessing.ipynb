{
 "cells": [
  {
   "cell_type": "code",
   "execution_count": 19,
   "metadata": {},
   "outputs": [
    {
     "name": "stdout",
     "output_type": "stream",
     "text": [
      "Sessions in folder ../data/prepilot5 \n",
      "yi3xaim0    960\n",
      "1g4f5wxy    160\n",
      "xl4vfraf    160\n",
      "Name: session.code, dtype: int64 \n",
      "\n",
      "Sessions in folder ../data/pilot1 \n",
      "mqqsqhav    3200\n",
      "dbcrara4    2720\n",
      "hmjq6293     160\n",
      "Name: session.code, dtype: int64 \n",
      "\n",
      "Sessions in folder ../data/prepilotRand1 \n",
      "8l9e0w0q    4160\n",
      "d81skd2r    1600\n",
      "yaxdn9bp    1280\n",
      "v13x275n     128\n",
      "lpc387g3     128\n",
      "e0z791yu      64\n",
      "bcypr10f      64\n",
      "Name: session.code, dtype: int64 \n",
      "\n",
      "Experiments \n",
      "random_1          7040\n",
      "trail_rounds_2    5920\n",
      "Name: experiment_name, dtype: int64 \n",
      "\n"
     ]
    }
   ],
   "source": [
    "import os\n",
    "import pandas as pd\n",
    "import seaborn as sns\n",
    "import matplotlib.pyplot as plt\n",
    "import scipy\n",
    "sns.set(rc={'axes.facecolor':'white', 'figure.facecolor':'white'})\n",
    "\n",
    "folder = '../data'\n",
    "merge_file = 'pilot_random1'\n",
    "plot_folder = '../plots/pilot_random1'\n",
    "\n",
    "experiments = [\n",
    "    # {\n",
    "    #     'pagetimes': 'PageTimes-2021-12-09.csv',\n",
    "    #     'main_part': 'main_part_pilot_2021-12-09.csv',\n",
    "    #     'folder': '../data/prepilot'\n",
    "    # },\n",
    "    # {\n",
    "    #     'pagetimes': 'PageTimes-2021-12-13.csv',\n",
    "    #     'main_part': 'main_part_pilot_2021-12-13.csv',\n",
    "    #     'folder': '../data/prepilot2'\n",
    "    # }, \n",
    "    # {\n",
    "    #     'pagetimes': 'PageTimes-2021-12-20.csv',\n",
    "    #     'main_part': 'main_part_pilot_cont_2021-12-20.csv',\n",
    "    #     'folder': '../data/prepilot4'\n",
    "    # }, \n",
    "    {\n",
    "        'pagetimes': 'PageTimes-2022-01-13.csv',\n",
    "        'main_part': 'main_part_pilot_cont_2022-01-13.csv',\n",
    "        'folder': '../data/prepilot5',\n",
    "        'episode_length': 8,\n",
    "    }, \n",
    "    {\n",
    "        'pagetimes': 'PageTimes-2022-01-27.csv',\n",
    "        'main_part': 'main_part_pilot_cont_2022-01-27.csv',\n",
    "        'folder': '../data/pilot1',\n",
    "        'episode_length': 8,\n",
    "    }, \n",
    "    {\n",
    "        'pagetimes': 'PageTimes-2022-03-21.csv',\n",
    "        'main_part': 'main_part_pilot_random_2022-03-21.csv',\n",
    "        'folder': '../data/prepilotRand1',\n",
    "        'episode_length': 16,\n",
    "    }, \n",
    "]\n",
    "\n",
    "\n",
    "session_map = {\n",
    "    # 'sdvfxj22': 'flextimes', \n",
    "    # 'n8op39bm': 'fixedtimes',\n",
    "    # 'qeklctjv': 'continous_exp',\n",
    "    # 'a4ly7fp4': 'continous_cheap',\n",
    "    # 'yi3xaim0': 'trail_rounds',\n",
    "    'sdvfxj22': 'trail_rounds_2',\n",
    "    'dbcrara4': 'trail_rounds_2',\n",
    "    'mqqsqhav': 'trail_rounds_2',\n",
    "    'yaxdn9bp': 'random_1',\n",
    "    '8l9e0w0q': 'random_1',\n",
    "    'd81skd2r': 'random_1'\n",
    "}\n",
    "\n",
    "exp_pool = {\n",
    "    'flextimes': 'discrete', \n",
    "    'fixedtimes': 'discrete',\n",
    "    'continous_exp': 'continous',\n",
    "    'continous_cheap': 'continous',\n",
    "    'trail_rounds': 'trail_rounds'\n",
    "}\n",
    "\n",
    "\n",
    "\n",
    "dfs = []\n",
    "dfts = []\n",
    "for exp in experiments:\n",
    "    df = pd.read_csv(os.path.join(exp['folder'], exp['main_part']))\n",
    "    dft = pd.read_csv(os.path.join(exp['folder'], exp['pagetimes']))\n",
    "    print(f\"Sessions in folder {exp['folder']} \\n{df['session.code'].value_counts()} \\n\")\n",
    "    df['experiment_name'] = df['session.code'].map(session_map)\n",
    "    dft['experiment_name'] = dft['session_code'].map(session_map)\n",
    "    df['experiment_pool'] = df['experiment_name'].map(exp_pool)\n",
    "    df['episode_length'] = exp['episode_length']\n",
    "    dfs.append(df)\n",
    "    dfts.append(dft)\n",
    "df = pd.concat(dfs)\n",
    "dft = pd.concat(dfts)\n",
    "\n",
    "print(f\"Experiments \\n{df['experiment_name'].value_counts()} \\n\")"
   ]
  },
  {
   "cell_type": "code",
   "execution_count": 20,
   "metadata": {},
   "outputs": [
    {
     "data": {
      "text/plain": [
       "1     924\n",
       "2     924\n",
       "3     924\n",
       "4     924\n",
       "5     924\n",
       "6     924\n",
       "7     924\n",
       "8     924\n",
       "9     924\n",
       "10    924\n",
       "11    924\n",
       "12    924\n",
       "13    924\n",
       "14    924\n",
       "15    924\n",
       "16    924\n",
       "Name: subsession.round_number, dtype: int64"
      ]
     },
     "execution_count": 20,
     "metadata": {},
     "output_type": "execute_result"
    }
   ],
   "source": [
    "df['subsession.round_number'].value_counts()"
   ]
  },
  {
   "cell_type": "code",
   "execution_count": 21,
   "metadata": {},
   "outputs": [],
   "source": [
    "where = (\n",
    "    (df['player.role'] != 'manager') &\n",
    "    (~df['player.role'].isnull()) \n",
    ")\n",
    "\n",
    "df = df[where]\n",
    "\n",
    "assert df.groupby(['session.code', 'subsession.round_number', 'participant.code'])['participant.label'].count().max() == 1"
   ]
  },
  {
   "cell_type": "code",
   "execution_count": 22,
   "metadata": {},
   "outputs": [
    {
     "data": {
      "text/plain": [
       "i9836y9t    16\n",
       "iiphaol9    16\n",
       "tpirimw7    16\n",
       "wbaq4gyo    16\n",
       "tydz2zl6    16\n",
       "43htuytx    16\n",
       "w66fqk33    16\n",
       "pbigtcdg    16\n",
       "3wtegng4    16\n",
       "16lxok93    16\n",
       "b3vbtcpq    16\n",
       "u54y917r    16\n",
       "7cxtfooj    16\n",
       "8eemo62g    16\n",
       "wg8x68y9    16\n",
       "w758j3io    16\n",
       "wd28mvpk    16\n",
       "887qqdaa    16\n",
       "3u4ncuct    16\n",
       "9flsyy5l    16\n",
       "stg9swa9    16\n",
       "mnwvuwhe    16\n",
       "mqjvdqyr    16\n",
       "cs8vkk8v    16\n",
       "gcknvbz9    16\n",
       "59k1azdw    16\n",
       "7ob1jjat    16\n",
       "9568g1ze    16\n",
       "5teut236    16\n",
       "mqv6atek    16\n",
       "a4lk7dhq    16\n",
       "dimn40h6    16\n",
       "v6d1zdj9    16\n",
       "csebsoh0    16\n",
       "Name: participant.code, dtype: int64"
      ]
     },
     "execution_count": 22,
     "metadata": {},
     "output_type": "execute_result"
    }
   ],
   "source": [
    "df[(df['participant._current_page_name'] != 'FinalScreen')]['participant.code'].value_counts()"
   ]
  },
  {
   "cell_type": "code",
   "execution_count": 23,
   "metadata": {},
   "outputs": [
    {
     "data": {
      "text/plain": [
       "NaN     384\n",
       "0.0     102\n",
       "20.0     31\n",
       "16.0      7\n",
       "17.0      3\n",
       "5.0       3\n",
       "14.0      3\n",
       "7.0       3\n",
       "15.0      3\n",
       "11.0      2\n",
       "4.0       1\n",
       "18.0      1\n",
       "3.0       1\n",
       "Name: player.contribution, dtype: int64"
      ]
     },
     "execution_count": 23,
     "metadata": {},
     "output_type": "execute_result"
    }
   ],
   "source": [
    "df[(df['participant._current_page_name'] != 'FinalScreen')]['player.contribution'].value_counts(dropna=False)"
   ]
  },
  {
   "cell_type": "code",
   "execution_count": 24,
   "metadata": {},
   "outputs": [],
   "source": [
    "\n",
    "max_player = 4\n",
    "\n",
    "def get_punishment(row):\n",
    "    member_idx = row['player.role'][-1]\n",
    "    return row[f\"group.punishment{member_idx}\"]\n",
    "\n",
    "rename = {\n",
    "    'session.code': 'session', \n",
    "    'group.id_in_subsession': 'group_id', \n",
    "    'subsession.round_number': 'round_number',\n",
    "    'participant.code': 'participant_code',\n",
    "    'player.contribution': 'contribution',\n",
    "    'player.no_input': 'player_no_input',\n",
    "    'player.contribution': 'contribution',\n",
    "    'player.punishment_s': 'punishment_rule_s',\n",
    "    'player.punishment_b': 'punishment_rule_b',\n",
    "    'player.punishment_c': 'punishment_rule_c',\n",
    "    'player.punishment': 'punishment',\n",
    "    'group.no_input_manager': 'manager_no_input',\n",
    "    'group.total_contribution': 'total_contribution',\n",
    "    'group.common_good': 'common_good',\n",
    "    'group.total_punishment': 'total_punishment',\n",
    "    'episode': 'episode',\n",
    "    'experiment_name': 'experiment_name',\n",
    "    'player.role': 'player_role',\n",
    "    'player.payoff': 'payoff',\n",
    "    'experiment_pool': 'experiment_pool',\n",
    "    'episode_length': 'episode_length',\n",
    "}\n",
    "\n",
    "df['episode'] = (df['subsession.round_number'] - 1) // df['episode_length'] + 1\n",
    "\n",
    "\n",
    "df['player.punishment'] = df.apply(get_punishment, axis=1)\n",
    "\n",
    "\n",
    "df = df[[k for k in rename.keys() if k in df.columns]]\n",
    "df = df.rename(columns=rename)\n",
    "\n",
    "df['round_number'] = (df['round_number']-1) % df['episode_length'] \n",
    "# dft = dft[dft['page_name'] == 'Results']\n",
    "# merge_on = ['experiment_name', 'round_number', 'participant_code']\n",
    "\n",
    "df['global_group_id'] = df['session'] + ' #' + df['group_id'].astype('str')\n",
    "\n",
    "df['player_id'] = df['player_role'].str.strip().str[-1].astype(int) - 1\n",
    "\n",
    "\n",
    "# df = df.merge(dft[merge_on + ['epoch_time_completed']], on=merge_on, how='left')\n",
    "\n",
    "\n",
    "# df['group_started'] = df.groupby(['group_id', 'session'])['epoch_time_completed'].transform('min')\n",
    "# df['global_group_id'] = df['group_started'].rank(method='dense').astype(int)\n",
    "\n",
    "# df['time_passed'] = df['epoch_time_completed'] - df.groupby('participant_code')['epoch_time_completed'].transform('min')\n",
    "# df['group_duration'] = df.groupby('global_group_id')['time_passed'].transform('max')\n",
    "# df['group_duration_min'] = df['group_duration'] / 60\n"
   ]
  },
  {
   "cell_type": "code",
   "execution_count": null,
   "metadata": {},
   "outputs": [],
   "source": []
  },
  {
   "cell_type": "code",
   "execution_count": 25,
   "metadata": {},
   "outputs": [
    {
     "name": "stdout",
     "output_type": "stream",
     "text": [
      "848 removed rows.\n",
      "Removed Sessions \n",
      " yi3xaim0    400\n",
      "1g4f5wxy     64\n",
      "xl4vfraf     64\n",
      "hmjq6293     64\n",
      "e0z791yu     64\n",
      "bcypr10f     64\n",
      "v13x275n     64\n",
      "lpc387g3     64\n",
      "Name: session, dtype: int64\n"
     ]
    }
   ],
   "source": [
    "# removing unknown sessions (i.e. test sessions)\n",
    "w_no_exp = df['experiment_name'].isnull()\n",
    "\n",
    "print(f\"{w_no_exp.sum()} removed rows.\")\n",
    "print(f\"Removed Sessions \\n {df.loc[w_no_exp, 'session'].value_counts()}\")\n",
    "\n",
    "df = df[~w_no_exp]"
   ]
  },
  {
   "cell_type": "code",
   "execution_count": 26,
   "metadata": {},
   "outputs": [
    {
     "data": {
      "text/plain": [
       "0     543\n",
       "1     543\n",
       "2     543\n",
       "3     543\n",
       "4     543\n",
       "5     543\n",
       "6     543\n",
       "7     543\n",
       "8     199\n",
       "9     199\n",
       "10    199\n",
       "11    199\n",
       "12    199\n",
       "13    199\n",
       "14    199\n",
       "15    199\n",
       "Name: round_number, dtype: int64"
      ]
     },
     "execution_count": 26,
     "metadata": {},
     "output_type": "execute_result"
    }
   ],
   "source": [
    "df['round_number'].value_counts()"
   ]
  },
  {
   "cell_type": "code",
   "execution_count": 27,
   "metadata": {},
   "outputs": [
    {
     "data": {
      "text/plain": [
       "0    92\n",
       "Name: player_no_input, dtype: int64"
      ]
     },
     "execution_count": 27,
     "metadata": {},
     "output_type": "execute_result"
    }
   ],
   "source": [
    "df[df['contribution'].isnull()]['player_no_input'].value_counts()"
   ]
  },
  {
   "cell_type": "code",
   "execution_count": 28,
   "metadata": {},
   "outputs": [
    {
     "name": "stdout",
     "output_type": "stream",
     "text": [
      "0 removed rows.\n"
     ]
    }
   ],
   "source": [
    "# removing out participants with no input in any round\n",
    "\n",
    "w = df.groupby(['global_group_id', 'episode', 'participant_code'])['player_no_input'].transform('all')\n",
    "print(f\"{w.sum()} removed rows.\")\n",
    "df = df[~w]"
   ]
  },
  {
   "cell_type": "code",
   "execution_count": 29,
   "metadata": {},
   "outputs": [
    {
     "data": {
      "text/plain": [
       "<pandas.core.groupby.generic.DataFrameGroupBy object at 0x12cc89160>"
      ]
     },
     "execution_count": 29,
     "metadata": {},
     "output_type": "execute_result"
    }
   ],
   "source": [
    "df.groupby(['global_group_id', 'episode', 'participant_code'])"
   ]
  },
  {
   "cell_type": "code",
   "execution_count": 30,
   "metadata": {},
   "outputs": [
    {
     "name": "stdout",
     "output_type": "stream",
     "text": [
      "\n",
      "There are 92 rows with null punishments. These are likely from aborted games. We will remove these rows.\n",
      "\n"
     ]
    }
   ],
   "source": [
    "groupby = ['global_group_id', 'round_number', 'episode']\n",
    "\n",
    "check = (df['punishment'].isnull() == df['contribution'].isnull())\n",
    "assert check.all(), 'If punishment is null, contribution is null as well.'\n",
    "n_p_null = df['punishment'].isnull().sum()\n",
    "print(f\"\"\"\n",
    "There are {n_p_null} rows with null punishments. These are likely from aborted games. We will remove these rows.\n",
    "\"\"\")\n",
    "df = df[~df['punishment'].isnull()]\n",
    "\n",
    "if 'manager_no_input' in df.columns:\n",
    "    check = (df['manager_no_input'] == (df['punishment'] == 0))\n",
    "    assert check.any(), 'Inconsistency!'\n",
    "\n",
    "check = (df['player_no_input'] == (df['contribution'] == 0))\n",
    "assert check.any(), 'Inconsistency!'\n",
    "\n",
    "check = df.groupby(groupby)['total_contribution'].transform('first') == df.groupby(groupby)['contribution'].transform('sum')\n",
    "assert check.all(), 'Sum of total contributions does not match group contribution.'"
   ]
  },
  {
   "cell_type": "code",
   "execution_count": 31,
   "metadata": {},
   "outputs": [
    {
     "data": {
      "text/html": [
       "<div>\n",
       "<style scoped>\n",
       "    .dataframe tbody tr th:only-of-type {\n",
       "        vertical-align: middle;\n",
       "    }\n",
       "\n",
       "    .dataframe tbody tr th {\n",
       "        vertical-align: top;\n",
       "    }\n",
       "\n",
       "    .dataframe thead th {\n",
       "        text-align: right;\n",
       "    }\n",
       "</style>\n",
       "<table border=\"1\" class=\"dataframe\">\n",
       "  <thead>\n",
       "    <tr style=\"text-align: right;\">\n",
       "      <th></th>\n",
       "      <th>session</th>\n",
       "      <th>group_id</th>\n",
       "      <th>round_number</th>\n",
       "      <th>participant_code</th>\n",
       "      <th>contribution</th>\n",
       "      <th>player_no_input</th>\n",
       "      <th>punishment_rule_s</th>\n",
       "      <th>punishment_rule_b</th>\n",
       "      <th>punishment_rule_c</th>\n",
       "      <th>punishment</th>\n",
       "      <th>...</th>\n",
       "      <th>common_good</th>\n",
       "      <th>total_punishment</th>\n",
       "      <th>episode</th>\n",
       "      <th>experiment_name</th>\n",
       "      <th>player_role</th>\n",
       "      <th>payoff</th>\n",
       "      <th>experiment_pool</th>\n",
       "      <th>episode_length</th>\n",
       "      <th>global_group_id</th>\n",
       "      <th>player_id</th>\n",
       "    </tr>\n",
       "  </thead>\n",
       "  <tbody>\n",
       "  </tbody>\n",
       "</table>\n",
       "<p>0 rows × 22 columns</p>\n",
       "</div>"
      ],
      "text/plain": [
       "Empty DataFrame\n",
       "Columns: [session, group_id, round_number, participant_code, contribution, player_no_input, punishment_rule_s, punishment_rule_b, punishment_rule_c, punishment, manager_no_input, total_contribution, common_good, total_punishment, episode, experiment_name, player_role, payoff, experiment_pool, episode_length, global_group_id, player_id]\n",
       "Index: []\n",
       "\n",
       "[0 rows x 22 columns]"
      ]
     },
     "execution_count": 31,
     "metadata": {},
     "output_type": "execute_result"
    }
   ],
   "source": [
    "# for debugging\n",
    "\n",
    "df[~check].sort_values(['session','group_id', 'round_number'])"
   ]
  },
  {
   "cell_type": "code",
   "execution_count": 32,
   "metadata": {},
   "outputs": [
    {
     "data": {
      "text/plain": [
       "4    1461\n",
       "Name: total_contribution, dtype: int64"
      ]
     },
     "execution_count": 32,
     "metadata": {},
     "output_type": "execute_result"
    }
   ],
   "source": [
    "# we might have different number of rows per round, due to some participants dropping out\n",
    "check = df.groupby(groupby)['total_contribution'].count()\n",
    "check.value_counts()"
   ]
  },
  {
   "cell_type": "code",
   "execution_count": 33,
   "metadata": {},
   "outputs": [
    {
     "data": {
      "text/plain": [
       "4    787\n",
       "8    337\n",
       "Name: total_contribution, dtype: int64"
      ]
     },
     "execution_count": 33,
     "metadata": {},
     "output_type": "execute_result"
    }
   ],
   "source": [
    "# we have different number of round per episode, due to some episodes failing early\n",
    "check = df.groupby(groupby[:-1])['total_contribution'].count()\n",
    "check.value_counts()"
   ]
  },
  {
   "cell_type": "code",
   "execution_count": 34,
   "metadata": {},
   "outputs": [
    {
     "name": "stderr",
     "output_type": "stream",
     "text": [
      "/var/folders/nv/p5tx0nn545v9h6_w1wtm8cg00000gn/T/ipykernel_63015/2202981932.py:1: SettingWithCopyWarning: \n",
      "A value is trying to be set on a copy of a slice from a DataFrame.\n",
      "Try using .loc[row_indexer,col_indexer] = value instead\n",
      "\n",
      "See the caveats in the documentation: https://pandas.pydata.org/pandas-docs/stable/user_guide/indexing.html#returning-a-view-versus-a-copy\n",
      "  df['episode_id'] = (df['global_group_id'] + df['episode'].astype(str)).rank(method='dense').astype(int) - 1\n"
     ]
    }
   ],
   "source": [
    "df['episode_id'] = (df['global_group_id'] + df['episode'].astype(str)).rank(method='dense').astype(int) - 1"
   ]
  },
  {
   "cell_type": "code",
   "execution_count": 35,
   "metadata": {},
   "outputs": [],
   "source": [
    "df.to_csv(os.path.join(folder, f'{merge_file}_player_round.csv'), index=False)"
   ]
  },
  {
   "cell_type": "code",
   "execution_count": 36,
   "metadata": {},
   "outputs": [],
   "source": [
    "selected_columns = ['session', 'global_group_id','episode', 'episode_id', 'experiment_name', 'round_number', 'participant_code', 'player_no_input', 'player_id', 'contribution', 'punishment', 'payoff', 'common_good']\n",
    "\n",
    "df[selected_columns].to_csv(os.path.join(folder, f'{merge_file}_player_round_slim.csv'), index=False)"
   ]
  }
 ],
 "metadata": {
  "interpreter": {
   "hash": "19b68cf25e5ed30b4567ba95516e2a2bb8897a136569b58701a69223b823bc5e"
  },
  "kernelspec": {
   "display_name": "Python 3.6.9 64-bit ('.venv': venv)",
   "language": "python",
   "name": "python3"
  },
  "language_info": {
   "codemirror_mode": {
    "name": "ipython",
    "version": 3
   },
   "file_extension": ".py",
   "mimetype": "text/x-python",
   "name": "python",
   "nbconvert_exporter": "python",
   "pygments_lexer": "ipython3",
   "version": "3.9.10"
  },
  "orig_nbformat": 4
 },
 "nbformat": 4,
 "nbformat_minor": 2
}
