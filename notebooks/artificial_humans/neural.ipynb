{
 "cells": [
  {
   "cell_type": "code",
   "execution_count": 1,
   "id": "1b78c98c",
   "metadata": {
    "tags": [
     "injected-parameters"
    ]
   },
   "outputs": [],
   "source": [
    "# Parameters\n",
    "y_encoding = \"ordinal\"\n",
    "x_encoding = [\n",
    "    {\"name\": \"prev_contributions\", \"n_levels\": 21, \"encoding\": \"numeric\"},\n",
    "    {\"name\": \"prev_punishments\", \"n_levels\": 31, \"encoding\": \"numeric\"},\n",
    "]\n",
    "n_contributions = 21\n",
    "n_punishments = 31\n",
    "n_cross_val = 2\n",
    "fraction_training = 1.0\n",
    "data = \"../../data/experiments/pilot_random1_player_round_slim.csv\"\n",
    "output_path = \"../../data/training/dev\"\n",
    "labels = {}\n",
    "model_args = {\"n_layers\": 2, \"hidden_size\": 40}\n",
    "optimizer_args = {\"lr\": 0.0001, \"weight_decay\": 1e-05}\n",
    "train_args = {\"epochs\": 1000, \"batch_size\": 40, \"clamp_grad\": 1, \"eval_period\": 10}\n",
    "device = \"cpu\"\n"
   ]
  },
  {
   "cell_type": "code",
   "execution_count": 2,
   "id": "44582683",
   "metadata": {
    "execution": {
     "iopub.execute_input": "2022-04-19T16:41:27.956497Z",
     "iopub.status.busy": "2022-04-19T16:41:27.956108Z",
     "iopub.status.idle": "2022-04-19T16:41:30.638413Z",
     "shell.execute_reply": "2022-04-19T16:41:30.637779Z"
    },
    "papermill": {
     "duration": 2.691081,
     "end_time": "2022-04-19T16:41:30.640419",
     "exception": false,
     "start_time": "2022-04-19T16:41:27.949338",
     "status": "completed"
    },
    "tags": []
   },
   "outputs": [
    {
     "name": "stderr",
     "output_type": "stream",
     "text": [
      "/home/mpib/brinkmann/repros/algorithmic-institutions/.venv/lib/python3.9/site-packages/tqdm/auto.py:22: TqdmWarning: IProgress not found. Please update jupyter and ipywidgets. See https://ipywidgets.readthedocs.io/en/stable/user_install.html\n",
      "  from .autonotebook import tqdm as notebook_tqdm\n"
     ]
    }
   ],
   "source": [
    "%load_ext autoreload\n",
    "%autoreload 2\n",
    "\n",
    "import os\n",
    "import pandas as pd\n",
    "import torch as th\n",
    "from aimanager.generic.data import create_syn_data, create_torch_data, get_cross_validations\n",
    "from aimanager.artificial_humans.artificial_humans import ArtificialHuman\n",
    "from aimanager.artificial_humans.evaluation import Evaluator\n",
    "\n",
    "output_path = os.path.join(output_path, 'data')"
   ]
  },
  {
   "cell_type": "code",
   "execution_count": 3,
   "id": "d840a14e",
   "metadata": {
    "execution": {
     "iopub.execute_input": "2022-04-19T16:41:30.654333Z",
     "iopub.status.busy": "2022-04-19T16:41:30.654106Z",
     "iopub.status.idle": "2022-04-19T16:41:31.576933Z",
     "shell.execute_reply": "2022-04-19T16:41:31.575973Z"
    },
    "papermill": {
     "duration": 0.932767,
     "end_time": "2022-04-19T16:41:31.578400",
     "exception": true,
     "start_time": "2022-04-19T16:41:30.645633",
     "status": "failed"
    },
    "tags": []
   },
   "outputs": [],
   "source": [
    "df = pd.read_csv(data)\n",
    "# df.head()"
   ]
  },
  {
   "cell_type": "code",
   "execution_count": 4,
   "id": "e6659c46",
   "metadata": {
    "execution": {
     "iopub.execute_input": "2022-02-15T16:13:44.221298Z",
     "iopub.status.busy": "2022-02-15T16:13:44.220802Z",
     "iopub.status.idle": "2022-02-15T16:13:44.264216Z",
     "shell.execute_reply": "2022-02-15T16:13:44.263653Z"
    },
    "papermill": {
     "duration": null,
     "end_time": null,
     "exception": null,
     "start_time": null,
     "status": "pending"
    },
    "tags": []
   },
   "outputs": [],
   "source": [
    "df = pd.read_csv(data)\n",
    "\n",
    "\n",
    "data = create_torch_data(df)\n",
    "syn_data = create_syn_data(n_contribution=21, n_punishment=31)"
   ]
  },
  {
   "cell_type": "code",
   "execution_count": 5,
   "id": "1f144b88",
   "metadata": {
    "execution": {
     "iopub.execute_input": "2022-02-15T16:13:44.354450Z",
     "iopub.status.busy": "2022-02-15T16:13:44.354021Z",
     "iopub.status.idle": "2022-02-15T16:14:11.080737Z",
     "shell.execute_reply": "2022-02-15T16:14:11.080147Z"
    },
    "papermill": {
     "duration": null,
     "end_time": null,
     "exception": null,
     "start_time": null,
     "status": "pending"
    },
    "tags": []
   },
   "outputs": [
    {
     "ename": "NotImplementedError",
     "evalue": "Currently not supported.",
     "output_type": "error",
     "traceback": [
      "\u001b[0;31m---------------------------------------------------------------------------\u001b[0m",
      "\u001b[0;31mNotImplementedError\u001b[0m                       Traceback (most recent call last)",
      "\u001b[1;32m/home/mpib/brinkmann/repros/algorithmic-institutions/notebooks/artificial_humans/neural.ipynb Cell 5'\u001b[0m in \u001b[0;36m<cell line: 8>\u001b[0;34m()\u001b[0m\n\u001b[1;32m      <a href='vscode-notebook-cell://ssh-remote%2Bcluster/home/mpib/brinkmann/repros/algorithmic-institutions/notebooks/artificial_humans/neural.ipynb#ch0000004vscode-remote?line=5'>6</a>\u001b[0m ev \u001b[39m=\u001b[39m Evaluator()\n\u001b[1;32m      <a href='vscode-notebook-cell://ssh-remote%2Bcluster/home/mpib/brinkmann/repros/algorithmic-institutions/notebooks/artificial_humans/neural.ipynb#ch0000004vscode-remote?line=7'>8</a>\u001b[0m \u001b[39mfor\u001b[39;00m i, (train_data, test_data) \u001b[39min\u001b[39;00m \u001b[39menumerate\u001b[39m(get_cross_validations(data, n_cross_val)):\n\u001b[0;32m----> <a href='vscode-notebook-cell://ssh-remote%2Bcluster/home/mpib/brinkmann/repros/algorithmic-institutions/notebooks/artificial_humans/neural.ipynb#ch0000004vscode-remote?line=8'>9</a>\u001b[0m     model \u001b[39m=\u001b[39m ArtificialHuman(\n\u001b[1;32m     <a href='vscode-notebook-cell://ssh-remote%2Bcluster/home/mpib/brinkmann/repros/algorithmic-institutions/notebooks/artificial_humans/neural.ipynb#ch0000004vscode-remote?line=9'>10</a>\u001b[0m         y_encoding\u001b[39m=\u001b[39;49my_encoding, n_contributions\u001b[39m=\u001b[39;49mn_contributions, n_punishments\u001b[39m=\u001b[39;49mn_punishments, x_encoding\u001b[39m=\u001b[39;49mx_encoding,\n\u001b[1;32m     <a href='vscode-notebook-cell://ssh-remote%2Bcluster/home/mpib/brinkmann/repros/algorithmic-institutions/notebooks/artificial_humans/neural.ipynb#ch0000004vscode-remote?line=10'>11</a>\u001b[0m         \u001b[39m*\u001b[39;49m\u001b[39m*\u001b[39;49mmodel_args)\u001b[39m.\u001b[39mto(th_device)\n\u001b[1;32m     <a href='vscode-notebook-cell://ssh-remote%2Bcluster/home/mpib/brinkmann/repros/algorithmic-institutions/notebooks/artificial_humans/neural.ipynb#ch0000004vscode-remote?line=12'>13</a>\u001b[0m     train_data \u001b[39m=\u001b[39m {\n\u001b[1;32m     <a href='vscode-notebook-cell://ssh-remote%2Bcluster/home/mpib/brinkmann/repros/algorithmic-institutions/notebooks/artificial_humans/neural.ipynb#ch0000004vscode-remote?line=13'>14</a>\u001b[0m         \u001b[39m*\u001b[39m\u001b[39m*\u001b[39mmodel\u001b[39m.\u001b[39mencode_x(\u001b[39m*\u001b[39m\u001b[39m*\u001b[39mtrain_data),\n\u001b[1;32m     <a href='vscode-notebook-cell://ssh-remote%2Bcluster/home/mpib/brinkmann/repros/algorithmic-institutions/notebooks/artificial_humans/neural.ipynb#ch0000004vscode-remote?line=14'>15</a>\u001b[0m         \u001b[39m*\u001b[39m\u001b[39m*\u001b[39mmodel\u001b[39m.\u001b[39mencode_y(\u001b[39m*\u001b[39m\u001b[39m*\u001b[39mtrain_data),\n\u001b[1;32m     <a href='vscode-notebook-cell://ssh-remote%2Bcluster/home/mpib/brinkmann/repros/algorithmic-institutions/notebooks/artificial_humans/neural.ipynb#ch0000004vscode-remote?line=15'>16</a>\u001b[0m         \u001b[39m*\u001b[39m\u001b[39m*\u001b[39mtrain_data\n\u001b[1;32m     <a href='vscode-notebook-cell://ssh-remote%2Bcluster/home/mpib/brinkmann/repros/algorithmic-institutions/notebooks/artificial_humans/neural.ipynb#ch0000004vscode-remote?line=16'>17</a>\u001b[0m     }\n\u001b[1;32m     <a href='vscode-notebook-cell://ssh-remote%2Bcluster/home/mpib/brinkmann/repros/algorithmic-institutions/notebooks/artificial_humans/neural.ipynb#ch0000004vscode-remote?line=17'>18</a>\u001b[0m     train_data \u001b[39m=\u001b[39m {\n\u001b[1;32m     <a href='vscode-notebook-cell://ssh-remote%2Bcluster/home/mpib/brinkmann/repros/algorithmic-institutions/notebooks/artificial_humans/neural.ipynb#ch0000004vscode-remote?line=18'>19</a>\u001b[0m         k: v\u001b[39m.\u001b[39mto(device)\n\u001b[1;32m     <a href='vscode-notebook-cell://ssh-remote%2Bcluster/home/mpib/brinkmann/repros/algorithmic-institutions/notebooks/artificial_humans/neural.ipynb#ch0000004vscode-remote?line=19'>20</a>\u001b[0m         \u001b[39mfor\u001b[39;00m k, v \u001b[39min\u001b[39;00m train_data\u001b[39m.\u001b[39mitems()\n\u001b[1;32m     <a href='vscode-notebook-cell://ssh-remote%2Bcluster/home/mpib/brinkmann/repros/algorithmic-institutions/notebooks/artificial_humans/neural.ipynb#ch0000004vscode-remote?line=20'>21</a>\u001b[0m     }\n",
      "File \u001b[0;32m/mnt/beegfs/home/brinkmann/repros/algorithmic-institutions/aimanager/artificial_humans/artificial_humans.py:11\u001b[0m, in \u001b[0;36mArtificialHuman.__init__\u001b[0;34m(self, n_contributions, n_punishments, y_encoding, x_encoding, model, **model_args)\u001b[0m\n\u001b[1;32m      <a href='file:///mnt/beegfs/home/brinkmann/repros/algorithmic-institutions/aimanager/artificial_humans/artificial_humans.py?line=8'>9</a>\u001b[0m \u001b[39msuper\u001b[39m(ArtificialHuman, \u001b[39mself\u001b[39m)\u001b[39m.\u001b[39m\u001b[39m__init__\u001b[39m()\n\u001b[1;32m     <a href='file:///mnt/beegfs/home/brinkmann/repros/algorithmic-institutions/aimanager/artificial_humans/artificial_humans.py?line=9'>10</a>\u001b[0m \u001b[39mif\u001b[39;00m y_encoding \u001b[39m==\u001b[39m \u001b[39m'\u001b[39m\u001b[39mordinal\u001b[39m\u001b[39m'\u001b[39m:\n\u001b[0;32m---> <a href='file:///mnt/beegfs/home/brinkmann/repros/algorithmic-institutions/aimanager/artificial_humans/artificial_humans.py?line=10'>11</a>\u001b[0m     \u001b[39mraise\u001b[39;00m \u001b[39mNotImplementedError\u001b[39;00m(\u001b[39m'\u001b[39m\u001b[39mCurrently not supported.\u001b[39m\u001b[39m'\u001b[39m)\n\u001b[1;32m     <a href='file:///mnt/beegfs/home/brinkmann/repros/algorithmic-institutions/aimanager/artificial_humans/artificial_humans.py?line=11'>12</a>\u001b[0m     output_size \u001b[39m=\u001b[39m (n_contributions \u001b[39m-\u001b[39m \u001b[39m1\u001b[39m)\n\u001b[1;32m     <a href='file:///mnt/beegfs/home/brinkmann/repros/algorithmic-institutions/aimanager/artificial_humans/artificial_humans.py?line=12'>13</a>\u001b[0m \u001b[39melif\u001b[39;00m y_encoding \u001b[39m==\u001b[39m \u001b[39m'\u001b[39m\u001b[39monehot\u001b[39m\u001b[39m'\u001b[39m:\n",
      "\u001b[0;31mNotImplementedError\u001b[0m: Currently not supported."
     ]
    }
   ],
   "source": [
    "th_device = th.device(device)\n",
    "\n",
    "metrics = []\n",
    "confusion_matrix = []\n",
    "syn_pred = []\n",
    "ev = Evaluator()\n",
    "\n",
    "for i, (train_data, test_data) in enumerate(get_cross_validations(data, n_cross_val)):\n",
    "    model = ArtificialHuman(\n",
    "        y_encoding=y_encoding, n_contributions=n_contributions, n_punishments=n_punishments, x_encoding=x_encoding,\n",
    "        **model_args).to(th_device)\n",
    "\n",
    "    train_data = {\n",
    "        **model.encode_x(**train_data),\n",
    "        **model.encode_y(**train_data),\n",
    "        **train_data\n",
    "    }\n",
    "    train_data = {\n",
    "        k: v.to(device)\n",
    "        for k, v in train_data.items()\n",
    "    }\n",
    "\n",
    "    test_data = {\n",
    "        **model.encode_x(**test_data),\n",
    "        **model.encode_y(**test_data),\n",
    "        **test_data\n",
    "    }\n",
    "    test_data = {\n",
    "        k: v.to(device)\n",
    "        for k, v in test_data.items()\n",
    "    }\n",
    "\n",
    "    syn_data_ = {\n",
    "        **model.encode_x(**syn_data),\n",
    "    }\n",
    "    syn_data_ = {\n",
    "        k: v.to(device)\n",
    "        for k, v in syn_data_.items()\n",
    "    }\n",
    "    ev.set_data(test=test_data, train=train_data, syn=syn_data_)\n",
    "\n",
    "    loss_fn = model.get_lossfn()\n",
    "\n",
    "    optimizer = th.optim.Adam(model.parameters(), **optimizer_args)\n",
    "    sum_loss = 0\n",
    "    n_steps = 0\n",
    "    batch_size = train_args['batch_size']\n",
    "\n",
    "    for e in range(train_args['epochs']):\n",
    "        ev.set_labels(cv_split=i, epoch=e)\n",
    "        model.train()\n",
    "        perm = th.randperm(train_data['ah_y_enc'].size(0))\n",
    "        for start_idx in range(0, train_data['ah_y_enc'].shape[0], batch_size):\n",
    "            end_idx = start_idx+batch_size\n",
    "            idx = perm[start_idx:end_idx]\n",
    "            batch_data = {\n",
    "                 k: v[idx]\n",
    "                for k, v in train_data.items()\n",
    "            }\n",
    "\n",
    "            optimizer.zero_grad()\n",
    "\n",
    "            py = model(**batch_data).flatten(end_dim=-2)\n",
    "            y_true = batch_data['ah_y_enc'].flatten(end_dim=-2)\n",
    "            mask = batch_data['valid'].flatten()\n",
    "\n",
    "            loss = loss_fn(py, y_true)\n",
    "\n",
    "            loss = (loss * mask).sum() / mask.sum()\n",
    "\n",
    "            loss.backward()\n",
    "\n",
    "            if train_args['clamp_grad']:\n",
    "                for param in model.parameters():\n",
    "                    param.grad.data.clamp_(-train_args['clamp_grad'], train_args['clamp_grad'])\n",
    "            optimizer.step()\n",
    "            sum_loss += loss.item()\n",
    "            n_steps +=1\n",
    "        \n",
    "        if e % train_args['eval_period'] == 0:\n",
    "            avg_loss = sum_loss/n_steps\n",
    "            print(f'CV {i} | Epoch {e} | Loss {avg_loss}')\n",
    "            ev.add_loss(avg_loss)\n",
    "            ev.eval_set(model, 'train')\n",
    "            ev.eval_set(model, 'test')\n",
    "            sum_loss = 0\n",
    "            n_steps = 0\n",
    "\n",
    "    ev.eval_sync(model)\n",
    "\n",
    "ev.save(output_path, labels)\n",
    "model_path = os.path.join(output_path, 'model.pt')\n",
    "model.save(model_path)\n"
   ]
  }
 ],
 "metadata": {
  "interpreter": {
   "hash": "b1198fd9370ee0cf82025240fa26724f68bfab1e3f74dbb4acdc06e7861d0dbe"
  },
  "kernelspec": {
   "display_name": "Python 3.9.10 64-bit ('.venv': venv)",
   "language": "python",
   "name": "python3"
  },
  "language_info": {
   "codemirror_mode": {
    "name": "ipython",
    "version": 3
   },
   "file_extension": ".py",
   "mimetype": "text/x-python",
   "name": "python",
   "nbconvert_exporter": "python",
   "pygments_lexer": "ipython3",
   "version": "3.9.10"
  },
  "papermill": {
   "default_parameters": {},
   "duration": 5.747884,
   "end_time": "2022-04-19T16:41:32.101998",
   "environment_variables": {},
   "exception": true,
   "input_path": "notebooks/artificial_humans/neural.ipynb",
   "output_path": "notebooks/artificial_humans/neural.ipynb",
   "parameters": {
    "data": "../../data/experiments/pilot_random1_player_round_slim.csv",
    "device": "cpu",
    "fraction_training": 1,
    "labels": {},
    "model_args": {
     "hidden_size": 40,
     "n_layers": 2
    },
    "n_contributions": 21,
    "n_cross_val": 2,
    "n_punishments": 31,
    "optimizer_args": {
     "lr": 0.0001,
     "weight_decay": 0.00001
    },
    "output_path": "../../data/training/dev",
    "train_args": {
     "batch_size": 40,
     "clamp_grad": 1,
     "epochs": 1000,
     "eval_period": 10
    },
    "x_encoding": [
     {
      "encoding": "numeric",
      "n_levels": 21,
      "name": "prev_contributions"
     },
     {
      "encoding": "numeric",
      "n_levels": 31,
      "name": "prev_punishments"
     }
    ],
    "y_encoding": "onehot"
   },
   "start_time": "2022-04-19T16:41:26.354114",
   "version": "2.3.4"
  }
 },
 "nbformat": 4,
 "nbformat_minor": 5
}
