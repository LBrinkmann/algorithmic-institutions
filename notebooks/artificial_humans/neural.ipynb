{
 "cells": [
  {
   "cell_type": "code",
   "execution_count": 25,
   "id": "2aaddd6e",
   "metadata": {
    "tags": [
     "injected-parameters"
    ]
   },
   "outputs": [],
   "source": [
    "# Parameters\n",
    "y_encoding = \"numeric\"\n",
    "# y_scaling = None\n",
    "y_scaling = \"sigmoid\"\n",
    "x_encoding = [\n",
    "    {\"name\": \"prev_contributions\", \"n_levels\": 21, \"encoding\": \"numeric\"},\n",
    "    {\"name\": \"prev_punishments\", \"n_levels\": 31, \"encoding\": \"numeric\"},\n",
    "    {\"name\": \"round_number\", \"n_levels\": 16, \"encoding\": \"numeric\"},\n",
    "    {\"name\": \"prev_common_good\", \"norm\": 128, \"etype\": \"float\"},\n",
    "    {\"name\": \"prev_valid\", \"etype\": \"bool\"},\n",
    "]\n",
    "n_contributions = 21\n",
    "n_punishments = 31\n",
    "n_cross_val = 2\n",
    "fraction_training = 1.0\n",
    "data = \"../../data/experiments/pilot_random1_player_round_slim.csv\"\n",
    "output_path = \"../../data/training/dev\"\n",
    "labels = {}\n",
    "model_args = {\"n_layers\": 2, \"hidden_size\": 40}\n",
    "optimizer_args = {\"lr\": 0.0001, \"weight_decay\": 1e-05}\n",
    "train_args = {\"epochs\": 1000, \"batch_size\": 40, \"clamp_grad\": 1, \"eval_period\": 10}\n",
    "device = \"cpu\"\n"
   ]
  },
  {
   "cell_type": "code",
   "execution_count": 26,
   "id": "44582683",
   "metadata": {
    "execution": {
     "iopub.execute_input": "2022-04-19T16:41:27.956497Z",
     "iopub.status.busy": "2022-04-19T16:41:27.956108Z",
     "iopub.status.idle": "2022-04-19T16:41:30.638413Z",
     "shell.execute_reply": "2022-04-19T16:41:30.637779Z"
    },
    "papermill": {
     "duration": 2.691081,
     "end_time": "2022-04-19T16:41:30.640419",
     "exception": false,
     "start_time": "2022-04-19T16:41:27.949338",
     "status": "completed"
    },
    "tags": []
   },
   "outputs": [
    {
     "name": "stdout",
     "output_type": "stream",
     "text": [
      "The autoreload extension is already loaded. To reload it, use:\n",
      "  %reload_ext autoreload\n"
     ]
    }
   ],
   "source": [
    "%load_ext autoreload\n",
    "%autoreload 2\n",
    "\n",
    "import os\n",
    "import pandas as pd\n",
    "import torch as th\n",
    "from aimanager.generic.data import create_syn_data, create_torch_data, get_cross_validations\n",
    "from aimanager.artificial_humans.artificial_humans import ArtificialHuman\n",
    "from aimanager.artificial_humans.evaluation import Evaluator\n",
    "\n",
    "output_path = os.path.join(output_path, 'data')"
   ]
  },
  {
   "cell_type": "code",
   "execution_count": 27,
   "id": "d840a14e",
   "metadata": {
    "execution": {
     "iopub.execute_input": "2022-04-19T16:41:30.654333Z",
     "iopub.status.busy": "2022-04-19T16:41:30.654106Z",
     "iopub.status.idle": "2022-04-19T16:41:31.576933Z",
     "shell.execute_reply": "2022-04-19T16:41:31.575973Z"
    },
    "papermill": {
     "duration": 0.932767,
     "end_time": "2022-04-19T16:41:31.578400",
     "exception": true,
     "start_time": "2022-04-19T16:41:30.645633",
     "status": "failed"
    },
    "tags": []
   },
   "outputs": [],
   "source": [
    "df = pd.read_csv(data)\n",
    "# df.head()"
   ]
  },
  {
   "cell_type": "code",
   "execution_count": 28,
   "id": "e6659c46",
   "metadata": {
    "execution": {
     "iopub.execute_input": "2022-02-15T16:13:44.221298Z",
     "iopub.status.busy": "2022-02-15T16:13:44.220802Z",
     "iopub.status.idle": "2022-02-15T16:13:44.264216Z",
     "shell.execute_reply": "2022-02-15T16:13:44.263653Z"
    },
    "papermill": {
     "duration": null,
     "end_time": null,
     "exception": null,
     "start_time": null,
     "status": "pending"
    },
    "tags": []
   },
   "outputs": [],
   "source": [
    "df = pd.read_csv(data)\n",
    "\n",
    "\n",
    "data = create_torch_data(df)\n",
    "syn_data = create_syn_data(n_contribution=21, n_punishment=31)"
   ]
  },
  {
   "cell_type": "code",
   "execution_count": 29,
   "id": "1f144b88",
   "metadata": {
    "execution": {
     "iopub.execute_input": "2022-02-15T16:13:44.354450Z",
     "iopub.status.busy": "2022-02-15T16:13:44.354021Z",
     "iopub.status.idle": "2022-02-15T16:14:11.080737Z",
     "shell.execute_reply": "2022-02-15T16:14:11.080147Z"
    },
    "papermill": {
     "duration": null,
     "end_time": null,
     "exception": null,
     "start_time": null,
     "status": "pending"
    },
    "tags": []
   },
   "outputs": [
    {
     "name": "stdout",
     "output_type": "stream",
     "text": [
      "CV 0 | Epoch 0 | Loss 0.1677784025669098\n",
      "CV 0 | Epoch 10 | Loss 0.16870973370969294\n",
      "CV 0 | Epoch 20 | Loss 0.16650813147425653\n",
      "CV 0 | Epoch 30 | Loss 0.16433122791349888\n",
      "CV 0 | Epoch 40 | Loss 0.16142478063702584\n",
      "CV 0 | Epoch 50 | Loss 0.15950731411576272\n",
      "CV 0 | Epoch 60 | Loss 0.1568109642714262\n",
      "CV 0 | Epoch 70 | Loss 0.1545842967927456\n",
      "CV 0 | Epoch 80 | Loss 0.1523510541766882\n",
      "CV 0 | Epoch 90 | Loss 0.14973372928798198\n",
      "CV 0 | Epoch 100 | Loss 0.14757166057825089\n",
      "CV 0 | Epoch 110 | Loss 0.14542916771024467\n",
      "CV 0 | Epoch 120 | Loss 0.14260158985853194\n",
      "CV 0 | Epoch 130 | Loss 0.14064304456114768\n",
      "CV 0 | Epoch 140 | Loss 0.1376107219606638\n",
      "CV 0 | Epoch 150 | Loss 0.13536823838949202\n",
      "CV 0 | Epoch 160 | Loss 0.13449956402182578\n",
      "CV 0 | Epoch 170 | Loss 0.13027400113642215\n",
      "CV 0 | Epoch 180 | Loss 0.1285807903856039\n",
      "CV 0 | Epoch 190 | Loss 0.1264505648985505\n",
      "CV 0 | Epoch 200 | Loss 0.1237873500213027\n",
      "CV 0 | Epoch 210 | Loss 0.12184034213423729\n",
      "CV 0 | Epoch 220 | Loss 0.12014995086938143\n",
      "CV 0 | Epoch 230 | Loss 0.11882270202040672\n",
      "CV 0 | Epoch 240 | Loss 0.11604234632104635\n",
      "CV 0 | Epoch 250 | Loss 0.1132480850443244\n",
      "CV 0 | Epoch 260 | Loss 0.11183118633925915\n",
      "CV 0 | Epoch 270 | Loss 0.11014731656759977\n",
      "CV 0 | Epoch 280 | Loss 0.10742354542016982\n",
      "CV 0 | Epoch 290 | Loss 0.10649075899273157\n",
      "CV 0 | Epoch 300 | Loss 0.10366982650011777\n",
      "CV 0 | Epoch 310 | Loss 0.10276449359953403\n",
      "CV 0 | Epoch 320 | Loss 0.10141492150723934\n",
      "CV 0 | Epoch 330 | Loss 0.09897898267954588\n",
      "CV 0 | Epoch 340 | Loss 0.09829250555485487\n",
      "CV 0 | Epoch 350 | Loss 0.09634859878569842\n",
      "CV 0 | Epoch 360 | Loss 0.09485509339720011\n",
      "CV 0 | Epoch 370 | Loss 0.09405477624386549\n",
      "CV 0 | Epoch 380 | Loss 0.0920476472005248\n",
      "CV 0 | Epoch 390 | Loss 0.09097611550241709\n",
      "CV 0 | Epoch 400 | Loss 0.09042354673147202\n",
      "CV 0 | Epoch 410 | Loss 0.08922822922468185\n",
      "CV 0 | Epoch 420 | Loss 0.08791773431003094\n",
      "CV 0 | Epoch 430 | Loss 0.08683298937976361\n",
      "CV 0 | Epoch 440 | Loss 0.08597525991499425\n",
      "CV 0 | Epoch 450 | Loss 0.08561853654682636\n",
      "CV 0 | Epoch 460 | Loss 0.08429963514208794\n",
      "CV 0 | Epoch 470 | Loss 0.08301063105463982\n",
      "CV 0 | Epoch 480 | Loss 0.08304446823894977\n",
      "CV 0 | Epoch 490 | Loss 0.08151438795030116\n",
      "CV 0 | Epoch 500 | Loss 0.0818345109000802\n",
      "CV 0 | Epoch 510 | Loss 0.08123808484524489\n",
      "CV 0 | Epoch 520 | Loss 0.08020163308829069\n",
      "CV 0 | Epoch 530 | Loss 0.07981936931610108\n",
      "CV 0 | Epoch 540 | Loss 0.07934212386608124\n",
      "CV 0 | Epoch 550 | Loss 0.07839681524783373\n",
      "CV 0 | Epoch 560 | Loss 0.07827082499861718\n",
      "CV 0 | Epoch 570 | Loss 0.07758815251290799\n",
      "CV 0 | Epoch 580 | Loss 0.07716086655855178\n",
      "CV 0 | Epoch 590 | Loss 0.076060033403337\n",
      "CV 0 | Epoch 600 | Loss 0.07671957742422819\n",
      "CV 0 | Epoch 610 | Loss 0.0760714903473854\n",
      "CV 0 | Epoch 620 | Loss 0.07525397213175893\n",
      "CV 0 | Epoch 630 | Loss 0.07490311618894338\n",
      "CV 0 | Epoch 640 | Loss 0.07504628766328096\n",
      "CV 0 | Epoch 650 | Loss 0.07460392825305462\n",
      "CV 0 | Epoch 660 | Loss 0.07430371548980474\n",
      "CV 0 | Epoch 670 | Loss 0.0745193250477314\n",
      "CV 0 | Epoch 680 | Loss 0.07347559090703726\n",
      "CV 0 | Epoch 690 | Loss 0.07351235244423152\n",
      "CV 0 | Epoch 700 | Loss 0.07369054369628429\n",
      "CV 0 | Epoch 710 | Loss 0.07327266912907363\n",
      "CV 0 | Epoch 720 | Loss 0.0728849139995873\n",
      "CV 0 | Epoch 730 | Loss 0.07325211782008409\n",
      "CV 0 | Epoch 740 | Loss 0.07232246175408363\n",
      "CV 0 | Epoch 750 | Loss 0.07249081041663885\n",
      "CV 0 | Epoch 760 | Loss 0.07227331474423408\n",
      "CV 0 | Epoch 770 | Loss 0.07171985581517219\n",
      "CV 0 | Epoch 780 | Loss 0.07245270255953074\n",
      "CV 0 | Epoch 790 | Loss 0.07147027626633644\n",
      "CV 0 | Epoch 800 | Loss 0.07160770734772086\n",
      "CV 0 | Epoch 810 | Loss 0.07092409040778876\n",
      "CV 0 | Epoch 820 | Loss 0.07119261613115668\n",
      "CV 0 | Epoch 830 | Loss 0.07099512405693531\n",
      "CV 0 | Epoch 840 | Loss 0.07078248588368297\n",
      "CV 0 | Epoch 850 | Loss 0.07123210309073329\n",
      "CV 0 | Epoch 860 | Loss 0.07106398027390241\n",
      "CV 0 | Epoch 870 | Loss 0.07045988123863936\n",
      "CV 0 | Epoch 880 | Loss 0.0702671766281128\n",
      "CV 0 | Epoch 890 | Loss 0.07031334061175584\n",
      "CV 0 | Epoch 900 | Loss 0.07035128278657794\n",
      "CV 0 | Epoch 910 | Loss 0.07059351801872253\n",
      "CV 0 | Epoch 920 | Loss 0.07056133477017283\n",
      "CV 0 | Epoch 930 | Loss 0.06947689726948739\n",
      "CV 0 | Epoch 940 | Loss 0.07039042403921485\n",
      "CV 0 | Epoch 950 | Loss 0.0698392691090703\n",
      "CV 0 | Epoch 960 | Loss 0.06952921971678734\n",
      "CV 0 | Epoch 970 | Loss 0.07014653962105513\n",
      "CV 0 | Epoch 980 | Loss 0.06957587357610465\n",
      "CV 0 | Epoch 990 | Loss 0.06994618000462652\n"
     ]
    }
   ],
   "source": [
    "th_device = th.device(device)\n",
    "\n",
    "metrics = []\n",
    "confusion_matrix = []\n",
    "syn_pred = []\n",
    "ev = Evaluator()\n",
    "\n",
    "for i, (train_data, test_data) in enumerate(get_cross_validations(data, n_cross_val)):\n",
    "    model = ArtificialHuman(\n",
    "        y_encoding=y_encoding, n_contributions=n_contributions, n_punishments=n_punishments, x_encoding=x_encoding,\n",
    "        **model_args).to(th_device)\n",
    "\n",
    "    train_data = {\n",
    "        **model.encode_x(**train_data),\n",
    "        **model.encode_y(**train_data),\n",
    "        **train_data\n",
    "    }\n",
    "    train_data = {\n",
    "        k: v.to(device)\n",
    "        for k, v in train_data.items()\n",
    "    }\n",
    "\n",
    "    test_data = {\n",
    "        **model.encode_x(**test_data),\n",
    "        **model.encode_y(**test_data),\n",
    "        **test_data\n",
    "    }\n",
    "    test_data = {\n",
    "        k: v.to(device)\n",
    "        for k, v in test_data.items()\n",
    "    }\n",
    "\n",
    "    syn_data_ = {\n",
    "        **model.encode_x(**syn_data),\n",
    "    }\n",
    "    syn_data_ = {\n",
    "        k: v.to(device)\n",
    "        for k, v in syn_data_.items()\n",
    "    }\n",
    "    ev.set_data(test=test_data, train=train_data, syn=syn_data_)\n",
    "\n",
    "    loss_fn = model.get_lossfn()\n",
    "\n",
    "    optimizer = th.optim.Adam(model.parameters(), **optimizer_args)\n",
    "    sum_loss = 0\n",
    "    n_steps = 0\n",
    "    batch_size = train_args['batch_size']\n",
    "\n",
    "    for e in range(train_args['epochs']):\n",
    "        ev.set_labels(cv_split=i, epoch=e)\n",
    "        model.train()\n",
    "        perm = th.randperm(train_data['ah_y_enc'].size(0))\n",
    "        for start_idx in range(0, train_data['ah_y_enc'].shape[0], batch_size):\n",
    "            end_idx = start_idx+batch_size\n",
    "            idx = perm[start_idx:end_idx]\n",
    "            batch_data = {\n",
    "                 k: v[idx]\n",
    "                for k, v in train_data.items()\n",
    "            }\n",
    "\n",
    "            optimizer.zero_grad()\n",
    "\n",
    "            py = model(**batch_data).flatten(end_dim=-2)\n",
    "            y_true = batch_data['ah_y_enc'].flatten(end_dim=-2)\n",
    "            mask = batch_data['valid'].flatten()\n",
    "\n",
    "            loss = loss_fn(py, y_true)\n",
    "\n",
    "            loss = (loss * mask).sum() / mask.sum()\n",
    "\n",
    "            loss.backward()\n",
    "\n",
    "            if train_args['clamp_grad']:\n",
    "                for param in model.parameters():\n",
    "                    param.grad.data.clamp_(-train_args['clamp_grad'], train_args['clamp_grad'])\n",
    "            optimizer.step()\n",
    "            sum_loss += loss.item()\n",
    "            n_steps +=1\n",
    "        \n",
    "        if e % train_args['eval_period'] == 0:\n",
    "            avg_loss = sum_loss/n_steps\n",
    "            print(f'CV {i} | Epoch {e} | Loss {avg_loss}')\n",
    "            ev.add_loss(avg_loss)\n",
    "            ev.eval_set(model, 'train')\n",
    "            ev.eval_set(model, 'test')\n",
    "            sum_loss = 0\n",
    "            n_steps = 0\n",
    "\n",
    "    ev.eval_sync(model)\n",
    "\n",
    "ev.save(output_path, labels)\n",
    "model_path = os.path.join(output_path, 'model.pt')\n",
    "model.save(model_path)"
   ]
  }
 ],
 "metadata": {
  "interpreter": {
   "hash": "b1198fd9370ee0cf82025240fa26724f68bfab1e3f74dbb4acdc06e7861d0dbe"
  },
  "kernelspec": {
   "display_name": "Python 3.9.10 64-bit ('.venv': venv)",
   "language": "python",
   "name": "python3"
  },
  "language_info": {
   "codemirror_mode": {
    "name": "ipython",
    "version": 3
   },
   "file_extension": ".py",
   "mimetype": "text/x-python",
   "name": "python",
   "nbconvert_exporter": "python",
   "pygments_lexer": "ipython3",
   "version": "3.9.10"
  },
  "papermill": {
   "default_parameters": {},
   "duration": 5.747884,
   "end_time": "2022-04-19T16:41:32.101998",
   "environment_variables": {},
   "exception": true,
   "input_path": "notebooks/artificial_humans/neural.ipynb",
   "output_path": "notebooks/artificial_humans/neural.ipynb",
   "parameters": {
    "data": "../../data/experiments/pilot_random1_player_round_slim.csv",
    "device": "cpu",
    "fraction_training": 1,
    "labels": {},
    "model_args": {
     "hidden_size": 40,
     "n_layers": 2
    },
    "n_contributions": 21,
    "n_cross_val": 2,
    "n_punishments": 31,
    "optimizer_args": {
     "lr": 0.0001,
     "weight_decay": 0.00001
    },
    "output_path": "../../data/training/dev",
    "train_args": {
     "batch_size": 40,
     "clamp_grad": 1,
     "epochs": 1000,
     "eval_period": 10
    },
    "x_encoding": [
     {
      "encoding": "numeric",
      "n_levels": 21,
      "name": "prev_contributions"
     },
     {
      "encoding": "numeric",
      "n_levels": 31,
      "name": "prev_punishments"
     },
     {
      "encoding": "numeric",
      "n_levels": 16,
      "name": "round_number"
     },
     {
      "etype": "float",
      "name": "prev_common_good",
      "norm": 128
     },
     {
      "etype": "bool",
      "name": "prev_valid"
     }
    ],
    "y_encoding": "numeric"
   },
   "start_time": "2022-04-19T16:41:26.354114",
   "version": "2.3.4"
  }
 },
 "nbformat": 4,
 "nbformat_minor": 5
}
