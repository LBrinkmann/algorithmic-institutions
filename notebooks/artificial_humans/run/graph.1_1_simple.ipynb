{
 "cells": [
  {
   "cell_type": "code",
   "execution_count": 1,
   "id": "a64f6e70",
   "metadata": {
    "execution": {
     "iopub.execute_input": "2022-07-06T18:58:02.760957Z",
     "iopub.status.busy": "2022-07-06T18:58:02.760280Z",
     "iopub.status.idle": "2022-07-06T18:58:02.779457Z",
     "shell.execute_reply": "2022-07-06T18:58:02.778809Z"
    },
    "papermill": {
     "duration": 0.031089,
     "end_time": "2022-07-06T18:58:02.781190",
     "exception": false,
     "start_time": "2022-07-06T18:58:02.750101",
     "status": "completed"
    },
    "tags": [
     "injected-parameters"
    ]
   },
   "outputs": [],
   "source": [
    "# Parameters\n",
    "fraction_training = 1.0\n",
    "n_cross_val = None\n",
    "n_player = 4\n",
    "data_file = \"../../data/experiments/pilot_random1_player_round_slim.csv\"\n",
    "output_path = \"../../data/artificial_humans/ah_1_1_simple\"\n",
    "model_name = \"graph\"\n",
    "shuffle_features = [\n",
    "    \"prev_punishments\",\n",
    "    \"prev_contributions\",\n",
    "    \"prev_common_good\",\n",
    "    \"prev_valid\",\n",
    "]\n",
    "labels = {}\n",
    "model_args = {\n",
    "    \"hidden_size\": 5,\n",
    "    \"add_rnn\": False,\n",
    "    \"add_edge_model\": False,\n",
    "    \"add_global_model\": False,\n",
    "    \"x_encoding\": [\n",
    "        {\"name\": \"prev_contributions\", \"n_levels\": 21, \"encoding\": \"numeric\"},\n",
    "        {\"name\": \"prev_punishments\", \"n_levels\": 31, \"encoding\": \"numeric\"},\n",
    "        {\"etype\": \"bool\", \"name\": \"prev_valid\"},\n",
    "    ],\n",
    "    \"u_encoding\": [],\n",
    "    \"y_levels\": 21,\n",
    "    \"y_name\": \"contributions\",\n",
    "}\n",
    "mask_name = \"valid\"\n",
    "experiment_names = [\"trail_rounds_2\", \"random_1\"]\n",
    "optimizer_args = {\"lr\": 0.001, \"weight_decay\": 1e-05}\n",
    "train_args = {\"epochs\": 2000, \"batch_size\": 10, \"clamp_grad\": 1, \"eval_period\": 10}\n",
    "device = \"cpu\"\n"
   ]
  },
  {
   "cell_type": "code",
   "execution_count": 2,
   "id": "44582683",
   "metadata": {
    "execution": {
     "iopub.execute_input": "2022-07-06T18:58:02.791312Z",
     "iopub.status.busy": "2022-07-06T18:58:02.790843Z",
     "iopub.status.idle": "2022-07-06T18:58:14.610627Z",
     "shell.execute_reply": "2022-07-06T18:58:14.609130Z"
    },
    "papermill": {
     "duration": 11.829445,
     "end_time": "2022-07-06T18:58:14.614581",
     "exception": false,
     "start_time": "2022-07-06T18:58:02.785136",
     "status": "completed"
    },
    "tags": []
   },
   "outputs": [
    {
     "name": "stderr",
     "output_type": "stream",
     "text": [
      "/mnt/beegfs/home/brinkmann/repros/algorithmic-institutions/.venv/lib/python3.9/site-packages/tqdm/auto.py:22: TqdmWarning: IProgress not found. Please update jupyter and ipywidgets. See https://ipywidgets.readthedocs.io/en/stable/user_install.html\n",
      "  from .autonotebook import tqdm as notebook_tqdm\n"
     ]
    }
   ],
   "source": [
    "%load_ext autoreload\n",
    "%autoreload 2\n",
    "\n",
    "import os\n",
    "import pandas as pd\n",
    "import torch as th\n",
    "from aimanager.generic.data import create_syn_data, create_torch_data, get_cross_validations\n",
    "from aimanager.artificial_humans import AH_MODELS\n",
    "from aimanager.artificial_humans.evaluation import Evaluator\n",
    "from aimanager.utils.array_to_df import using_multiindex\n",
    "from aimanager.generic.graph_encode import create_fully_connected\n",
    "from torch_geometric.data import Batch\n",
    "from torch_geometric.loader import DataLoader\n",
    "\n",
    "output_path = os.path.join(output_path, 'data')"
   ]
  },
  {
   "cell_type": "code",
   "execution_count": 3,
   "id": "e6659c46",
   "metadata": {
    "execution": {
     "iopub.execute_input": "2022-07-06T18:58:14.628693Z",
     "iopub.status.busy": "2022-07-06T18:58:14.627932Z",
     "iopub.status.idle": "2022-07-06T18:58:18.578490Z",
     "shell.execute_reply": "2022-07-06T18:58:18.577339Z"
    },
    "papermill": {
     "duration": 3.959318,
     "end_time": "2022-07-06T18:58:18.580502",
     "exception": false,
     "start_time": "2022-07-06T18:58:14.621184",
     "status": "completed"
    },
    "tags": []
   },
   "outputs": [],
   "source": [
    "df = pd.read_csv(data_file)\n",
    "\n",
    "df = df[df['experiment_name'].isin(experiment_names)]\n",
    "\n",
    "data, default_values = create_torch_data(df)\n",
    "# syn_data = create_syn_data(n_contribution=21, n_punishment=31, default_values=default_values)"
   ]
  },
  {
   "cell_type": "code",
   "execution_count": 4,
   "id": "1f144b88",
   "metadata": {
    "execution": {
     "iopub.execute_input": "2022-07-06T18:58:18.592439Z",
     "iopub.status.busy": "2022-07-06T18:58:18.591526Z",
     "iopub.status.idle": "2022-07-06T19:00:03.600803Z",
     "shell.execute_reply": "2022-07-06T19:00:03.599885Z"
    },
    "papermill": {
     "duration": 105.017107,
     "end_time": "2022-07-06T19:00:03.603409",
     "exception": false,
     "start_time": "2022-07-06T18:58:18.586302",
     "status": "completed"
    },
    "tags": []
   },
   "outputs": [
    {
     "name": "stdout",
     "output_type": "stream",
     "text": [
      "CV 0 | Epoch 0 | Loss 3.2217195204326083\n"
     ]
    },
    {
     "name": "stdout",
     "output_type": "stream",
     "text": [
      "CV 0 | Epoch 10 | Loss 3.1040441376822336\n"
     ]
    },
    {
     "name": "stdout",
     "output_type": "stream",
     "text": [
      "CV 0 | Epoch 20 | Loss 2.8315121361187527\n"
     ]
    },
    {
     "name": "stdout",
     "output_type": "stream",
     "text": [
      "CV 0 | Epoch 30 | Loss 2.5433589577674867\n"
     ]
    },
    {
     "name": "stdout",
     "output_type": "stream",
     "text": [
      "CV 0 | Epoch 40 | Loss 2.4814128041267396\n"
     ]
    },
    {
     "name": "stdout",
     "output_type": "stream",
     "text": [
      "CV 0 | Epoch 50 | Loss 2.465010060582842\n"
     ]
    },
    {
     "name": "stdout",
     "output_type": "stream",
     "text": [
      "CV 0 | Epoch 60 | Loss 2.4462982654571532\n"
     ]
    },
    {
     "name": "stdout",
     "output_type": "stream",
     "text": [
      "CV 0 | Epoch 70 | Loss 2.427445639031274\n"
     ]
    },
    {
     "name": "stdout",
     "output_type": "stream",
     "text": [
      "CV 0 | Epoch 80 | Loss 2.4173668009894236\n"
     ]
    },
    {
     "name": "stdout",
     "output_type": "stream",
     "text": [
      "CV 0 | Epoch 90 | Loss 2.3952109456062316\n"
     ]
    },
    {
     "name": "stdout",
     "output_type": "stream",
     "text": [
      "CV 0 | Epoch 100 | Loss 2.391174862214497\n"
     ]
    },
    {
     "name": "stdout",
     "output_type": "stream",
     "text": [
      "CV 0 | Epoch 110 | Loss 2.369913921185902\n"
     ]
    },
    {
     "name": "stdout",
     "output_type": "stream",
     "text": [
      "CV 0 | Epoch 120 | Loss 2.3577675947121213\n"
     ]
    },
    {
     "name": "stdout",
     "output_type": "stream",
     "text": [
      "CV 0 | Epoch 130 | Loss 2.3451263581003463\n"
     ]
    },
    {
     "name": "stdout",
     "output_type": "stream",
     "text": [
      "CV 0 | Epoch 140 | Loss 2.3374577156135015\n"
     ]
    },
    {
     "name": "stdout",
     "output_type": "stream",
     "text": [
      "CV 0 | Epoch 150 | Loss 2.3275561801024844\n"
     ]
    },
    {
     "name": "stdout",
     "output_type": "stream",
     "text": [
      "CV 0 | Epoch 160 | Loss 2.3089271775313787\n"
     ]
    },
    {
     "name": "stdout",
     "output_type": "stream",
     "text": [
      "CV 0 | Epoch 170 | Loss 2.3036900350025724\n"
     ]
    },
    {
     "name": "stdout",
     "output_type": "stream",
     "text": [
      "CV 0 | Epoch 180 | Loss 2.2898571406091963\n"
     ]
    },
    {
     "name": "stdout",
     "output_type": "stream",
     "text": [
      "CV 0 | Epoch 190 | Loss 2.2804923364094325\n"
     ]
    },
    {
     "name": "stdout",
     "output_type": "stream",
     "text": [
      "CV 0 | Epoch 200 | Loss 2.277889965261732\n"
     ]
    },
    {
     "name": "stdout",
     "output_type": "stream",
     "text": [
      "CV 0 | Epoch 210 | Loss 2.272124843086515\n"
     ]
    },
    {
     "name": "stdout",
     "output_type": "stream",
     "text": [
      "CV 0 | Epoch 220 | Loss 2.257448502097811\n"
     ]
    },
    {
     "name": "stdout",
     "output_type": "stream",
     "text": [
      "CV 0 | Epoch 230 | Loss 2.2569517586912426\n"
     ]
    },
    {
     "name": "stdout",
     "output_type": "stream",
     "text": [
      "CV 0 | Epoch 240 | Loss 2.24315773333822\n"
     ]
    },
    {
     "name": "stdout",
     "output_type": "stream",
     "text": [
      "CV 0 | Epoch 250 | Loss 2.2449071594647\n"
     ]
    },
    {
     "name": "stdout",
     "output_type": "stream",
     "text": [
      "CV 0 | Epoch 260 | Loss 2.2361351805073872\n"
     ]
    },
    {
     "name": "stdout",
     "output_type": "stream",
     "text": [
      "CV 0 | Epoch 270 | Loss 2.2312750220298767\n"
     ]
    },
    {
     "name": "stdout",
     "output_type": "stream",
     "text": [
      "CV 0 | Epoch 280 | Loss 2.2193724410874505\n"
     ]
    },
    {
     "name": "stdout",
     "output_type": "stream",
     "text": [
      "CV 0 | Epoch 290 | Loss 2.2226219262395586\n"
     ]
    },
    {
     "name": "stdout",
     "output_type": "stream",
     "text": [
      "CV 0 | Epoch 300 | Loss 2.204880336352757\n"
     ]
    },
    {
     "name": "stdout",
     "output_type": "stream",
     "text": [
      "CV 0 | Epoch 310 | Loss 2.191867564405714\n"
     ]
    },
    {
     "name": "stdout",
     "output_type": "stream",
     "text": [
      "CV 0 | Epoch 320 | Loss 2.193220079796655\n"
     ]
    },
    {
     "name": "stdout",
     "output_type": "stream",
     "text": [
      "CV 0 | Epoch 330 | Loss 2.1825887492724827\n"
     ]
    },
    {
     "name": "stdout",
     "output_type": "stream",
     "text": [
      "CV 0 | Epoch 340 | Loss 2.177130093744823\n"
     ]
    },
    {
     "name": "stdout",
     "output_type": "stream",
     "text": [
      "CV 0 | Epoch 350 | Loss 2.1698235648018973\n"
     ]
    },
    {
     "name": "stdout",
     "output_type": "stream",
     "text": [
      "CV 0 | Epoch 360 | Loss 2.1672125611986433\n"
     ]
    },
    {
     "name": "stdout",
     "output_type": "stream",
     "text": [
      "CV 0 | Epoch 370 | Loss 2.154352333715984\n"
     ]
    },
    {
     "name": "stdout",
     "output_type": "stream",
     "text": [
      "CV 0 | Epoch 380 | Loss 2.1532169912542614\n"
     ]
    },
    {
     "name": "stdout",
     "output_type": "stream",
     "text": [
      "CV 0 | Epoch 390 | Loss 2.1371764404433113\n"
     ]
    },
    {
     "name": "stdout",
     "output_type": "stream",
     "text": [
      "CV 0 | Epoch 400 | Loss 2.1407703604016985\n"
     ]
    },
    {
     "name": "stdout",
     "output_type": "stream",
     "text": [
      "CV 0 | Epoch 410 | Loss 2.129302153417042\n"
     ]
    },
    {
     "name": "stdout",
     "output_type": "stream",
     "text": [
      "CV 0 | Epoch 420 | Loss 2.1339898603303094\n"
     ]
    },
    {
     "name": "stdout",
     "output_type": "stream",
     "text": [
      "CV 0 | Epoch 430 | Loss 2.1324758887290955\n"
     ]
    },
    {
     "name": "stdout",
     "output_type": "stream",
     "text": [
      "CV 0 | Epoch 440 | Loss 2.117849039179938\n"
     ]
    },
    {
     "name": "stdout",
     "output_type": "stream",
     "text": [
      "CV 0 | Epoch 450 | Loss 2.119842402424131\n"
     ]
    },
    {
     "name": "stdout",
     "output_type": "stream",
     "text": [
      "CV 0 | Epoch 460 | Loss 2.1098273805209566\n"
     ]
    },
    {
     "name": "stdout",
     "output_type": "stream",
     "text": [
      "CV 0 | Epoch 470 | Loss 2.103941284758704\n"
     ]
    },
    {
     "name": "stdout",
     "output_type": "stream",
     "text": [
      "CV 0 | Epoch 480 | Loss 2.1042658388614655\n"
     ]
    },
    {
     "name": "stdout",
     "output_type": "stream",
     "text": [
      "CV 0 | Epoch 490 | Loss 2.101267626455852\n"
     ]
    },
    {
     "name": "stdout",
     "output_type": "stream",
     "text": [
      "CV 0 | Epoch 500 | Loss 2.0897314071655275\n"
     ]
    },
    {
     "name": "stdout",
     "output_type": "stream",
     "text": [
      "CV 0 | Epoch 510 | Loss 2.0828457244804928\n"
     ]
    },
    {
     "name": "stdout",
     "output_type": "stream",
     "text": [
      "CV 0 | Epoch 520 | Loss 2.0820424377918245\n"
     ]
    },
    {
     "name": "stdout",
     "output_type": "stream",
     "text": [
      "CV 0 | Epoch 530 | Loss 2.086986775909151\n"
     ]
    },
    {
     "name": "stdout",
     "output_type": "stream",
     "text": [
      "CV 0 | Epoch 540 | Loss 2.0788648792675564\n"
     ]
    },
    {
     "name": "stdout",
     "output_type": "stream",
     "text": [
      "CV 0 | Epoch 550 | Loss 2.075914006573813\n"
     ]
    },
    {
     "name": "stdout",
     "output_type": "stream",
     "text": [
      "CV 0 | Epoch 560 | Loss 2.07006123321397\n"
     ]
    },
    {
     "name": "stdout",
     "output_type": "stream",
     "text": [
      "CV 0 | Epoch 570 | Loss 2.0766502618789673\n"
     ]
    },
    {
     "name": "stdout",
     "output_type": "stream",
     "text": [
      "CV 0 | Epoch 580 | Loss 2.063584386450904\n"
     ]
    },
    {
     "name": "stdout",
     "output_type": "stream",
     "text": [
      "CV 0 | Epoch 590 | Loss 2.0610405726092202\n"
     ]
    },
    {
     "name": "stdout",
     "output_type": "stream",
     "text": [
      "CV 0 | Epoch 600 | Loss 2.063654966865267\n"
     ]
    },
    {
     "name": "stdout",
     "output_type": "stream",
     "text": [
      "CV 0 | Epoch 610 | Loss 2.0540550666196005\n"
     ]
    },
    {
     "name": "stdout",
     "output_type": "stream",
     "text": [
      "CV 0 | Epoch 620 | Loss 2.0592568022864204\n"
     ]
    },
    {
     "name": "stdout",
     "output_type": "stream",
     "text": [
      "CV 0 | Epoch 630 | Loss 2.0555728767599377\n"
     ]
    },
    {
     "name": "stdout",
     "output_type": "stream",
     "text": [
      "CV 0 | Epoch 640 | Loss 2.052333391564233\n"
     ]
    },
    {
     "name": "stdout",
     "output_type": "stream",
     "text": [
      "CV 0 | Epoch 650 | Loss 2.055504884890148\n"
     ]
    },
    {
     "name": "stdout",
     "output_type": "stream",
     "text": [
      "CV 0 | Epoch 660 | Loss 2.050924125739506\n"
     ]
    },
    {
     "name": "stdout",
     "output_type": "stream",
     "text": [
      "CV 0 | Epoch 670 | Loss 2.052869858060564\n"
     ]
    },
    {
     "name": "stdout",
     "output_type": "stream",
     "text": [
      "CV 0 | Epoch 680 | Loss 2.047356303674834\n"
     ]
    },
    {
     "name": "stdout",
     "output_type": "stream",
     "text": [
      "CV 0 | Epoch 690 | Loss 2.0466870980603353\n"
     ]
    },
    {
     "name": "stdout",
     "output_type": "stream",
     "text": [
      "CV 0 | Epoch 700 | Loss 2.0437390880925315\n"
     ]
    },
    {
     "name": "stdout",
     "output_type": "stream",
     "text": [
      "CV 0 | Epoch 710 | Loss 2.0472152471542358\n"
     ]
    },
    {
     "name": "stdout",
     "output_type": "stream",
     "text": [
      "CV 0 | Epoch 720 | Loss 2.0410083251340048\n"
     ]
    },
    {
     "name": "stdout",
     "output_type": "stream",
     "text": [
      "CV 0 | Epoch 730 | Loss 2.043183287552425\n"
     ]
    },
    {
     "name": "stdout",
     "output_type": "stream",
     "text": [
      "CV 0 | Epoch 740 | Loss 2.0360197586672646\n"
     ]
    },
    {
     "name": "stdout",
     "output_type": "stream",
     "text": [
      "CV 0 | Epoch 750 | Loss 2.038947615453175\n"
     ]
    },
    {
     "name": "stdout",
     "output_type": "stream",
     "text": [
      "CV 0 | Epoch 760 | Loss 2.0344144122941152\n"
     ]
    },
    {
     "name": "stdout",
     "output_type": "stream",
     "text": [
      "CV 0 | Epoch 770 | Loss 2.034136469023568\n"
     ]
    },
    {
     "name": "stdout",
     "output_type": "stream",
     "text": [
      "CV 0 | Epoch 780 | Loss 2.03224681360381\n"
     ]
    },
    {
     "name": "stdout",
     "output_type": "stream",
     "text": [
      "CV 0 | Epoch 790 | Loss 2.026940680401666\n"
     ]
    },
    {
     "name": "stdout",
     "output_type": "stream",
     "text": [
      "CV 0 | Epoch 800 | Loss 2.031033594267709\n"
     ]
    },
    {
     "name": "stdout",
     "output_type": "stream",
     "text": [
      "CV 0 | Epoch 810 | Loss 2.0259644091129303\n"
     ]
    },
    {
     "name": "stdout",
     "output_type": "stream",
     "text": [
      "CV 0 | Epoch 820 | Loss 2.034927519730159\n"
     ]
    },
    {
     "name": "stdout",
     "output_type": "stream",
     "text": [
      "CV 0 | Epoch 830 | Loss 2.0259989193507604\n"
     ]
    },
    {
     "name": "stdout",
     "output_type": "stream",
     "text": [
      "CV 0 | Epoch 840 | Loss 2.028445316212518\n"
     ]
    },
    {
     "name": "stdout",
     "output_type": "stream",
     "text": [
      "CV 0 | Epoch 850 | Loss 2.028379184007645\n"
     ]
    },
    {
     "name": "stdout",
     "output_type": "stream",
     "text": [
      "CV 0 | Epoch 860 | Loss 2.0240364917687006\n"
     ]
    },
    {
     "name": "stdout",
     "output_type": "stream",
     "text": [
      "CV 0 | Epoch 870 | Loss 2.0227450234549385\n"
     ]
    },
    {
     "name": "stdout",
     "output_type": "stream",
     "text": [
      "CV 0 | Epoch 880 | Loss 2.0210057147911615\n"
     ]
    },
    {
     "name": "stdout",
     "output_type": "stream",
     "text": [
      "CV 0 | Epoch 890 | Loss 2.0184995813029154\n"
     ]
    },
    {
     "name": "stdout",
     "output_type": "stream",
     "text": [
      "CV 0 | Epoch 900 | Loss 2.0234789448125023\n"
     ]
    },
    {
     "name": "stdout",
     "output_type": "stream",
     "text": [
      "CV 0 | Epoch 910 | Loss 2.0177497395447324\n"
     ]
    },
    {
     "name": "stdout",
     "output_type": "stream",
     "text": [
      "CV 0 | Epoch 920 | Loss 2.02218142918178\n"
     ]
    },
    {
     "name": "stdout",
     "output_type": "stream",
     "text": [
      "CV 0 | Epoch 930 | Loss 2.0171112511839184\n"
     ]
    },
    {
     "name": "stdout",
     "output_type": "stream",
     "text": [
      "CV 0 | Epoch 940 | Loss 2.013681101799011\n"
     ]
    },
    {
     "name": "stdout",
     "output_type": "stream",
     "text": [
      "CV 0 | Epoch 950 | Loss 2.0202770778111048\n"
     ]
    },
    {
     "name": "stdout",
     "output_type": "stream",
     "text": [
      "CV 0 | Epoch 960 | Loss 2.0103428666080747\n"
     ]
    },
    {
     "name": "stdout",
     "output_type": "stream",
     "text": [
      "CV 0 | Epoch 970 | Loss 2.0158905812672208\n"
     ]
    },
    {
     "name": "stdout",
     "output_type": "stream",
     "text": [
      "CV 0 | Epoch 980 | Loss 2.010819160938263\n"
     ]
    },
    {
     "name": "stdout",
     "output_type": "stream",
     "text": [
      "CV 0 | Epoch 990 | Loss 2.0173353339944566\n"
     ]
    },
    {
     "name": "stdout",
     "output_type": "stream",
     "text": [
      "CV 0 | Epoch 1000 | Loss 2.010574631180082\n"
     ]
    },
    {
     "name": "stdout",
     "output_type": "stream",
     "text": [
      "CV 0 | Epoch 1010 | Loss 2.0112335307257516\n"
     ]
    },
    {
     "name": "stdout",
     "output_type": "stream",
     "text": [
      "CV 0 | Epoch 1020 | Loss 2.0105170377663204\n"
     ]
    },
    {
     "name": "stdout",
     "output_type": "stream",
     "text": [
      "CV 0 | Epoch 1030 | Loss 2.0081470830099923\n"
     ]
    },
    {
     "name": "stdout",
     "output_type": "stream",
     "text": [
      "CV 0 | Epoch 1040 | Loss 2.004446895633425\n"
     ]
    },
    {
     "name": "stdout",
     "output_type": "stream",
     "text": [
      "CV 0 | Epoch 1050 | Loss 2.013406811441694\n"
     ]
    },
    {
     "name": "stdout",
     "output_type": "stream",
     "text": [
      "CV 0 | Epoch 1060 | Loss 2.005657357828958\n"
     ]
    },
    {
     "name": "stdout",
     "output_type": "stream",
     "text": [
      "CV 0 | Epoch 1070 | Loss 2.015169282470431\n"
     ]
    },
    {
     "name": "stdout",
     "output_type": "stream",
     "text": [
      "CV 0 | Epoch 1080 | Loss 2.001809812443597\n"
     ]
    },
    {
     "name": "stdout",
     "output_type": "stream",
     "text": [
      "CV 0 | Epoch 1090 | Loss 2.0133160190922874\n"
     ]
    },
    {
     "name": "stdout",
     "output_type": "stream",
     "text": [
      "CV 0 | Epoch 1100 | Loss 2.0003034932272774\n"
     ]
    },
    {
     "name": "stdout",
     "output_type": "stream",
     "text": [
      "CV 0 | Epoch 1110 | Loss 2.0044510202748436\n"
     ]
    },
    {
     "name": "stdout",
     "output_type": "stream",
     "text": [
      "CV 0 | Epoch 1120 | Loss 1.9994373764310565\n"
     ]
    },
    {
     "name": "stdout",
     "output_type": "stream",
     "text": [
      "CV 0 | Epoch 1130 | Loss 2.0048552547182354\n"
     ]
    },
    {
     "name": "stdout",
     "output_type": "stream",
     "text": [
      "CV 0 | Epoch 1140 | Loss 2.0022791172776904\n"
     ]
    },
    {
     "name": "stdout",
     "output_type": "stream",
     "text": [
      "CV 0 | Epoch 1150 | Loss 2.001563079868044\n"
     ]
    },
    {
     "name": "stdout",
     "output_type": "stream",
     "text": [
      "CV 0 | Epoch 1160 | Loss 1.9997527931417738\n"
     ]
    },
    {
     "name": "stdout",
     "output_type": "stream",
     "text": [
      "CV 0 | Epoch 1170 | Loss 1.994414611373629\n"
     ]
    },
    {
     "name": "stdout",
     "output_type": "stream",
     "text": [
      "CV 0 | Epoch 1180 | Loss 2.0033116672720226\n"
     ]
    },
    {
     "name": "stdout",
     "output_type": "stream",
     "text": [
      "CV 0 | Epoch 1190 | Loss 1.9999556737286703\n"
     ]
    },
    {
     "name": "stdout",
     "output_type": "stream",
     "text": [
      "CV 0 | Epoch 1200 | Loss 1.9940745847565786\n"
     ]
    },
    {
     "name": "stdout",
     "output_type": "stream",
     "text": [
      "CV 0 | Epoch 1210 | Loss 1.9984365480286734\n"
     ]
    },
    {
     "name": "stdout",
     "output_type": "stream",
     "text": [
      "CV 0 | Epoch 1220 | Loss 1.9980993977614812\n"
     ]
    },
    {
     "name": "stdout",
     "output_type": "stream",
     "text": [
      "CV 0 | Epoch 1230 | Loss 1.999337146963392\n"
     ]
    },
    {
     "name": "stdout",
     "output_type": "stream",
     "text": [
      "CV 0 | Epoch 1240 | Loss 1.9966966135161264\n"
     ]
    },
    {
     "name": "stdout",
     "output_type": "stream",
     "text": [
      "CV 0 | Epoch 1250 | Loss 1.9954472005367279\n"
     ]
    },
    {
     "name": "stdout",
     "output_type": "stream",
     "text": [
      "CV 0 | Epoch 1260 | Loss 1.9971210360527039\n"
     ]
    },
    {
     "name": "stdout",
     "output_type": "stream",
     "text": [
      "CV 0 | Epoch 1270 | Loss 1.9918289346354348\n"
     ]
    },
    {
     "name": "stdout",
     "output_type": "stream",
     "text": [
      "CV 0 | Epoch 1280 | Loss 1.9930351555347443\n"
     ]
    },
    {
     "name": "stdout",
     "output_type": "stream",
     "text": [
      "CV 0 | Epoch 1290 | Loss 1.9978357221399035\n"
     ]
    },
    {
     "name": "stdout",
     "output_type": "stream",
     "text": [
      "CV 0 | Epoch 1300 | Loss 1.992096415587834\n"
     ]
    },
    {
     "name": "stdout",
     "output_type": "stream",
     "text": [
      "CV 0 | Epoch 1310 | Loss 1.9904477383409227\n"
     ]
    },
    {
     "name": "stdout",
     "output_type": "stream",
     "text": [
      "CV 0 | Epoch 1320 | Loss 1.9848278769424983\n"
     ]
    },
    {
     "name": "stdout",
     "output_type": "stream",
     "text": [
      "CV 0 | Epoch 1330 | Loss 1.987185071195875\n"
     ]
    },
    {
     "name": "stdout",
     "output_type": "stream",
     "text": [
      "CV 0 | Epoch 1340 | Loss 1.9962478041648866\n"
     ]
    },
    {
     "name": "stdout",
     "output_type": "stream",
     "text": [
      "CV 0 | Epoch 1350 | Loss 1.9941962897777556\n"
     ]
    },
    {
     "name": "stdout",
     "output_type": "stream",
     "text": [
      "CV 0 | Epoch 1360 | Loss 1.9912937828472683\n"
     ]
    },
    {
     "name": "stdout",
     "output_type": "stream",
     "text": [
      "CV 0 | Epoch 1370 | Loss 1.9927130741732462\n"
     ]
    },
    {
     "name": "stdout",
     "output_type": "stream",
     "text": [
      "CV 0 | Epoch 1380 | Loss 1.9890705449240549\n"
     ]
    },
    {
     "name": "stdout",
     "output_type": "stream",
     "text": [
      "CV 0 | Epoch 1390 | Loss 1.9897258222103118\n"
     ]
    },
    {
     "name": "stdout",
     "output_type": "stream",
     "text": [
      "CV 0 | Epoch 1400 | Loss 1.99251241173063\n"
     ]
    },
    {
     "name": "stdout",
     "output_type": "stream",
     "text": [
      "CV 0 | Epoch 1410 | Loss 1.991244408914021\n"
     ]
    },
    {
     "name": "stdout",
     "output_type": "stream",
     "text": [
      "CV 0 | Epoch 1420 | Loss 1.989010133913585\n"
     ]
    },
    {
     "name": "stdout",
     "output_type": "stream",
     "text": [
      "CV 0 | Epoch 1430 | Loss 1.9848586244242532\n"
     ]
    },
    {
     "name": "stdout",
     "output_type": "stream",
     "text": [
      "CV 0 | Epoch 1440 | Loss 1.9888498978955405\n"
     ]
    },
    {
     "name": "stdout",
     "output_type": "stream",
     "text": [
      "CV 0 | Epoch 1450 | Loss 1.985841473511287\n"
     ]
    },
    {
     "name": "stdout",
     "output_type": "stream",
     "text": [
      "CV 0 | Epoch 1460 | Loss 1.990732261112758\n"
     ]
    },
    {
     "name": "stdout",
     "output_type": "stream",
     "text": [
      "CV 0 | Epoch 1470 | Loss 1.9888053238391876\n"
     ]
    },
    {
     "name": "stdout",
     "output_type": "stream",
     "text": [
      "CV 0 | Epoch 1480 | Loss 1.9813461678368705\n"
     ]
    },
    {
     "name": "stdout",
     "output_type": "stream",
     "text": [
      "CV 0 | Epoch 1490 | Loss 1.991432912009103\n"
     ]
    },
    {
     "name": "stdout",
     "output_type": "stream",
     "text": [
      "CV 0 | Epoch 1500 | Loss 1.9866252047674997\n"
     ]
    },
    {
     "name": "stdout",
     "output_type": "stream",
     "text": [
      "CV 0 | Epoch 1510 | Loss 1.986868578195572\n"
     ]
    },
    {
     "name": "stdout",
     "output_type": "stream",
     "text": [
      "CV 0 | Epoch 1520 | Loss 1.9891538075038364\n"
     ]
    },
    {
     "name": "stdout",
     "output_type": "stream",
     "text": [
      "CV 0 | Epoch 1530 | Loss 1.9814694762229919\n"
     ]
    },
    {
     "name": "stdout",
     "output_type": "stream",
     "text": [
      "CV 0 | Epoch 1540 | Loss 1.98393817118236\n"
     ]
    },
    {
     "name": "stdout",
     "output_type": "stream",
     "text": [
      "CV 0 | Epoch 1550 | Loss 1.980151241166251\n"
     ]
    },
    {
     "name": "stdout",
     "output_type": "stream",
     "text": [
      "CV 0 | Epoch 1560 | Loss 1.9862340612070901\n"
     ]
    },
    {
     "name": "stdout",
     "output_type": "stream",
     "text": [
      "CV 0 | Epoch 1570 | Loss 1.984018416064126\n"
     ]
    },
    {
     "name": "stdout",
     "output_type": "stream",
     "text": [
      "CV 0 | Epoch 1580 | Loss 1.9799756220408848\n"
     ]
    },
    {
     "name": "stdout",
     "output_type": "stream",
     "text": [
      "CV 0 | Epoch 1590 | Loss 1.9850191584655217\n"
     ]
    },
    {
     "name": "stdout",
     "output_type": "stream",
     "text": [
      "CV 0 | Epoch 1600 | Loss 1.9824102682726723\n"
     ]
    },
    {
     "name": "stdout",
     "output_type": "stream",
     "text": [
      "CV 0 | Epoch 1610 | Loss 1.9844546573502677\n"
     ]
    },
    {
     "name": "stdout",
     "output_type": "stream",
     "text": [
      "CV 0 | Epoch 1620 | Loss 1.9825703169618334\n"
     ]
    },
    {
     "name": "stdout",
     "output_type": "stream",
     "text": [
      "CV 0 | Epoch 1630 | Loss 1.9780361201081957\n"
     ]
    },
    {
     "name": "stdout",
     "output_type": "stream",
     "text": [
      "CV 0 | Epoch 1640 | Loss 1.9913844457694463\n"
     ]
    },
    {
     "name": "stdout",
     "output_type": "stream",
     "text": [
      "CV 0 | Epoch 1650 | Loss 1.9852923291070121\n"
     ]
    },
    {
     "name": "stdout",
     "output_type": "stream",
     "text": [
      "CV 0 | Epoch 1660 | Loss 1.9829074033669063\n"
     ]
    },
    {
     "name": "stdout",
     "output_type": "stream",
     "text": [
      "CV 0 | Epoch 1670 | Loss 1.9804954579898288\n"
     ]
    },
    {
     "name": "stdout",
     "output_type": "stream",
     "text": [
      "CV 0 | Epoch 1680 | Loss 1.9797384807041714\n"
     ]
    },
    {
     "name": "stdout",
     "output_type": "stream",
     "text": [
      "CV 0 | Epoch 1690 | Loss 1.9807159193924495\n"
     ]
    },
    {
     "name": "stdout",
     "output_type": "stream",
     "text": [
      "CV 0 | Epoch 1700 | Loss 1.976983209167208\n"
     ]
    },
    {
     "name": "stdout",
     "output_type": "stream",
     "text": [
      "CV 0 | Epoch 1710 | Loss 1.9797523174967084\n"
     ]
    },
    {
     "name": "stdout",
     "output_type": "stream",
     "text": [
      "CV 0 | Epoch 1720 | Loss 1.988167302949088\n"
     ]
    },
    {
     "name": "stdout",
     "output_type": "stream",
     "text": [
      "CV 0 | Epoch 1730 | Loss 1.9818725160190038\n"
     ]
    },
    {
     "name": "stdout",
     "output_type": "stream",
     "text": [
      "CV 0 | Epoch 1740 | Loss 1.978081544807979\n"
     ]
    },
    {
     "name": "stdout",
     "output_type": "stream",
     "text": [
      "CV 0 | Epoch 1750 | Loss 1.9794288745948247\n"
     ]
    },
    {
     "name": "stdout",
     "output_type": "stream",
     "text": [
      "CV 0 | Epoch 1760 | Loss 1.9810319244861603\n"
     ]
    },
    {
     "name": "stdout",
     "output_type": "stream",
     "text": [
      "CV 0 | Epoch 1770 | Loss 1.9781260813985553\n"
     ]
    },
    {
     "name": "stdout",
     "output_type": "stream",
     "text": [
      "CV 0 | Epoch 1780 | Loss 1.9842962656702314\n"
     ]
    },
    {
     "name": "stdout",
     "output_type": "stream",
     "text": [
      "CV 0 | Epoch 1790 | Loss 1.9815629056521824\n"
     ]
    },
    {
     "name": "stdout",
     "output_type": "stream",
     "text": [
      "CV 0 | Epoch 1800 | Loss 1.982296517065593\n"
     ]
    },
    {
     "name": "stdout",
     "output_type": "stream",
     "text": [
      "CV 0 | Epoch 1810 | Loss 1.979565337726048\n"
     ]
    },
    {
     "name": "stdout",
     "output_type": "stream",
     "text": [
      "CV 0 | Epoch 1820 | Loss 1.9809239745140075\n"
     ]
    },
    {
     "name": "stdout",
     "output_type": "stream",
     "text": [
      "CV 0 | Epoch 1830 | Loss 1.974367251566478\n"
     ]
    },
    {
     "name": "stdout",
     "output_type": "stream",
     "text": [
      "CV 0 | Epoch 1840 | Loss 1.9760643294879368\n"
     ]
    },
    {
     "name": "stdout",
     "output_type": "stream",
     "text": [
      "CV 0 | Epoch 1850 | Loss 1.9857161564486367\n"
     ]
    },
    {
     "name": "stdout",
     "output_type": "stream",
     "text": [
      "CV 0 | Epoch 1860 | Loss 1.9829535373619624\n"
     ]
    },
    {
     "name": "stdout",
     "output_type": "stream",
     "text": [
      "CV 0 | Epoch 1870 | Loss 1.9714605689048768\n"
     ]
    },
    {
     "name": "stdout",
     "output_type": "stream",
     "text": [
      "CV 0 | Epoch 1880 | Loss 1.9830192591462816\n"
     ]
    },
    {
     "name": "stdout",
     "output_type": "stream",
     "text": [
      "CV 0 | Epoch 1890 | Loss 1.9736227512359619\n"
     ]
    },
    {
     "name": "stdout",
     "output_type": "stream",
     "text": [
      "CV 0 | Epoch 1900 | Loss 1.9787108446870532\n"
     ]
    },
    {
     "name": "stdout",
     "output_type": "stream",
     "text": [
      "CV 0 | Epoch 1910 | Loss 1.9763869762420654\n"
     ]
    },
    {
     "name": "stdout",
     "output_type": "stream",
     "text": [
      "CV 0 | Epoch 1920 | Loss 1.969763662985393\n"
     ]
    },
    {
     "name": "stdout",
     "output_type": "stream",
     "text": [
      "CV 0 | Epoch 1930 | Loss 1.981737151316234\n"
     ]
    },
    {
     "name": "stdout",
     "output_type": "stream",
     "text": [
      "CV 0 | Epoch 1940 | Loss 1.9773678949901037\n"
     ]
    },
    {
     "name": "stdout",
     "output_type": "stream",
     "text": [
      "CV 0 | Epoch 1950 | Loss 1.9749861913067954\n"
     ]
    },
    {
     "name": "stdout",
     "output_type": "stream",
     "text": [
      "CV 0 | Epoch 1960 | Loss 1.974205711909703\n"
     ]
    },
    {
     "name": "stdout",
     "output_type": "stream",
     "text": [
      "CV 0 | Epoch 1970 | Loss 1.971550990002496\n"
     ]
    },
    {
     "name": "stdout",
     "output_type": "stream",
     "text": [
      "CV 0 | Epoch 1980 | Loss 1.976595115661621\n"
     ]
    },
    {
     "name": "stdout",
     "output_type": "stream",
     "text": [
      "CV 0 | Epoch 1990 | Loss 1.9753645973546163\n"
     ]
    },
    {
     "name": "stdout",
     "output_type": "stream",
     "text": [
      "CV 0 | Epoch 1999 | Loss 1.9721657160728696\n"
     ]
    }
   ],
   "source": [
    "th_device = th.device(device)\n",
    "\n",
    "metrics = []\n",
    "confusion_matrix = []\n",
    "syn_pred = []\n",
    "ev = Evaluator()\n",
    "\n",
    "th_device = th.device(device)\n",
    "\n",
    "syn_index = ['prev_punishments', 'prev_contributions']\n",
    "edge_index = create_fully_connected(n_player)\n",
    "\n",
    "\n",
    "def shuffle_feature(data, feature_name):\n",
    "    data = {**data}\n",
    "    data[feature_name] = data[feature_name][th.randperm(len(data[feature_name]))]\n",
    "    return data\n",
    "\n",
    "for i, (train_data, test_data) in enumerate(get_cross_validations(data, n_cross_val, fraction_training)):\n",
    "    model = AH_MODELS[model_name](default_values=default_values, **model_args).to(th_device)\n",
    "\n",
    "    train_data_ = model.encode(train_data, mask=mask_name, edge_index=edge_index)\n",
    "    if test_data is not None:\n",
    "        test_data_ = model.encode(test_data, mask=mask_name, edge_index=edge_index)\n",
    "    # syn_data_ = model.encode(syn_data, mask=None, y_encode=False, info_columns=syn_index, edge_index=edge_index)\n",
    "\n",
    "    # syn_df = using_multiindex(\n",
    "    #     Batch.from_data_list(syn_data_)['info'].detach().cpu().numpy(), ['idx', 'round_number'], syn_index)\n",
    "\n",
    "    optimizer = th.optim.Adam(model.parameters(), **optimizer_args)\n",
    "    loss_fn = th.nn.CrossEntropyLoss(reduction='none')\n",
    "    sum_loss = 0\n",
    "    n_steps = 0\n",
    "\n",
    "    for e in range(train_args['epochs']):\n",
    "        ev.set_labels(cv_split=i, epoch=e)\n",
    "        model.train()\n",
    "        for j, batch_data in enumerate(iter(DataLoader(train_data_, shuffle=True, batch_size=train_args['batch_size']))):\n",
    "            optimizer.zero_grad()\n",
    "            py = model(batch_data).flatten(end_dim=-2)\n",
    "            y_true = batch_data['y_enc'].flatten(end_dim=-2)\n",
    "            mask = batch_data['mask'].flatten()\n",
    "            loss = loss_fn(py, y_true)\n",
    "            loss = (loss * mask).sum() / mask.sum()\n",
    "\n",
    "            loss.backward()\n",
    "\n",
    "            if train_args['clamp_grad']:\n",
    "                for param in model.parameters():\n",
    "                    param.grad.data.clamp_(-train_args['clamp_grad'], train_args['clamp_grad'])\n",
    "            optimizer.step()\n",
    "            sum_loss += loss.item()\n",
    "            n_steps +=1\n",
    "        \n",
    "        last_epoch = e == (train_args['epochs'] - 1)\n",
    "\n",
    "        if (e % train_args['eval_period'] == 0) or last_epoch:\n",
    "            avg_loss = sum_loss/n_steps\n",
    "            print(f'CV {i} | Epoch {e} | Loss {avg_loss}')\n",
    "            ev.add_loss(avg_loss)\n",
    "\n",
    "            ev.eval_set(model, train_data_, calc_confusion=last_epoch, set='train')\n",
    "            if test_data is not None:\n",
    "                ev.eval_set(model, test_data_, calc_confusion=last_epoch, set='test')\n",
    "                for sf in shuffle_features:\n",
    "                    shuffled_data = shuffle_feature(test_data, sf)\n",
    "                    shuffled_data = model.encode(shuffled_data, mask=mask_name, edge_index=edge_index)\n",
    "                    ev.eval_set(model, shuffled_data, calc_confusion=False, set='test', shuffle_feature=sf)\n",
    "            sum_loss = 0\n",
    "            n_steps = 0\n",
    "    # ev.eval_syn(model, syn_data_, syn_df)\n",
    "\n",
    "ev.save(output_path, labels)\n",
    "model_path = os.path.join(output_path, 'model.pt')\n",
    "model.save(model_path)"
   ]
  }
 ],
 "metadata": {
  "kernelspec": {
   "display_name": "Python 3.9.1 ('.venv': venv)",
   "language": "python",
   "name": "python3"
  },
  "language_info": {
   "codemirror_mode": {
    "name": "ipython",
    "version": 3
   },
   "file_extension": ".py",
   "mimetype": "text/x-python",
   "name": "python",
   "nbconvert_exporter": "python",
   "pygments_lexer": "ipython3",
   "version": "3.9.1"
  },
  "papermill": {
   "default_parameters": {},
   "duration": 126.029249,
   "end_time": "2022-07-06T19:00:04.337783",
   "environment_variables": {},
   "exception": null,
   "input_path": "notebooks/artificial_humans/graph.ipynb",
   "output_path": "notebooks/artificial_humans/run/graph.1_1_simple.ipynb",
   "parameters": {
    "data_file": "../../data/experiments/pilot_random1_player_round_slim.csv",
    "device": "cpu",
    "experiment_names": [
     "trail_rounds_2",
     "random_1"
    ],
    "fraction_training": 1.0,
    "labels": {},
    "mask_name": "valid",
    "model_args": {
     "add_edge_model": false,
     "add_global_model": false,
     "add_rnn": false,
     "hidden_size": 5,
     "u_encoding": [],
     "x_encoding": [
      {
       "encoding": "numeric",
       "n_levels": 21,
       "name": "prev_contributions"
      },
      {
       "encoding": "numeric",
       "n_levels": 31,
       "name": "prev_punishments"
      },
      {
       "etype": "bool",
       "name": "prev_valid"
      }
     ],
     "y_levels": 21,
     "y_name": "contributions"
    },
    "model_name": "graph",
    "n_cross_val": null,
    "n_player": 4,
    "optimizer_args": {
     "lr": 0.001,
     "weight_decay": 1e-05
    },
    "output_path": "../../data/artificial_humans/ah_1_1_simple",
    "shuffle_features": [
     "prev_punishments",
     "prev_contributions",
     "prev_common_good",
     "prev_valid"
    ],
    "train_args": {
     "batch_size": 10,
     "clamp_grad": 1,
     "epochs": 2000,
     "eval_period": 10
    }
   },
   "start_time": "2022-07-06T18:57:58.308534",
   "version": "2.3.4"
  },
  "vscode": {
   "interpreter": {
    "hash": "83484b78e3eced0c1ebbaf37dd8049c2f9102f6dcade2a60a08a368fc0daac5f"
   }
  }
 },
 "nbformat": 4,
 "nbformat_minor": 5
}