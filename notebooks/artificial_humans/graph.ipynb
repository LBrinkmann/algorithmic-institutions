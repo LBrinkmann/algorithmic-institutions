{
 "cells": [
  {
   "cell_type": "markdown",
   "id": "09203b5b",
   "metadata": {
    "tags": [
     "papermill-error-cell-tag"
    ]
   },
   "source": [
    "<span style=\"color:red; font-family:Helvetica Neue, Helvetica, Arial, sans-serif; font-size:2em;\">An Exception was encountered at '<a href=\"#papermill-error-cell\">In [10]</a>'.</span>"
   ]
  },
  {
   "cell_type": "code",
   "execution_count": 1,
   "id": "2ca7f8cf",
   "metadata": {
    "execution": {
     "iopub.execute_input": "2022-06-30T12:01:35.880211Z",
     "iopub.status.busy": "2022-06-30T12:01:35.879684Z",
     "iopub.status.idle": "2022-06-30T12:01:35.896483Z",
     "shell.execute_reply": "2022-06-30T12:01:35.895617Z"
    },
    "papermill": {
     "duration": 0.027295,
     "end_time": "2022-06-30T12:01:35.899552",
     "exception": false,
     "start_time": "2022-06-30T12:01:35.872257",
     "status": "completed"
    },
    "tags": [
     "injected-parameters"
    ]
   },
   "outputs": [],
   "source": [
    "# Parameters\n",
    "fraction_training = 1.0\n",
    "n_contributions = 21\n",
    "n_punishments = 31\n",
    "n_cross_val = None\n",
    "n_player = 4\n",
    "data_file = \"../../data/experiments/pilot_random1_player_round_slim.csv\"\n",
    "output_path = \"../../data/training/ah_10\"\n",
    "model_name = \"graph\"\n",
    "shuffle_features = [\"prev_punishments\", \"prev_contributions\", \"prev_common_good\"]\n",
    "labels = {}\n",
    "model_args = {\n",
    "    \"hidden_size\": 5,\n",
    "    \"add_rnn\": True,\n",
    "    \"add_edge_model\": True,\n",
    "    \"add_global_model\": False,\n",
    "    \"x_encoding\": [\n",
    "        {\"name\": \"prev_contributions\", \"n_levels\": 21, \"encoding\": \"numeric\"},\n",
    "        {\"name\": \"prev_punishments\", \"n_levels\": 31, \"encoding\": \"numeric\"},\n",
    "    ],\n",
    "    \"u_encoding\": [\n",
    "        {\"name\": \"round_number\", \"n_levels\": 16, \"encoding\": \"numeric\"},\n",
    "        {\"name\": \"prev_common_good\", \"norm\": 128, \"etype\": \"float\"},\n",
    "    ],\n",
    "}\n",
    "optimizer_args = {\"lr\": 0.001, \"weight_decay\": 1e-05}\n",
    "train_args = {\"epochs\": 5000, \"batch_size\": 10, \"clamp_grad\": 1, \"eval_period\": 10}\n",
    "device = \"cpu\"\n"
   ]
  },
  {
   "cell_type": "code",
   "execution_count": 2,
   "id": "44582683",
   "metadata": {
    "execution": {
     "iopub.execute_input": "2022-06-30T12:01:35.913454Z",
     "iopub.status.busy": "2022-06-30T12:01:35.913043Z",
     "iopub.status.idle": "2022-06-30T12:01:38.252980Z",
     "shell.execute_reply": "2022-06-30T12:01:38.252329Z"
    },
    "papermill": {
     "duration": 2.3494,
     "end_time": "2022-06-30T12:01:38.255085",
     "exception": false,
     "start_time": "2022-06-30T12:01:35.905685",
     "status": "completed"
    },
    "tags": []
   },
   "outputs": [
    {
     "name": "stderr",
     "output_type": "stream",
     "text": [
      "/Users/levinbrinkmann/repros/algorithmic-institutions/.venv/lib/python3.9/site-packages/tqdm/auto.py:22: TqdmWarning: IProgress not found. Please update jupyter and ipywidgets. See https://ipywidgets.readthedocs.io/en/stable/user_install.html\n",
      "  from .autonotebook import tqdm as notebook_tqdm\n"
     ]
    }
   ],
   "source": [
    "%load_ext autoreload\n",
    "%autoreload 2\n",
    "\n",
    "import os\n",
    "import pandas as pd\n",
    "import torch as th\n",
    "from aimanager.generic.data import create_syn_data, create_torch_data, get_cross_validations\n",
    "from aimanager.artificial_humans import AH_MODELS\n",
    "from aimanager.artificial_humans.evaluation import Evaluator\n",
    "from aimanager.utils.array_to_df import using_multiindex\n",
    "from aimanager.generic.graph_encode import create_fully_connected\n",
    "from torch_geometric.data import Batch\n",
    "from torch_geometric.loader import DataLoader\n",
    "\n",
    "output_path = os.path.join(output_path, 'data')"
   ]
  },
  {
   "cell_type": "code",
   "execution_count": 3,
   "id": "e6659c46",
   "metadata": {
    "execution": {
     "iopub.execute_input": "2022-06-30T12:01:38.262665Z",
     "iopub.status.busy": "2022-06-30T12:01:38.262184Z",
     "iopub.status.idle": "2022-06-30T12:02:01.031743Z",
     "shell.execute_reply": "2022-06-30T12:02:01.031064Z"
    },
    "papermill": {
     "duration": 22.77529,
     "end_time": "2022-06-30T12:02:01.033741",
     "exception": false,
     "start_time": "2022-06-30T12:01:38.258451",
     "status": "completed"
    },
    "tags": []
   },
   "outputs": [],
   "source": [
    "df = pd.read_csv(data_file)\n",
    "\n",
    "data, default_values = create_torch_data(df)\n",
    "syn_data = create_syn_data(n_contribution=21, n_punishment=31, default_values=default_values)"
   ]
  },
  {
   "cell_type": "code",
   "execution_count": 4,
   "id": "1f144b88",
   "metadata": {
    "execution": {
     "iopub.execute_input": "2022-06-30T12:02:01.072488Z",
     "iopub.status.busy": "2022-06-30T12:02:01.072155Z",
     "iopub.status.idle": "2022-06-30T12:07:48.970453Z",
     "shell.execute_reply": "2022-06-30T12:07:48.969564Z"
    },
    "papermill": {
     "duration": 347.93606,
     "end_time": "2022-06-30T12:07:48.972626",
     "exception": false,
     "start_time": "2022-06-30T12:02:01.036566",
     "status": "completed"
    },
    "tags": []
   },
   "outputs": [
    {
     "name": "stdout",
     "output_type": "stream",
     "text": [
      "CV 0 | Epoch 0 | Loss 3.2683498007910594\n"
     ]
    },
    {
     "name": "stdout",
     "output_type": "stream",
     "text": [
      "CV 0 | Epoch 10 | Loss 2.9591211676597595\n"
     ]
    },
    {
     "name": "stdout",
     "output_type": "stream",
     "text": [
      "CV 0 | Epoch 20 | Loss 2.522594668184008\n"
     ]
    },
    {
     "name": "stdout",
     "output_type": "stream",
     "text": [
      "CV 0 | Epoch 30 | Loss 2.3599366213594166\n"
     ]
    },
    {
     "name": "stdout",
     "output_type": "stream",
     "text": [
      "CV 0 | Epoch 40 | Loss 2.24746624316488\n"
     ]
    },
    {
     "name": "stdout",
     "output_type": "stream",
     "text": [
      "CV 0 | Epoch 50 | Loss 2.185321853842054\n"
     ]
    },
    {
     "name": "stdout",
     "output_type": "stream",
     "text": [
      "CV 0 | Epoch 60 | Loss 2.150825286763055\n"
     ]
    },
    {
     "name": "stdout",
     "output_type": "stream",
     "text": [
      "CV 0 | Epoch 70 | Loss 2.123729534660067\n"
     ]
    },
    {
     "name": "stdout",
     "output_type": "stream",
     "text": [
      "CV 0 | Epoch 80 | Loss 2.103957618985857\n"
     ]
    },
    {
     "name": "stdout",
     "output_type": "stream",
     "text": [
      "CV 0 | Epoch 90 | Loss 2.090732694523675\n"
     ]
    },
    {
     "name": "stdout",
     "output_type": "stream",
     "text": [
      "CV 0 | Epoch 100 | Loss 2.0758964027677265\n"
     ]
    },
    {
     "name": "stdout",
     "output_type": "stream",
     "text": [
      "CV 0 | Epoch 110 | Loss 2.0548614152840208\n"
     ]
    },
    {
     "name": "stdout",
     "output_type": "stream",
     "text": [
      "CV 0 | Epoch 120 | Loss 2.0475962945393156\n"
     ]
    },
    {
     "name": "stdout",
     "output_type": "stream",
     "text": [
      "CV 0 | Epoch 130 | Loss 2.034674254485539\n"
     ]
    },
    {
     "name": "stdout",
     "output_type": "stream",
     "text": [
      "CV 0 | Epoch 140 | Loss 2.024224099942616\n"
     ]
    },
    {
     "name": "stdout",
     "output_type": "stream",
     "text": [
      "CV 0 | Epoch 150 | Loss 2.0042228741305217\n"
     ]
    },
    {
     "name": "stdout",
     "output_type": "stream",
     "text": [
      "CV 0 | Epoch 160 | Loss 1.9867639320237296\n"
     ]
    },
    {
     "name": "stdout",
     "output_type": "stream",
     "text": [
      "CV 0 | Epoch 170 | Loss 1.9961127817630768\n"
     ]
    },
    {
     "name": "stdout",
     "output_type": "stream",
     "text": [
      "CV 0 | Epoch 180 | Loss 1.9764261169092996\n"
     ]
    },
    {
     "name": "stdout",
     "output_type": "stream",
     "text": [
      "CV 0 | Epoch 190 | Loss 1.958639930827277\n"
     ]
    },
    {
     "name": "stdout",
     "output_type": "stream",
     "text": [
      "CV 0 | Epoch 200 | Loss 1.9488258864198411\n"
     ]
    },
    {
     "name": "stdout",
     "output_type": "stream",
     "text": [
      "CV 0 | Epoch 210 | Loss 1.9464553781918117\n"
     ]
    },
    {
     "name": "stdout",
     "output_type": "stream",
     "text": [
      "CV 0 | Epoch 220 | Loss 1.9360749534198216\n"
     ]
    },
    {
     "name": "stdout",
     "output_type": "stream",
     "text": [
      "CV 0 | Epoch 230 | Loss 1.923813739844731\n"
     ]
    },
    {
     "name": "stdout",
     "output_type": "stream",
     "text": [
      "CV 0 | Epoch 240 | Loss 1.907954844406673\n"
     ]
    },
    {
     "name": "stdout",
     "output_type": "stream",
     "text": [
      "CV 0 | Epoch 250 | Loss 1.8936906227043697\n"
     ]
    },
    {
     "name": "stdout",
     "output_type": "stream",
     "text": [
      "CV 0 | Epoch 260 | Loss 1.9020198753901891\n"
     ]
    },
    {
     "name": "stdout",
     "output_type": "stream",
     "text": [
      "CV 0 | Epoch 270 | Loss 1.8983768905912126\n"
     ]
    },
    {
     "name": "stdout",
     "output_type": "stream",
     "text": [
      "CV 0 | Epoch 280 | Loss 1.8937774121761322\n"
     ]
    },
    {
     "name": "stdout",
     "output_type": "stream",
     "text": [
      "CV 0 | Epoch 290 | Loss 1.8894280706133162\n"
     ]
    },
    {
     "name": "stdout",
     "output_type": "stream",
     "text": [
      "CV 0 | Epoch 300 | Loss 1.8814919923033033\n"
     ]
    },
    {
     "name": "stdout",
     "output_type": "stream",
     "text": [
      "CV 0 | Epoch 310 | Loss 1.8818972996303014\n"
     ]
    },
    {
     "name": "stdout",
     "output_type": "stream",
     "text": [
      "CV 0 | Epoch 320 | Loss 1.8688531952244896\n"
     ]
    },
    {
     "name": "stdout",
     "output_type": "stream",
     "text": [
      "CV 0 | Epoch 330 | Loss 1.8702852385384696\n"
     ]
    },
    {
     "name": "stdout",
     "output_type": "stream",
     "text": [
      "CV 0 | Epoch 340 | Loss 1.8618735841342382\n"
     ]
    },
    {
     "name": "stdout",
     "output_type": "stream",
     "text": [
      "CV 0 | Epoch 350 | Loss 1.8712656940732684\n"
     ]
    },
    {
     "name": "stdout",
     "output_type": "stream",
     "text": [
      "CV 0 | Epoch 360 | Loss 1.858476117679051\n"
     ]
    },
    {
     "name": "stdout",
     "output_type": "stream",
     "text": [
      "CV 0 | Epoch 370 | Loss 1.8586055559771402\n"
     ]
    },
    {
     "name": "stdout",
     "output_type": "stream",
     "text": [
      "CV 0 | Epoch 380 | Loss 1.8582797842366354\n"
     ]
    },
    {
     "name": "stdout",
     "output_type": "stream",
     "text": [
      "CV 0 | Epoch 390 | Loss 1.8551943838596343\n"
     ]
    },
    {
     "name": "stdout",
     "output_type": "stream",
     "text": [
      "CV 0 | Epoch 400 | Loss 1.8528495218072618\n"
     ]
    },
    {
     "name": "stdout",
     "output_type": "stream",
     "text": [
      "CV 0 | Epoch 410 | Loss 1.8475582012108394\n"
     ]
    },
    {
     "name": "stdout",
     "output_type": "stream",
     "text": [
      "CV 0 | Epoch 420 | Loss 1.8414348917348045\n"
     ]
    },
    {
     "name": "stdout",
     "output_type": "stream",
     "text": [
      "CV 0 | Epoch 430 | Loss 1.8473262872014726\n"
     ]
    },
    {
     "name": "stdout",
     "output_type": "stream",
     "text": [
      "CV 0 | Epoch 440 | Loss 1.8454497754573822\n"
     ]
    },
    {
     "name": "stdout",
     "output_type": "stream",
     "text": [
      "CV 0 | Epoch 450 | Loss 1.8412843201841627\n"
     ]
    },
    {
     "name": "stdout",
     "output_type": "stream",
     "text": [
      "CV 0 | Epoch 460 | Loss 1.8347974734646932\n"
     ]
    },
    {
     "name": "stdout",
     "output_type": "stream",
     "text": [
      "CV 0 | Epoch 470 | Loss 1.8329035358769552\n"
     ]
    },
    {
     "name": "stdout",
     "output_type": "stream",
     "text": [
      "CV 0 | Epoch 480 | Loss 1.8421903678349085\n"
     ]
    },
    {
     "name": "stdout",
     "output_type": "stream",
     "text": [
      "CV 0 | Epoch 490 | Loss 1.8342347179140364\n"
     ]
    },
    {
     "name": "stdout",
     "output_type": "stream",
     "text": [
      "CV 0 | Epoch 500 | Loss 1.8348151317664556\n"
     ]
    },
    {
     "name": "stdout",
     "output_type": "stream",
     "text": [
      "CV 0 | Epoch 510 | Loss 1.8348020885671887\n"
     ]
    },
    {
     "name": "stdout",
     "output_type": "stream",
     "text": [
      "CV 0 | Epoch 520 | Loss 1.8360607283455985\n"
     ]
    },
    {
     "name": "stdout",
     "output_type": "stream",
     "text": [
      "CV 0 | Epoch 530 | Loss 1.823885919366564\n"
     ]
    },
    {
     "name": "stdout",
     "output_type": "stream",
     "text": [
      "CV 0 | Epoch 540 | Loss 1.8343170148985726\n"
     ]
    },
    {
     "name": "stdout",
     "output_type": "stream",
     "text": [
      "CV 0 | Epoch 550 | Loss 1.828584510087967\n"
     ]
    },
    {
     "name": "stdout",
     "output_type": "stream",
     "text": [
      "CV 0 | Epoch 560 | Loss 1.8337074296815055\n"
     ]
    },
    {
     "name": "stdout",
     "output_type": "stream",
     "text": [
      "CV 0 | Epoch 570 | Loss 1.821830714600427\n"
     ]
    },
    {
     "name": "stdout",
     "output_type": "stream",
     "text": [
      "CV 0 | Epoch 580 | Loss 1.8352097758225032\n"
     ]
    },
    {
     "name": "stdout",
     "output_type": "stream",
     "text": [
      "CV 0 | Epoch 590 | Loss 1.825801397221429\n"
     ]
    },
    {
     "name": "stdout",
     "output_type": "stream",
     "text": [
      "CV 0 | Epoch 600 | Loss 1.8339688607624598\n"
     ]
    },
    {
     "name": "stdout",
     "output_type": "stream",
     "text": [
      "CV 0 | Epoch 610 | Loss 1.8225559328283583\n"
     ]
    },
    {
     "name": "stdout",
     "output_type": "stream",
     "text": [
      "CV 0 | Epoch 620 | Loss 1.8251595973968506\n"
     ]
    },
    {
     "name": "stdout",
     "output_type": "stream",
     "text": [
      "CV 0 | Epoch 630 | Loss 1.8222235126154764\n"
     ]
    },
    {
     "name": "stdout",
     "output_type": "stream",
     "text": [
      "CV 0 | Epoch 640 | Loss 1.8193756239754812\n"
     ]
    },
    {
     "name": "stdout",
     "output_type": "stream",
     "text": [
      "CV 0 | Epoch 650 | Loss 1.8225484124251774\n"
     ]
    },
    {
     "name": "stdout",
     "output_type": "stream",
     "text": [
      "CV 0 | Epoch 660 | Loss 1.8167427395071303\n"
     ]
    },
    {
     "name": "stdout",
     "output_type": "stream",
     "text": [
      "CV 0 | Epoch 670 | Loss 1.821538406610489\n"
     ]
    },
    {
     "name": "stdout",
     "output_type": "stream",
     "text": [
      "CV 0 | Epoch 680 | Loss 1.8196587562561035\n"
     ]
    },
    {
     "name": "stdout",
     "output_type": "stream",
     "text": [
      "CV 0 | Epoch 690 | Loss 1.8245664698737007\n"
     ]
    },
    {
     "name": "stdout",
     "output_type": "stream",
     "text": [
      "CV 0 | Epoch 700 | Loss 1.8230485149792262\n"
     ]
    },
    {
     "name": "stdout",
     "output_type": "stream",
     "text": [
      "CV 0 | Epoch 710 | Loss 1.8198745701994214\n"
     ]
    },
    {
     "name": "stdout",
     "output_type": "stream",
     "text": [
      "CV 0 | Epoch 720 | Loss 1.8276294069630759\n"
     ]
    },
    {
     "name": "stdout",
     "output_type": "stream",
     "text": [
      "CV 0 | Epoch 730 | Loss 1.8194791615009307\n"
     ]
    },
    {
     "name": "stdout",
     "output_type": "stream",
     "text": [
      "CV 0 | Epoch 740 | Loss 1.8076751359871455\n"
     ]
    },
    {
     "name": "stdout",
     "output_type": "stream",
     "text": [
      "CV 0 | Epoch 750 | Loss 1.8160309289182937\n"
     ]
    },
    {
     "name": "stdout",
     "output_type": "stream",
     "text": [
      "CV 0 | Epoch 760 | Loss 1.806024335537638\n"
     ]
    },
    {
     "name": "stdout",
     "output_type": "stream",
     "text": [
      "CV 0 | Epoch 770 | Loss 1.818436953851155\n"
     ]
    },
    {
     "name": "stdout",
     "output_type": "stream",
     "text": [
      "CV 0 | Epoch 780 | Loss 1.8208720667021616\n"
     ]
    },
    {
     "name": "stdout",
     "output_type": "stream",
     "text": [
      "CV 0 | Epoch 790 | Loss 1.8124591742243086\n"
     ]
    },
    {
     "name": "stdout",
     "output_type": "stream",
     "text": [
      "CV 0 | Epoch 800 | Loss 1.8125827252864837\n"
     ]
    },
    {
     "name": "stdout",
     "output_type": "stream",
     "text": [
      "CV 0 | Epoch 810 | Loss 1.8126920640468598\n"
     ]
    },
    {
     "name": "stdout",
     "output_type": "stream",
     "text": [
      "CV 0 | Epoch 820 | Loss 1.8129371430192676\n"
     ]
    },
    {
     "name": "stdout",
     "output_type": "stream",
     "text": [
      "CV 0 | Epoch 830 | Loss 1.8046130159071514\n"
     ]
    },
    {
     "name": "stdout",
     "output_type": "stream",
     "text": [
      "CV 0 | Epoch 840 | Loss 1.8088642026696886\n"
     ]
    },
    {
     "name": "stdout",
     "output_type": "stream",
     "text": [
      "CV 0 | Epoch 850 | Loss 1.8187882363796235\n"
     ]
    },
    {
     "name": "stdout",
     "output_type": "stream",
     "text": [
      "CV 0 | Epoch 860 | Loss 1.8106109355177198\n"
     ]
    },
    {
     "name": "stdout",
     "output_type": "stream",
     "text": [
      "CV 0 | Epoch 870 | Loss 1.805572727748326\n"
     ]
    },
    {
     "name": "stdout",
     "output_type": "stream",
     "text": [
      "CV 0 | Epoch 880 | Loss 1.8131535053253174\n"
     ]
    },
    {
     "name": "stdout",
     "output_type": "stream",
     "text": [
      "CV 0 | Epoch 890 | Loss 1.8134410687855311\n"
     ]
    },
    {
     "name": "stdout",
     "output_type": "stream",
     "text": [
      "CV 0 | Epoch 900 | Loss 1.8106140877519334\n"
     ]
    },
    {
     "name": "stdout",
     "output_type": "stream",
     "text": [
      "CV 0 | Epoch 910 | Loss 1.8098501818520683\n"
     ]
    },
    {
     "name": "stdout",
     "output_type": "stream",
     "text": [
      "CV 0 | Epoch 920 | Loss 1.8110152057238988\n"
     ]
    },
    {
     "name": "stdout",
     "output_type": "stream",
     "text": [
      "CV 0 | Epoch 930 | Loss 1.819604308264596\n"
     ]
    },
    {
     "name": "stdout",
     "output_type": "stream",
     "text": [
      "CV 0 | Epoch 940 | Loss 1.8050240533692496\n"
     ]
    },
    {
     "name": "stdout",
     "output_type": "stream",
     "text": [
      "CV 0 | Epoch 950 | Loss 1.8112665270056043\n"
     ]
    },
    {
     "name": "stdout",
     "output_type": "stream",
     "text": [
      "CV 0 | Epoch 960 | Loss 1.8103801829474313\n"
     ]
    },
    {
     "name": "stdout",
     "output_type": "stream",
     "text": [
      "CV 0 | Epoch 970 | Loss 1.8064787200519017\n"
     ]
    },
    {
     "name": "stdout",
     "output_type": "stream",
     "text": [
      "CV 0 | Epoch 980 | Loss 1.8105688282421657\n"
     ]
    },
    {
     "name": "stdout",
     "output_type": "stream",
     "text": [
      "CV 0 | Epoch 990 | Loss 1.8056281319686345\n"
     ]
    },
    {
     "name": "stdout",
     "output_type": "stream",
     "text": [
      "CV 0 | Epoch 1000 | Loss 1.8071017827306475\n"
     ]
    },
    {
     "name": "stdout",
     "output_type": "stream",
     "text": [
      "CV 0 | Epoch 1010 | Loss 1.809994009562901\n"
     ]
    },
    {
     "name": "stdout",
     "output_type": "stream",
     "text": [
      "CV 0 | Epoch 1020 | Loss 1.8074856689998082\n"
     ]
    },
    {
     "name": "stdout",
     "output_type": "stream",
     "text": [
      "CV 0 | Epoch 1030 | Loss 1.8007275291851588\n"
     ]
    },
    {
     "name": "stdout",
     "output_type": "stream",
     "text": [
      "CV 0 | Epoch 1040 | Loss 1.8038382955959864\n"
     ]
    },
    {
     "name": "stdout",
     "output_type": "stream",
     "text": [
      "CV 0 | Epoch 1050 | Loss 1.8075494868414743\n"
     ]
    },
    {
     "name": "stdout",
     "output_type": "stream",
     "text": [
      "CV 0 | Epoch 1060 | Loss 1.8050539229597364\n"
     ]
    },
    {
     "name": "stdout",
     "output_type": "stream",
     "text": [
      "CV 0 | Epoch 1070 | Loss 1.8037607499531336\n"
     ]
    },
    {
     "name": "stdout",
     "output_type": "stream",
     "text": [
      "CV 0 | Epoch 1080 | Loss 1.7991896084376744\n"
     ]
    },
    {
     "name": "stdout",
     "output_type": "stream",
     "text": [
      "CV 0 | Epoch 1090 | Loss 1.8009180034909928\n"
     ]
    },
    {
     "name": "stdout",
     "output_type": "stream",
     "text": [
      "CV 0 | Epoch 1100 | Loss 1.8014803741659438\n"
     ]
    },
    {
     "name": "stdout",
     "output_type": "stream",
     "text": [
      "CV 0 | Epoch 1110 | Loss 1.807359949180058\n"
     ]
    },
    {
     "name": "stdout",
     "output_type": "stream",
     "text": [
      "CV 0 | Epoch 1120 | Loss 1.8050737517220634\n"
     ]
    },
    {
     "name": "stdout",
     "output_type": "stream",
     "text": [
      "CV 0 | Epoch 1130 | Loss 1.8070630716426033\n"
     ]
    },
    {
     "name": "stdout",
     "output_type": "stream",
     "text": [
      "CV 0 | Epoch 1140 | Loss 1.8025807857513427\n"
     ]
    },
    {
     "name": "stdout",
     "output_type": "stream",
     "text": [
      "CV 0 | Epoch 1150 | Loss 1.8040349330220904\n"
     ]
    },
    {
     "name": "stdout",
     "output_type": "stream",
     "text": [
      "CV 0 | Epoch 1160 | Loss 1.800099903345108\n"
     ]
    },
    {
     "name": "stdout",
     "output_type": "stream",
     "text": [
      "CV 0 | Epoch 1170 | Loss 1.8007158185754504\n"
     ]
    },
    {
     "name": "stdout",
     "output_type": "stream",
     "text": [
      "CV 0 | Epoch 1180 | Loss 1.8044775920254843\n"
     ]
    },
    {
     "name": "stdout",
     "output_type": "stream",
     "text": [
      "CV 0 | Epoch 1190 | Loss 1.800229834658759\n"
     ]
    },
    {
     "name": "stdout",
     "output_type": "stream",
     "text": [
      "CV 0 | Epoch 1200 | Loss 1.7974655772958483\n"
     ]
    },
    {
     "name": "stdout",
     "output_type": "stream",
     "text": [
      "CV 0 | Epoch 1210 | Loss 1.801731319938387\n"
     ]
    },
    {
     "name": "stdout",
     "output_type": "stream",
     "text": [
      "CV 0 | Epoch 1220 | Loss 1.7901218903916223\n"
     ]
    },
    {
     "name": "stdout",
     "output_type": "stream",
     "text": [
      "CV 0 | Epoch 1230 | Loss 1.7934478955609459\n"
     ]
    },
    {
     "name": "stdout",
     "output_type": "stream",
     "text": [
      "CV 0 | Epoch 1240 | Loss 1.7938916427748544\n"
     ]
    },
    {
     "name": "stdout",
     "output_type": "stream",
     "text": [
      "CV 0 | Epoch 1250 | Loss 1.8016221616949355\n"
     ]
    },
    {
     "name": "stdout",
     "output_type": "stream",
     "text": [
      "CV 0 | Epoch 1260 | Loss 1.8020177330289568\n"
     ]
    },
    {
     "name": "stdout",
     "output_type": "stream",
     "text": [
      "CV 0 | Epoch 1270 | Loss 1.800253507069179\n"
     ]
    },
    {
     "name": "stdout",
     "output_type": "stream",
     "text": [
      "CV 0 | Epoch 1280 | Loss 1.7935257996831622\n"
     ]
    },
    {
     "name": "stdout",
     "output_type": "stream",
     "text": [
      "CV 0 | Epoch 1290 | Loss 1.7930716191019331\n"
     ]
    },
    {
     "name": "stdout",
     "output_type": "stream",
     "text": [
      "CV 0 | Epoch 1300 | Loss 1.7937877195222036\n"
     ]
    },
    {
     "name": "stdout",
     "output_type": "stream",
     "text": [
      "CV 0 | Epoch 1310 | Loss 1.7934160147394453\n"
     ]
    },
    {
     "name": "stdout",
     "output_type": "stream",
     "text": [
      "CV 0 | Epoch 1320 | Loss 1.7966589144298009\n"
     ]
    },
    {
     "name": "stdout",
     "output_type": "stream",
     "text": [
      "CV 0 | Epoch 1330 | Loss 1.7958029304231917\n"
     ]
    },
    {
     "name": "stdout",
     "output_type": "stream",
     "text": [
      "CV 0 | Epoch 1340 | Loss 1.7964258474963053\n"
     ]
    },
    {
     "name": "stdout",
     "output_type": "stream",
     "text": [
      "CV 0 | Epoch 1350 | Loss 1.7938882981027875\n"
     ]
    },
    {
     "name": "stdout",
     "output_type": "stream",
     "text": [
      "CV 0 | Epoch 1360 | Loss 1.7968842438289097\n"
     ]
    },
    {
     "name": "stdout",
     "output_type": "stream",
     "text": [
      "CV 0 | Epoch 1370 | Loss 1.789480915239879\n"
     ]
    },
    {
     "name": "stdout",
     "output_type": "stream",
     "text": [
      "CV 0 | Epoch 1380 | Loss 1.7918391627924783\n"
     ]
    },
    {
     "name": "stdout",
     "output_type": "stream",
     "text": [
      "CV 0 | Epoch 1390 | Loss 1.7917299687862396\n"
     ]
    },
    {
     "name": "stdout",
     "output_type": "stream",
     "text": [
      "CV 0 | Epoch 1400 | Loss 1.794719810145242\n"
     ]
    },
    {
     "name": "stdout",
     "output_type": "stream",
     "text": [
      "CV 0 | Epoch 1410 | Loss 1.791582212277821\n"
     ]
    },
    {
     "name": "stdout",
     "output_type": "stream",
     "text": [
      "CV 0 | Epoch 1420 | Loss 1.7870769969054632\n"
     ]
    },
    {
     "name": "stdout",
     "output_type": "stream",
     "text": [
      "CV 0 | Epoch 1430 | Loss 1.7907279295580727\n"
     ]
    },
    {
     "name": "stdout",
     "output_type": "stream",
     "text": [
      "CV 0 | Epoch 1440 | Loss 1.7893593404974257\n"
     ]
    },
    {
     "name": "stdout",
     "output_type": "stream",
     "text": [
      "CV 0 | Epoch 1450 | Loss 1.7927946993282864\n"
     ]
    },
    {
     "name": "stdout",
     "output_type": "stream",
     "text": [
      "CV 0 | Epoch 1460 | Loss 1.7890416605131967\n"
     ]
    },
    {
     "name": "stdout",
     "output_type": "stream",
     "text": [
      "CV 0 | Epoch 1470 | Loss 1.7936694928577968\n"
     ]
    },
    {
     "name": "stdout",
     "output_type": "stream",
     "text": [
      "CV 0 | Epoch 1480 | Loss 1.7866954922676086\n"
     ]
    },
    {
     "name": "stdout",
     "output_type": "stream",
     "text": [
      "CV 0 | Epoch 1490 | Loss 1.7924542052405221\n"
     ]
    },
    {
     "name": "stdout",
     "output_type": "stream",
     "text": [
      "CV 0 | Epoch 1500 | Loss 1.7902201082025255\n"
     ]
    },
    {
     "name": "stdout",
     "output_type": "stream",
     "text": [
      "CV 0 | Epoch 1510 | Loss 1.7811635545321873\n"
     ]
    },
    {
     "name": "stdout",
     "output_type": "stream",
     "text": [
      "CV 0 | Epoch 1520 | Loss 1.7903798460960387\n"
     ]
    },
    {
     "name": "stdout",
     "output_type": "stream",
     "text": [
      "CV 0 | Epoch 1530 | Loss 1.7914277476923806\n"
     ]
    },
    {
     "name": "stdout",
     "output_type": "stream",
     "text": [
      "CV 0 | Epoch 1540 | Loss 1.7926688075065613\n"
     ]
    },
    {
     "name": "stdout",
     "output_type": "stream",
     "text": [
      "CV 0 | Epoch 1550 | Loss 1.7887253650597164\n"
     ]
    },
    {
     "name": "stdout",
     "output_type": "stream",
     "text": [
      "CV 0 | Epoch 1560 | Loss 1.7858514513288226\n"
     ]
    },
    {
     "name": "stdout",
     "output_type": "stream",
     "text": [
      "CV 0 | Epoch 1570 | Loss 1.7880685363497053\n"
     ]
    },
    {
     "name": "stdout",
     "output_type": "stream",
     "text": [
      "CV 0 | Epoch 1580 | Loss 1.7941803216934205\n"
     ]
    },
    {
     "name": "stdout",
     "output_type": "stream",
     "text": [
      "CV 0 | Epoch 1590 | Loss 1.785120228784425\n"
     ]
    },
    {
     "name": "stdout",
     "output_type": "stream",
     "text": [
      "CV 0 | Epoch 1600 | Loss 1.7813359107289994\n"
     ]
    },
    {
     "name": "stdout",
     "output_type": "stream",
     "text": [
      "CV 0 | Epoch 1610 | Loss 1.7802360679422107\n"
     ]
    },
    {
     "name": "stdout",
     "output_type": "stream",
     "text": [
      "CV 0 | Epoch 1620 | Loss 1.7823905169963836\n"
     ]
    },
    {
     "name": "stdout",
     "output_type": "stream",
     "text": [
      "CV 0 | Epoch 1630 | Loss 1.7858048975467682\n"
     ]
    },
    {
     "name": "stdout",
     "output_type": "stream",
     "text": [
      "CV 0 | Epoch 1640 | Loss 1.78280154807227\n"
     ]
    },
    {
     "name": "stdout",
     "output_type": "stream",
     "text": [
      "CV 0 | Epoch 1650 | Loss 1.783366142000471\n"
     ]
    },
    {
     "name": "stdout",
     "output_type": "stream",
     "text": [
      "CV 0 | Epoch 1660 | Loss 1.781920622076307\n"
     ]
    },
    {
     "name": "stdout",
     "output_type": "stream",
     "text": [
      "CV 0 | Epoch 1670 | Loss 1.7791864054543631\n"
     ]
    },
    {
     "name": "stdout",
     "output_type": "stream",
     "text": [
      "CV 0 | Epoch 1680 | Loss 1.7805781475135258\n"
     ]
    },
    {
     "name": "stdout",
     "output_type": "stream",
     "text": [
      "CV 0 | Epoch 1690 | Loss 1.7742273824555532\n"
     ]
    },
    {
     "name": "stdout",
     "output_type": "stream",
     "text": [
      "CV 0 | Epoch 1700 | Loss 1.7846095289502826\n"
     ]
    },
    {
     "name": "stdout",
     "output_type": "stream",
     "text": [
      "CV 0 | Epoch 1710 | Loss 1.783719265460968\n"
     ]
    },
    {
     "name": "stdout",
     "output_type": "stream",
     "text": [
      "CV 0 | Epoch 1720 | Loss 1.7838788381644657\n"
     ]
    },
    {
     "name": "stdout",
     "output_type": "stream",
     "text": [
      "CV 0 | Epoch 1730 | Loss 1.7846233350890024\n"
     ]
    },
    {
     "name": "stdout",
     "output_type": "stream",
     "text": [
      "CV 0 | Epoch 1740 | Loss 1.7711038146700178\n"
     ]
    },
    {
     "name": "stdout",
     "output_type": "stream",
     "text": [
      "CV 0 | Epoch 1750 | Loss 1.7785644565309797\n"
     ]
    },
    {
     "name": "stdout",
     "output_type": "stream",
     "text": [
      "CV 0 | Epoch 1760 | Loss 1.7700807239328111\n"
     ]
    },
    {
     "name": "stdout",
     "output_type": "stream",
     "text": [
      "CV 0 | Epoch 1770 | Loss 1.7772454985550472\n"
     ]
    },
    {
     "name": "stdout",
     "output_type": "stream",
     "text": [
      "CV 0 | Epoch 1780 | Loss 1.7760387565408433\n"
     ]
    },
    {
     "name": "stdout",
     "output_type": "stream",
     "text": [
      "CV 0 | Epoch 1790 | Loss 1.7767968169280461\n"
     ]
    },
    {
     "name": "stdout",
     "output_type": "stream",
     "text": [
      "CV 0 | Epoch 1800 | Loss 1.7691582867077418\n"
     ]
    },
    {
     "name": "stdout",
     "output_type": "stream",
     "text": [
      "CV 0 | Epoch 1810 | Loss 1.7709009434495653\n"
     ]
    },
    {
     "name": "stdout",
     "output_type": "stream",
     "text": [
      "CV 0 | Epoch 1820 | Loss 1.7808532612664358\n"
     ]
    },
    {
     "name": "stdout",
     "output_type": "stream",
     "text": [
      "CV 0 | Epoch 1830 | Loss 1.7775914686066763\n"
     ]
    },
    {
     "name": "stdout",
     "output_type": "stream",
     "text": [
      "CV 0 | Epoch 1840 | Loss 1.7754510862486703\n"
     ]
    },
    {
     "name": "stdout",
     "output_type": "stream",
     "text": [
      "CV 0 | Epoch 1850 | Loss 1.7700003010886056\n"
     ]
    },
    {
     "name": "stdout",
     "output_type": "stream",
     "text": [
      "CV 0 | Epoch 1860 | Loss 1.7689086965152196\n"
     ]
    },
    {
     "name": "stdout",
     "output_type": "stream",
     "text": [
      "CV 0 | Epoch 1870 | Loss 1.78092731152262\n"
     ]
    },
    {
     "name": "stdout",
     "output_type": "stream",
     "text": [
      "CV 0 | Epoch 1880 | Loss 1.772158613375255\n"
     ]
    },
    {
     "name": "stdout",
     "output_type": "stream",
     "text": [
      "CV 0 | Epoch 1890 | Loss 1.7694801713739123\n"
     ]
    },
    {
     "name": "stdout",
     "output_type": "stream",
     "text": [
      "CV 0 | Epoch 1900 | Loss 1.7792309394904546\n"
     ]
    },
    {
     "name": "stdout",
     "output_type": "stream",
     "text": [
      "CV 0 | Epoch 1910 | Loss 1.7681602111884527\n"
     ]
    },
    {
     "name": "stdout",
     "output_type": "stream",
     "text": [
      "CV 0 | Epoch 1920 | Loss 1.7618575411183492\n"
     ]
    },
    {
     "name": "stdout",
     "output_type": "stream",
     "text": [
      "CV 0 | Epoch 1930 | Loss 1.7708323776721955\n"
     ]
    },
    {
     "name": "stdout",
     "output_type": "stream",
     "text": [
      "CV 0 | Epoch 1940 | Loss 1.7683584128107344\n"
     ]
    },
    {
     "name": "stdout",
     "output_type": "stream",
     "text": [
      "CV 0 | Epoch 1950 | Loss 1.7758809694222042\n"
     ]
    },
    {
     "name": "stdout",
     "output_type": "stream",
     "text": [
      "CV 0 | Epoch 1960 | Loss 1.764453295298985\n"
     ]
    },
    {
     "name": "stdout",
     "output_type": "stream",
     "text": [
      "CV 0 | Epoch 1970 | Loss 1.7723763840539115\n"
     ]
    },
    {
     "name": "stdout",
     "output_type": "stream",
     "text": [
      "CV 0 | Epoch 1980 | Loss 1.7661895556109293\n"
     ]
    },
    {
     "name": "stdout",
     "output_type": "stream",
     "text": [
      "CV 0 | Epoch 1990 | Loss 1.7600194249834333\n"
     ]
    },
    {
     "name": "stdout",
     "output_type": "stream",
     "text": [
      "CV 0 | Epoch 2000 | Loss 1.7714534291199275\n"
     ]
    },
    {
     "name": "stdout",
     "output_type": "stream",
     "text": [
      "CV 0 | Epoch 2010 | Loss 1.7694890209606715\n"
     ]
    },
    {
     "name": "stdout",
     "output_type": "stream",
     "text": [
      "CV 0 | Epoch 2020 | Loss 1.7661816239356996\n"
     ]
    },
    {
     "name": "stdout",
     "output_type": "stream",
     "text": [
      "CV 0 | Epoch 2030 | Loss 1.7628381294863564\n"
     ]
    },
    {
     "name": "stdout",
     "output_type": "stream",
     "text": [
      "CV 0 | Epoch 2040 | Loss 1.772543444803783\n"
     ]
    },
    {
     "name": "stdout",
     "output_type": "stream",
     "text": [
      "CV 0 | Epoch 2050 | Loss 1.7743202839578902\n"
     ]
    },
    {
     "name": "stdout",
     "output_type": "stream",
     "text": [
      "CV 0 | Epoch 2060 | Loss 1.7670738914183208\n"
     ]
    },
    {
     "name": "stdout",
     "output_type": "stream",
     "text": [
      "CV 0 | Epoch 2070 | Loss 1.7612608049597058\n"
     ]
    },
    {
     "name": "stdout",
     "output_type": "stream",
     "text": [
      "CV 0 | Epoch 2080 | Loss 1.7630383606467928\n"
     ]
    },
    {
     "name": "stdout",
     "output_type": "stream",
     "text": [
      "CV 0 | Epoch 2090 | Loss 1.7671514741012029\n"
     ]
    },
    {
     "name": "stdout",
     "output_type": "stream",
     "text": [
      "CV 0 | Epoch 2100 | Loss 1.76327509028571\n"
     ]
    },
    {
     "name": "stdout",
     "output_type": "stream",
     "text": [
      "CV 0 | Epoch 2110 | Loss 1.7600839138031006\n"
     ]
    },
    {
     "name": "stdout",
     "output_type": "stream",
     "text": [
      "CV 0 | Epoch 2120 | Loss 1.7678058181490217\n"
     ]
    },
    {
     "name": "stdout",
     "output_type": "stream",
     "text": [
      "CV 0 | Epoch 2130 | Loss 1.7636904111930303\n"
     ]
    },
    {
     "name": "stdout",
     "output_type": "stream",
     "text": [
      "CV 0 | Epoch 2140 | Loss 1.7635780683585576\n"
     ]
    },
    {
     "name": "stdout",
     "output_type": "stream",
     "text": [
      "CV 0 | Epoch 2150 | Loss 1.764046038900103\n"
     ]
    },
    {
     "name": "stdout",
     "output_type": "stream",
     "text": [
      "CV 0 | Epoch 2160 | Loss 1.7658027563776288\n"
     ]
    },
    {
     "name": "stdout",
     "output_type": "stream",
     "text": [
      "CV 0 | Epoch 2170 | Loss 1.7613290331193379\n"
     ]
    },
    {
     "name": "stdout",
     "output_type": "stream",
     "text": [
      "CV 0 | Epoch 2180 | Loss 1.7686153641768865\n"
     ]
    },
    {
     "name": "stdout",
     "output_type": "stream",
     "text": [
      "CV 0 | Epoch 2190 | Loss 1.7598290145397186\n"
     ]
    },
    {
     "name": "stdout",
     "output_type": "stream",
     "text": [
      "CV 0 | Epoch 2200 | Loss 1.7701204563890185\n"
     ]
    },
    {
     "name": "stdout",
     "output_type": "stream",
     "text": [
      "CV 0 | Epoch 2210 | Loss 1.757337154660906\n"
     ]
    },
    {
     "name": "stdout",
     "output_type": "stream",
     "text": [
      "CV 0 | Epoch 2220 | Loss 1.7622396511690956\n"
     ]
    },
    {
     "name": "stdout",
     "output_type": "stream",
     "text": [
      "CV 0 | Epoch 2230 | Loss 1.755145229612078\n"
     ]
    },
    {
     "name": "stdout",
     "output_type": "stream",
     "text": [
      "CV 0 | Epoch 2240 | Loss 1.7593773118087224\n"
     ]
    },
    {
     "name": "stdout",
     "output_type": "stream",
     "text": [
      "CV 0 | Epoch 2250 | Loss 1.758801394701004\n"
     ]
    },
    {
     "name": "stdout",
     "output_type": "stream",
     "text": [
      "CV 0 | Epoch 2260 | Loss 1.754898508957454\n"
     ]
    },
    {
     "name": "stdout",
     "output_type": "stream",
     "text": [
      "CV 0 | Epoch 2270 | Loss 1.7535969538348062\n"
     ]
    },
    {
     "name": "stdout",
     "output_type": "stream",
     "text": [
      "CV 0 | Epoch 2280 | Loss 1.7526277099336898\n"
     ]
    },
    {
     "name": "stdout",
     "output_type": "stream",
     "text": [
      "CV 0 | Epoch 2290 | Loss 1.758255489383425\n"
     ]
    },
    {
     "name": "stdout",
     "output_type": "stream",
     "text": [
      "CV 0 | Epoch 2300 | Loss 1.7539477246148245\n"
     ]
    },
    {
     "name": "stdout",
     "output_type": "stream",
     "text": [
      "CV 0 | Epoch 2310 | Loss 1.7525143555232456\n"
     ]
    },
    {
     "name": "stdout",
     "output_type": "stream",
     "text": [
      "CV 0 | Epoch 2320 | Loss 1.7553222268819808\n"
     ]
    },
    {
     "name": "stdout",
     "output_type": "stream",
     "text": [
      "CV 0 | Epoch 2330 | Loss 1.7575277592454637\n"
     ]
    },
    {
     "name": "stdout",
     "output_type": "stream",
     "text": [
      "CV 0 | Epoch 2340 | Loss 1.7564569013459341\n"
     ]
    },
    {
     "name": "stdout",
     "output_type": "stream",
     "text": [
      "CV 0 | Epoch 2350 | Loss 1.7602684821401324\n"
     ]
    },
    {
     "name": "stdout",
     "output_type": "stream",
     "text": [
      "CV 0 | Epoch 2360 | Loss 1.7586296600954874\n"
     ]
    },
    {
     "name": "stdout",
     "output_type": "stream",
     "text": [
      "CV 0 | Epoch 2370 | Loss 1.7541971717561995\n"
     ]
    },
    {
     "name": "stdout",
     "output_type": "stream",
     "text": [
      "CV 0 | Epoch 2380 | Loss 1.7627725882189615\n"
     ]
    },
    {
     "name": "stdout",
     "output_type": "stream",
     "text": [
      "CV 0 | Epoch 2390 | Loss 1.7544471672603061\n"
     ]
    },
    {
     "name": "stdout",
     "output_type": "stream",
     "text": [
      "CV 0 | Epoch 2400 | Loss 1.7511713334492274\n"
     ]
    },
    {
     "name": "stdout",
     "output_type": "stream",
     "text": [
      "CV 0 | Epoch 2410 | Loss 1.7558845128331866\n"
     ]
    },
    {
     "name": "stdout",
     "output_type": "stream",
     "text": [
      "CV 0 | Epoch 2420 | Loss 1.752211606502533\n"
     ]
    },
    {
     "name": "stdout",
     "output_type": "stream",
     "text": [
      "CV 0 | Epoch 2430 | Loss 1.7474643213408334\n"
     ]
    },
    {
     "name": "stdout",
     "output_type": "stream",
     "text": [
      "CV 0 | Epoch 2440 | Loss 1.757361305611474\n"
     ]
    },
    {
     "name": "stdout",
     "output_type": "stream",
     "text": [
      "CV 0 | Epoch 2450 | Loss 1.7564102360180447\n"
     ]
    },
    {
     "name": "stdout",
     "output_type": "stream",
     "text": [
      "CV 0 | Epoch 2460 | Loss 1.7607295743056706\n"
     ]
    },
    {
     "name": "stdout",
     "output_type": "stream",
     "text": [
      "CV 0 | Epoch 2470 | Loss 1.7571346368108476\n"
     ]
    },
    {
     "name": "stdout",
     "output_type": "stream",
     "text": [
      "CV 0 | Epoch 2480 | Loss 1.74818987931524\n"
     ]
    },
    {
     "name": "stdout",
     "output_type": "stream",
     "text": [
      "CV 0 | Epoch 2490 | Loss 1.755478196484702\n"
     ]
    },
    {
     "name": "stdout",
     "output_type": "stream",
     "text": [
      "CV 0 | Epoch 2500 | Loss 1.7518323762076242\n"
     ]
    },
    {
     "name": "stdout",
     "output_type": "stream",
     "text": [
      "CV 0 | Epoch 2510 | Loss 1.7487728757517678\n"
     ]
    },
    {
     "name": "stdout",
     "output_type": "stream",
     "text": [
      "CV 0 | Epoch 2520 | Loss 1.751367348432541\n"
     ]
    },
    {
     "name": "stdout",
     "output_type": "stream",
     "text": [
      "CV 0 | Epoch 2530 | Loss 1.750508175577436\n"
     ]
    },
    {
     "name": "stdout",
     "output_type": "stream",
     "text": [
      "CV 0 | Epoch 2540 | Loss 1.757229335818972\n"
     ]
    },
    {
     "name": "stdout",
     "output_type": "stream",
     "text": [
      "CV 0 | Epoch 2550 | Loss 1.7578205193792071\n"
     ]
    },
    {
     "name": "stdout",
     "output_type": "stream",
     "text": [
      "CV 0 | Epoch 2560 | Loss 1.7544683141367776\n"
     ]
    },
    {
     "name": "stdout",
     "output_type": "stream",
     "text": [
      "CV 0 | Epoch 2570 | Loss 1.7503794142178126\n"
     ]
    },
    {
     "name": "stdout",
     "output_type": "stream",
     "text": [
      "CV 0 | Epoch 2580 | Loss 1.7458544330937522\n"
     ]
    },
    {
     "name": "stdout",
     "output_type": "stream",
     "text": [
      "CV 0 | Epoch 2590 | Loss 1.744313771384103\n"
     ]
    },
    {
     "name": "stdout",
     "output_type": "stream",
     "text": [
      "CV 0 | Epoch 2600 | Loss 1.742310812643596\n"
     ]
    },
    {
     "name": "stdout",
     "output_type": "stream",
     "text": [
      "CV 0 | Epoch 2610 | Loss 1.751333191565105\n"
     ]
    },
    {
     "name": "stdout",
     "output_type": "stream",
     "text": [
      "CV 0 | Epoch 2620 | Loss 1.7508267079080855\n"
     ]
    },
    {
     "name": "stdout",
     "output_type": "stream",
     "text": [
      "CV 0 | Epoch 2630 | Loss 1.7496701513017927\n"
     ]
    },
    {
     "name": "stdout",
     "output_type": "stream",
     "text": [
      "CV 0 | Epoch 2640 | Loss 1.751717942101615\n"
     ]
    },
    {
     "name": "stdout",
     "output_type": "stream",
     "text": [
      "CV 0 | Epoch 2650 | Loss 1.747229883500508\n"
     ]
    },
    {
     "name": "stdout",
     "output_type": "stream",
     "text": [
      "CV 0 | Epoch 2660 | Loss 1.7432219326496123\n"
     ]
    },
    {
     "name": "stdout",
     "output_type": "stream",
     "text": [
      "CV 0 | Epoch 2670 | Loss 1.7437746699367251\n"
     ]
    },
    {
     "name": "stdout",
     "output_type": "stream",
     "text": [
      "CV 0 | Epoch 2680 | Loss 1.747449152810233\n"
     ]
    },
    {
     "name": "stdout",
     "output_type": "stream",
     "text": [
      "CV 0 | Epoch 2690 | Loss 1.7437842071056366\n"
     ]
    },
    {
     "name": "stdout",
     "output_type": "stream",
     "text": [
      "CV 0 | Epoch 2700 | Loss 1.747790333202907\n"
     ]
    },
    {
     "name": "stdout",
     "output_type": "stream",
     "text": [
      "CV 0 | Epoch 2710 | Loss 1.750876465865544\n"
     ]
    },
    {
     "name": "stdout",
     "output_type": "stream",
     "text": [
      "CV 0 | Epoch 2720 | Loss 1.75344220995903\n"
     ]
    },
    {
     "name": "stdout",
     "output_type": "stream",
     "text": [
      "CV 0 | Epoch 2730 | Loss 1.7474234470299312\n"
     ]
    },
    {
     "name": "stdout",
     "output_type": "stream",
     "text": [
      "CV 0 | Epoch 2740 | Loss 1.7468959250620433\n"
     ]
    },
    {
     "name": "stdout",
     "output_type": "stream",
     "text": [
      "CV 0 | Epoch 2750 | Loss 1.7469253633703505\n"
     ]
    },
    {
     "name": "stdout",
     "output_type": "stream",
     "text": [
      "CV 0 | Epoch 2760 | Loss 1.7443616424288069\n"
     ]
    },
    {
     "name": "stdout",
     "output_type": "stream",
     "text": [
      "CV 0 | Epoch 2770 | Loss 1.743093260696956\n"
     ]
    },
    {
     "name": "stdout",
     "output_type": "stream",
     "text": [
      "CV 0 | Epoch 2780 | Loss 1.7459705242088863\n"
     ]
    },
    {
     "name": "stdout",
     "output_type": "stream",
     "text": [
      "CV 0 | Epoch 2790 | Loss 1.7446899967534202\n"
     ]
    },
    {
     "name": "stdout",
     "output_type": "stream",
     "text": [
      "CV 0 | Epoch 2800 | Loss 1.7443543314933776\n"
     ]
    },
    {
     "name": "stdout",
     "output_type": "stream",
     "text": [
      "CV 0 | Epoch 2810 | Loss 1.7452344698565347\n"
     ]
    },
    {
     "name": "stdout",
     "output_type": "stream",
     "text": [
      "CV 0 | Epoch 2820 | Loss 1.7424346446990966\n"
     ]
    },
    {
     "name": "stdout",
     "output_type": "stream",
     "text": [
      "CV 0 | Epoch 2830 | Loss 1.7491887739726475\n"
     ]
    },
    {
     "name": "stdout",
     "output_type": "stream",
     "text": [
      "CV 0 | Epoch 2840 | Loss 1.7453509867191315\n"
     ]
    },
    {
     "name": "stdout",
     "output_type": "stream",
     "text": [
      "CV 0 | Epoch 2850 | Loss 1.746430586065565\n"
     ]
    },
    {
     "name": "stdout",
     "output_type": "stream",
     "text": [
      "CV 0 | Epoch 2860 | Loss 1.7419930441038949\n"
     ]
    },
    {
     "name": "stdout",
     "output_type": "stream",
     "text": [
      "CV 0 | Epoch 2870 | Loss 1.743185225554875\n"
     ]
    },
    {
     "name": "stdout",
     "output_type": "stream",
     "text": [
      "CV 0 | Epoch 2880 | Loss 1.7443173280784061\n"
     ]
    },
    {
     "name": "stdout",
     "output_type": "stream",
     "text": [
      "CV 0 | Epoch 2890 | Loss 1.7416547783783505\n"
     ]
    },
    {
     "name": "stdout",
     "output_type": "stream",
     "text": [
      "CV 0 | Epoch 2900 | Loss 1.7441360890865325\n"
     ]
    },
    {
     "name": "stdout",
     "output_type": "stream",
     "text": [
      "CV 0 | Epoch 2910 | Loss 1.737944693650518\n"
     ]
    },
    {
     "name": "stdout",
     "output_type": "stream",
     "text": [
      "CV 0 | Epoch 2920 | Loss 1.7433464416435787\n"
     ]
    },
    {
     "name": "stdout",
     "output_type": "stream",
     "text": [
      "CV 0 | Epoch 2930 | Loss 1.7509510985442571\n"
     ]
    },
    {
     "name": "stdout",
     "output_type": "stream",
     "text": [
      "CV 0 | Epoch 2940 | Loss 1.7454869857856206\n"
     ]
    },
    {
     "name": "stdout",
     "output_type": "stream",
     "text": [
      "CV 0 | Epoch 2950 | Loss 1.7502058267593383\n"
     ]
    },
    {
     "name": "stdout",
     "output_type": "stream",
     "text": [
      "CV 0 | Epoch 2960 | Loss 1.7404417774506977\n"
     ]
    },
    {
     "name": "stdout",
     "output_type": "stream",
     "text": [
      "CV 0 | Epoch 2970 | Loss 1.7479081341198512\n"
     ]
    },
    {
     "name": "stdout",
     "output_type": "stream",
     "text": [
      "CV 0 | Epoch 2980 | Loss 1.7539132399218422\n"
     ]
    },
    {
     "name": "stdout",
     "output_type": "stream",
     "text": [
      "CV 0 | Epoch 2990 | Loss 1.7447482245309012\n"
     ]
    },
    {
     "name": "stdout",
     "output_type": "stream",
     "text": [
      "CV 0 | Epoch 3000 | Loss 1.7486996625150952\n"
     ]
    },
    {
     "name": "stdout",
     "output_type": "stream",
     "text": [
      "CV 0 | Epoch 3010 | Loss 1.7396822094917297\n"
     ]
    },
    {
     "name": "stdout",
     "output_type": "stream",
     "text": [
      "CV 0 | Epoch 3020 | Loss 1.7371357687882014\n"
     ]
    },
    {
     "name": "stdout",
     "output_type": "stream",
     "text": [
      "CV 0 | Epoch 3030 | Loss 1.7408875431333268\n"
     ]
    },
    {
     "name": "stdout",
     "output_type": "stream",
     "text": [
      "CV 0 | Epoch 3040 | Loss 1.7487410928521838\n"
     ]
    },
    {
     "name": "stdout",
     "output_type": "stream",
     "text": [
      "CV 0 | Epoch 3050 | Loss 1.7445851402623314\n"
     ]
    },
    {
     "name": "stdout",
     "output_type": "stream",
     "text": [
      "CV 0 | Epoch 3060 | Loss 1.7418165172849382\n"
     ]
    },
    {
     "name": "stdout",
     "output_type": "stream",
     "text": [
      "CV 0 | Epoch 3070 | Loss 1.7330982651029314\n"
     ]
    },
    {
     "name": "stdout",
     "output_type": "stream",
     "text": [
      "CV 0 | Epoch 3080 | Loss 1.748662891132491\n"
     ]
    },
    {
     "name": "stdout",
     "output_type": "stream",
     "text": [
      "CV 0 | Epoch 3090 | Loss 1.743147896868842\n"
     ]
    },
    {
     "name": "stdout",
     "output_type": "stream",
     "text": [
      "CV 0 | Epoch 3100 | Loss 1.7474597351891654\n"
     ]
    },
    {
     "name": "stdout",
     "output_type": "stream",
     "text": [
      "CV 0 | Epoch 3110 | Loss 1.7382897325924465\n"
     ]
    },
    {
     "name": "stdout",
     "output_type": "stream",
     "text": [
      "CV 0 | Epoch 3120 | Loss 1.7359579878193991\n"
     ]
    },
    {
     "name": "stdout",
     "output_type": "stream",
     "text": [
      "CV 0 | Epoch 3130 | Loss 1.7340002272810255\n"
     ]
    },
    {
     "name": "stdout",
     "output_type": "stream",
     "text": [
      "CV 0 | Epoch 3140 | Loss 1.7359505278723582\n"
     ]
    },
    {
     "name": "stdout",
     "output_type": "stream",
     "text": [
      "CV 0 | Epoch 3150 | Loss 1.7398947732789176\n"
     ]
    },
    {
     "name": "stdout",
     "output_type": "stream",
     "text": [
      "CV 0 | Epoch 3160 | Loss 1.7433109087603433\n"
     ]
    },
    {
     "name": "stdout",
     "output_type": "stream",
     "text": [
      "CV 0 | Epoch 3170 | Loss 1.733223445074899\n"
     ]
    },
    {
     "name": "stdout",
     "output_type": "stream",
     "text": [
      "CV 0 | Epoch 3180 | Loss 1.7429462288107191\n"
     ]
    },
    {
     "name": "stdout",
     "output_type": "stream",
     "text": [
      "CV 0 | Epoch 3190 | Loss 1.7440382225172861\n"
     ]
    },
    {
     "name": "stdout",
     "output_type": "stream",
     "text": [
      "CV 0 | Epoch 3200 | Loss 1.7434240528515408\n"
     ]
    },
    {
     "name": "stdout",
     "output_type": "stream",
     "text": [
      "CV 0 | Epoch 3210 | Loss 1.7401024154254368\n"
     ]
    },
    {
     "name": "stdout",
     "output_type": "stream",
     "text": [
      "CV 0 | Epoch 3220 | Loss 1.7414199130875723\n"
     ]
    },
    {
     "name": "stdout",
     "output_type": "stream",
     "text": [
      "CV 0 | Epoch 3230 | Loss 1.7405240505933761\n"
     ]
    },
    {
     "name": "stdout",
     "output_type": "stream",
     "text": [
      "CV 0 | Epoch 3240 | Loss 1.7423450589179992\n"
     ]
    },
    {
     "name": "stdout",
     "output_type": "stream",
     "text": [
      "CV 0 | Epoch 3250 | Loss 1.7449247343199594\n"
     ]
    },
    {
     "name": "stdout",
     "output_type": "stream",
     "text": [
      "CV 0 | Epoch 3260 | Loss 1.7440953476088388\n"
     ]
    },
    {
     "name": "stdout",
     "output_type": "stream",
     "text": [
      "CV 0 | Epoch 3270 | Loss 1.7380769959517888\n"
     ]
    },
    {
     "name": "stdout",
     "output_type": "stream",
     "text": [
      "CV 0 | Epoch 3280 | Loss 1.7412626598562513\n"
     ]
    },
    {
     "name": "stdout",
     "output_type": "stream",
     "text": [
      "CV 0 | Epoch 3290 | Loss 1.7351865214960915\n"
     ]
    },
    {
     "name": "stdout",
     "output_type": "stream",
     "text": [
      "CV 0 | Epoch 3300 | Loss 1.7357918790408544\n"
     ]
    },
    {
     "name": "stdout",
     "output_type": "stream",
     "text": [
      "CV 0 | Epoch 3310 | Loss 1.739745467049735\n"
     ]
    },
    {
     "name": "stdout",
     "output_type": "stream",
     "text": [
      "CV 0 | Epoch 3320 | Loss 1.7426018817084177\n"
     ]
    },
    {
     "name": "stdout",
     "output_type": "stream",
     "text": [
      "CV 0 | Epoch 3330 | Loss 1.73231144121715\n"
     ]
    },
    {
     "name": "stdout",
     "output_type": "stream",
     "text": [
      "CV 0 | Epoch 3340 | Loss 1.7323628178664616\n"
     ]
    },
    {
     "name": "stdout",
     "output_type": "stream",
     "text": [
      "CV 0 | Epoch 3350 | Loss 1.7349796601704188\n"
     ]
    },
    {
     "name": "stdout",
     "output_type": "stream",
     "text": [
      "CV 0 | Epoch 3360 | Loss 1.7312486861433303\n"
     ]
    },
    {
     "name": "stdout",
     "output_type": "stream",
     "text": [
      "CV 0 | Epoch 3370 | Loss 1.7408958315849303\n"
     ]
    },
    {
     "name": "stdout",
     "output_type": "stream",
     "text": [
      "CV 0 | Epoch 3380 | Loss 1.7389709949493408\n"
     ]
    },
    {
     "name": "stdout",
     "output_type": "stream",
     "text": [
      "CV 0 | Epoch 3390 | Loss 1.737162047624588\n"
     ]
    },
    {
     "name": "stdout",
     "output_type": "stream",
     "text": [
      "CV 0 | Epoch 3400 | Loss 1.7381140342780521\n"
     ]
    },
    {
     "name": "stdout",
     "output_type": "stream",
     "text": [
      "CV 0 | Epoch 3410 | Loss 1.735022234916687\n"
     ]
    },
    {
     "name": "stdout",
     "output_type": "stream",
     "text": [
      "CV 0 | Epoch 3420 | Loss 1.7389750736100333\n"
     ]
    },
    {
     "name": "stdout",
     "output_type": "stream",
     "text": [
      "CV 0 | Epoch 3430 | Loss 1.7336748123168946\n"
     ]
    },
    {
     "name": "stdout",
     "output_type": "stream",
     "text": [
      "CV 0 | Epoch 3440 | Loss 1.739082957165582\n"
     ]
    },
    {
     "name": "stdout",
     "output_type": "stream",
     "text": [
      "CV 0 | Epoch 3450 | Loss 1.7317442378827503\n"
     ]
    },
    {
     "name": "stdout",
     "output_type": "stream",
     "text": [
      "CV 0 | Epoch 3460 | Loss 1.741047079222543\n"
     ]
    },
    {
     "name": "stdout",
     "output_type": "stream",
     "text": [
      "CV 0 | Epoch 3470 | Loss 1.73157850589071\n"
     ]
    },
    {
     "name": "stdout",
     "output_type": "stream",
     "text": [
      "CV 0 | Epoch 3480 | Loss 1.7423737032072886\n"
     ]
    },
    {
     "name": "stdout",
     "output_type": "stream",
     "text": [
      "CV 0 | Epoch 3490 | Loss 1.7413837603160314\n"
     ]
    },
    {
     "name": "stdout",
     "output_type": "stream",
     "text": [
      "CV 0 | Epoch 3500 | Loss 1.730951264500618\n"
     ]
    },
    {
     "name": "stdout",
     "output_type": "stream",
     "text": [
      "CV 0 | Epoch 3510 | Loss 1.7366877802780696\n"
     ]
    },
    {
     "name": "stdout",
     "output_type": "stream",
     "text": [
      "CV 0 | Epoch 3520 | Loss 1.7397307557719095\n"
     ]
    },
    {
     "name": "stdout",
     "output_type": "stream",
     "text": [
      "CV 0 | Epoch 3530 | Loss 1.7370819543089187\n"
     ]
    },
    {
     "name": "stdout",
     "output_type": "stream",
     "text": [
      "CV 0 | Epoch 3540 | Loss 1.7388333814484733\n"
     ]
    },
    {
     "name": "stdout",
     "output_type": "stream",
     "text": [
      "CV 0 | Epoch 3550 | Loss 1.7343184011323112\n"
     ]
    },
    {
     "name": "stdout",
     "output_type": "stream",
     "text": [
      "CV 0 | Epoch 3560 | Loss 1.7388733829770768\n"
     ]
    },
    {
     "name": "stdout",
     "output_type": "stream",
     "text": [
      "CV 0 | Epoch 3570 | Loss 1.7340138154370444\n"
     ]
    },
    {
     "name": "stdout",
     "output_type": "stream",
     "text": [
      "CV 0 | Epoch 3580 | Loss 1.7351569831371307\n"
     ]
    },
    {
     "name": "stdout",
     "output_type": "stream",
     "text": [
      "CV 0 | Epoch 3590 | Loss 1.7314609510557992\n"
     ]
    },
    {
     "name": "stdout",
     "output_type": "stream",
     "text": [
      "CV 0 | Epoch 3600 | Loss 1.7369940033980777\n"
     ]
    },
    {
     "name": "stdout",
     "output_type": "stream",
     "text": [
      "CV 0 | Epoch 3610 | Loss 1.7316286614962986\n"
     ]
    },
    {
     "name": "stdout",
     "output_type": "stream",
     "text": [
      "CV 0 | Epoch 3620 | Loss 1.7351251295634678\n"
     ]
    },
    {
     "name": "stdout",
     "output_type": "stream",
     "text": [
      "CV 0 | Epoch 3630 | Loss 1.736609232851437\n"
     ]
    },
    {
     "name": "stdout",
     "output_type": "stream",
     "text": [
      "CV 0 | Epoch 3640 | Loss 1.736291481767382\n"
     ]
    },
    {
     "name": "stdout",
     "output_type": "stream",
     "text": [
      "CV 0 | Epoch 3650 | Loss 1.7284695808376584\n"
     ]
    },
    {
     "name": "stdout",
     "output_type": "stream",
     "text": [
      "CV 0 | Epoch 3660 | Loss 1.7344970328467233\n"
     ]
    },
    {
     "name": "stdout",
     "output_type": "stream",
     "text": [
      "CV 0 | Epoch 3670 | Loss 1.7333820274897984\n"
     ]
    },
    {
     "name": "stdout",
     "output_type": "stream",
     "text": [
      "CV 0 | Epoch 3680 | Loss 1.7318496993609838\n"
     ]
    },
    {
     "name": "stdout",
     "output_type": "stream",
     "text": [
      "CV 0 | Epoch 3690 | Loss 1.7268600812980106\n"
     ]
    },
    {
     "name": "stdout",
     "output_type": "stream",
     "text": [
      "CV 0 | Epoch 3700 | Loss 1.735645581143243\n"
     ]
    },
    {
     "name": "stdout",
     "output_type": "stream",
     "text": [
      "CV 0 | Epoch 3710 | Loss 1.735382925612586\n"
     ]
    },
    {
     "name": "stdout",
     "output_type": "stream",
     "text": [
      "CV 0 | Epoch 3720 | Loss 1.7305409737995692\n"
     ]
    },
    {
     "name": "stdout",
     "output_type": "stream",
     "text": [
      "CV 0 | Epoch 3730 | Loss 1.731425547174045\n"
     ]
    },
    {
     "name": "stdout",
     "output_type": "stream",
     "text": [
      "CV 0 | Epoch 3740 | Loss 1.7370766154357364\n"
     ]
    },
    {
     "name": "stdout",
     "output_type": "stream",
     "text": [
      "CV 0 | Epoch 3750 | Loss 1.734734055825642\n"
     ]
    },
    {
     "name": "stdout",
     "output_type": "stream",
     "text": [
      "CV 0 | Epoch 3760 | Loss 1.7336777108056205\n"
     ]
    },
    {
     "name": "stdout",
     "output_type": "stream",
     "text": [
      "CV 0 | Epoch 3770 | Loss 1.732854814188821\n"
     ]
    },
    {
     "name": "stdout",
     "output_type": "stream",
     "text": [
      "CV 0 | Epoch 3780 | Loss 1.731245504106794\n"
     ]
    },
    {
     "name": "stdout",
     "output_type": "stream",
     "text": [
      "CV 0 | Epoch 3790 | Loss 1.7368270073618208\n"
     ]
    },
    {
     "name": "stdout",
     "output_type": "stream",
     "text": [
      "CV 0 | Epoch 3800 | Loss 1.7323292876992906\n"
     ]
    },
    {
     "name": "stdout",
     "output_type": "stream",
     "text": [
      "CV 0 | Epoch 3810 | Loss 1.7330109349318914\n"
     ]
    },
    {
     "name": "stdout",
     "output_type": "stream",
     "text": [
      "CV 0 | Epoch 3820 | Loss 1.7360743275710515\n"
     ]
    },
    {
     "name": "stdout",
     "output_type": "stream",
     "text": [
      "CV 0 | Epoch 3830 | Loss 1.7395020919186728\n"
     ]
    },
    {
     "name": "stdout",
     "output_type": "stream",
     "text": [
      "CV 0 | Epoch 3840 | Loss 1.7388597692762102\n"
     ]
    },
    {
     "name": "stdout",
     "output_type": "stream",
     "text": [
      "CV 0 | Epoch 3850 | Loss 1.7315507956913538\n"
     ]
    },
    {
     "name": "stdout",
     "output_type": "stream",
     "text": [
      "CV 0 | Epoch 3860 | Loss 1.7357559476579938\n"
     ]
    },
    {
     "name": "stdout",
     "output_type": "stream",
     "text": [
      "CV 0 | Epoch 3870 | Loss 1.731729165145329\n"
     ]
    },
    {
     "name": "stdout",
     "output_type": "stream",
     "text": [
      "CV 0 | Epoch 3880 | Loss 1.7313912613051279\n"
     ]
    },
    {
     "name": "stdout",
     "output_type": "stream",
     "text": [
      "CV 0 | Epoch 3890 | Loss 1.7333728747708457\n"
     ]
    },
    {
     "name": "stdout",
     "output_type": "stream",
     "text": [
      "CV 0 | Epoch 3900 | Loss 1.7376588727746691\n"
     ]
    },
    {
     "name": "stdout",
     "output_type": "stream",
     "text": [
      "CV 0 | Epoch 3910 | Loss 1.733220202582223\n"
     ]
    },
    {
     "name": "stdout",
     "output_type": "stream",
     "text": [
      "CV 0 | Epoch 3920 | Loss 1.7377229043415614\n"
     ]
    },
    {
     "name": "stdout",
     "output_type": "stream",
     "text": [
      "CV 0 | Epoch 3930 | Loss 1.7319755707468305\n"
     ]
    },
    {
     "name": "stdout",
     "output_type": "stream",
     "text": [
      "CV 0 | Epoch 3940 | Loss 1.7328128831727163\n"
     ]
    },
    {
     "name": "stdout",
     "output_type": "stream",
     "text": [
      "CV 0 | Epoch 3950 | Loss 1.730555876663753\n"
     ]
    },
    {
     "name": "stdout",
     "output_type": "stream",
     "text": [
      "CV 0 | Epoch 3960 | Loss 1.7391675625528609\n"
     ]
    },
    {
     "name": "stdout",
     "output_type": "stream",
     "text": [
      "CV 0 | Epoch 3970 | Loss 1.7350728162697384\n"
     ]
    },
    {
     "name": "stdout",
     "output_type": "stream",
     "text": [
      "CV 0 | Epoch 3980 | Loss 1.7274288564920426\n"
     ]
    },
    {
     "name": "stdout",
     "output_type": "stream",
     "text": [
      "CV 0 | Epoch 3990 | Loss 1.7356971459729331\n"
     ]
    },
    {
     "name": "stdout",
     "output_type": "stream",
     "text": [
      "CV 0 | Epoch 4000 | Loss 1.7331670360905784\n"
     ]
    },
    {
     "name": "stdout",
     "output_type": "stream",
     "text": [
      "CV 0 | Epoch 4010 | Loss 1.723991259932518\n"
     ]
    },
    {
     "name": "stdout",
     "output_type": "stream",
     "text": [
      "CV 0 | Epoch 4020 | Loss 1.7305663951805659\n"
     ]
    },
    {
     "name": "stdout",
     "output_type": "stream",
     "text": [
      "CV 0 | Epoch 4030 | Loss 1.726022220509393\n"
     ]
    },
    {
     "name": "stdout",
     "output_type": "stream",
     "text": [
      "CV 0 | Epoch 4040 | Loss 1.7375305644103458\n"
     ]
    },
    {
     "name": "stdout",
     "output_type": "stream",
     "text": [
      "CV 0 | Epoch 4050 | Loss 1.7402692820344652\n"
     ]
    },
    {
     "name": "stdout",
     "output_type": "stream",
     "text": [
      "CV 0 | Epoch 4060 | Loss 1.7313023226601736\n"
     ]
    },
    {
     "name": "stdout",
     "output_type": "stream",
     "text": [
      "CV 0 | Epoch 4070 | Loss 1.7320237168243953\n"
     ]
    },
    {
     "name": "stdout",
     "output_type": "stream",
     "text": [
      "CV 0 | Epoch 4080 | Loss 1.7341542286532265\n"
     ]
    },
    {
     "name": "stdout",
     "output_type": "stream",
     "text": [
      "CV 0 | Epoch 4090 | Loss 1.7322928956576755\n"
     ]
    },
    {
     "name": "stdout",
     "output_type": "stream",
     "text": [
      "CV 0 | Epoch 4100 | Loss 1.7307040572166443\n"
     ]
    },
    {
     "name": "stdout",
     "output_type": "stream",
     "text": [
      "CV 0 | Epoch 4110 | Loss 1.7319236372198377\n"
     ]
    },
    {
     "name": "stdout",
     "output_type": "stream",
     "text": [
      "CV 0 | Epoch 4120 | Loss 1.7276580614703043\n"
     ]
    },
    {
     "name": "stdout",
     "output_type": "stream",
     "text": [
      "CV 0 | Epoch 4130 | Loss 1.7336119753973824\n"
     ]
    },
    {
     "name": "stdout",
     "output_type": "stream",
     "text": [
      "CV 0 | Epoch 4140 | Loss 1.7306929060391016\n"
     ]
    },
    {
     "name": "stdout",
     "output_type": "stream",
     "text": [
      "CV 0 | Epoch 4150 | Loss 1.7279489023344858\n"
     ]
    },
    {
     "name": "stdout",
     "output_type": "stream",
     "text": [
      "CV 0 | Epoch 4160 | Loss 1.7309442971433913\n"
     ]
    },
    {
     "name": "stdout",
     "output_type": "stream",
     "text": [
      "CV 0 | Epoch 4170 | Loss 1.7375738986900875\n"
     ]
    },
    {
     "name": "stdout",
     "output_type": "stream",
     "text": [
      "CV 0 | Epoch 4180 | Loss 1.7281581767967769\n"
     ]
    },
    {
     "name": "stdout",
     "output_type": "stream",
     "text": [
      "CV 0 | Epoch 4190 | Loss 1.7284264807190215\n"
     ]
    },
    {
     "name": "stdout",
     "output_type": "stream",
     "text": [
      "CV 0 | Epoch 4200 | Loss 1.7291201591491698\n"
     ]
    },
    {
     "name": "stdout",
     "output_type": "stream",
     "text": [
      "CV 0 | Epoch 4210 | Loss 1.7258351517575128\n"
     ]
    },
    {
     "name": "stdout",
     "output_type": "stream",
     "text": [
      "CV 0 | Epoch 4220 | Loss 1.7257336803844996\n"
     ]
    },
    {
     "name": "stdout",
     "output_type": "stream",
     "text": [
      "CV 0 | Epoch 4230 | Loss 1.7235831005232676\n"
     ]
    },
    {
     "name": "stdout",
     "output_type": "stream",
     "text": [
      "CV 0 | Epoch 4240 | Loss 1.736718156508037\n"
     ]
    },
    {
     "name": "stdout",
     "output_type": "stream",
     "text": [
      "CV 0 | Epoch 4250 | Loss 1.7234182915517262\n"
     ]
    },
    {
     "name": "stdout",
     "output_type": "stream",
     "text": [
      "CV 0 | Epoch 4260 | Loss 1.7209948011807032\n"
     ]
    },
    {
     "name": "stdout",
     "output_type": "stream",
     "text": [
      "CV 0 | Epoch 4270 | Loss 1.73069440977914\n"
     ]
    },
    {
     "name": "stdout",
     "output_type": "stream",
     "text": [
      "CV 0 | Epoch 4280 | Loss 1.7327803100858417\n"
     ]
    },
    {
     "name": "stdout",
     "output_type": "stream",
     "text": [
      "CV 0 | Epoch 4290 | Loss 1.7340537071228028\n"
     ]
    },
    {
     "name": "stdout",
     "output_type": "stream",
     "text": [
      "CV 0 | Epoch 4300 | Loss 1.731259355374745\n"
     ]
    },
    {
     "name": "stdout",
     "output_type": "stream",
     "text": [
      "CV 0 | Epoch 4310 | Loss 1.7304668392453875\n"
     ]
    },
    {
     "name": "stdout",
     "output_type": "stream",
     "text": [
      "CV 0 | Epoch 4320 | Loss 1.7284976976258415\n"
     ]
    },
    {
     "name": "stdout",
     "output_type": "stream",
     "text": [
      "CV 0 | Epoch 4330 | Loss 1.7263028732367924\n"
     ]
    },
    {
     "name": "stdout",
     "output_type": "stream",
     "text": [
      "CV 0 | Epoch 4340 | Loss 1.7257565617561341\n"
     ]
    },
    {
     "name": "stdout",
     "output_type": "stream",
     "text": [
      "CV 0 | Epoch 4350 | Loss 1.7328681298664639\n"
     ]
    },
    {
     "name": "stdout",
     "output_type": "stream",
     "text": [
      "CV 0 | Epoch 4360 | Loss 1.7279067320483072\n"
     ]
    },
    {
     "name": "stdout",
     "output_type": "stream",
     "text": [
      "CV 0 | Epoch 4370 | Loss 1.7293940041746412\n"
     ]
    },
    {
     "name": "stdout",
     "output_type": "stream",
     "text": [
      "CV 0 | Epoch 4380 | Loss 1.7301069498062134\n"
     ]
    },
    {
     "name": "stdout",
     "output_type": "stream",
     "text": [
      "CV 0 | Epoch 4390 | Loss 1.7302313779081617\n"
     ]
    },
    {
     "name": "stdout",
     "output_type": "stream",
     "text": [
      "CV 0 | Epoch 4400 | Loss 1.7308347838265554\n"
     ]
    },
    {
     "name": "stdout",
     "output_type": "stream",
     "text": [
      "CV 0 | Epoch 4410 | Loss 1.7289980104991367\n"
     ]
    },
    {
     "name": "stdout",
     "output_type": "stream",
     "text": [
      "CV 0 | Epoch 4420 | Loss 1.7347124687262945\n"
     ]
    },
    {
     "name": "stdout",
     "output_type": "stream",
     "text": [
      "CV 0 | Epoch 4430 | Loss 1.7254647893565043\n"
     ]
    },
    {
     "name": "stdout",
     "output_type": "stream",
     "text": [
      "CV 0 | Epoch 4440 | Loss 1.7253281371934073\n"
     ]
    },
    {
     "name": "stdout",
     "output_type": "stream",
     "text": [
      "CV 0 | Epoch 4450 | Loss 1.7256793975830078\n"
     ]
    },
    {
     "name": "stdout",
     "output_type": "stream",
     "text": [
      "CV 0 | Epoch 4460 | Loss 1.730498320715768\n"
     ]
    },
    {
     "name": "stdout",
     "output_type": "stream",
     "text": [
      "CV 0 | Epoch 4470 | Loss 1.722451890366418\n"
     ]
    },
    {
     "name": "stdout",
     "output_type": "stream",
     "text": [
      "CV 0 | Epoch 4480 | Loss 1.7344926587172917\n"
     ]
    },
    {
     "name": "stdout",
     "output_type": "stream",
     "text": [
      "CV 0 | Epoch 4490 | Loss 1.7295737253768104\n"
     ]
    },
    {
     "name": "stdout",
     "output_type": "stream",
     "text": [
      "CV 0 | Epoch 4500 | Loss 1.731345476422991\n"
     ]
    },
    {
     "name": "stdout",
     "output_type": "stream",
     "text": [
      "CV 0 | Epoch 4510 | Loss 1.7292054227420262\n"
     ]
    },
    {
     "name": "stdout",
     "output_type": "stream",
     "text": [
      "CV 0 | Epoch 4520 | Loss 1.7270096131733486\n"
     ]
    },
    {
     "name": "stdout",
     "output_type": "stream",
     "text": [
      "CV 0 | Epoch 4530 | Loss 1.7280727492911474\n"
     ]
    },
    {
     "name": "stdout",
     "output_type": "stream",
     "text": [
      "CV 0 | Epoch 4540 | Loss 1.7301893259797778\n"
     ]
    },
    {
     "name": "stdout",
     "output_type": "stream",
     "text": [
      "CV 0 | Epoch 4550 | Loss 1.727511193071093\n"
     ]
    },
    {
     "name": "stdout",
     "output_type": "stream",
     "text": [
      "CV 0 | Epoch 4560 | Loss 1.720782117332731\n"
     ]
    },
    {
     "name": "stdout",
     "output_type": "stream",
     "text": [
      "CV 0 | Epoch 4570 | Loss 1.7297958620956966\n"
     ]
    },
    {
     "name": "stdout",
     "output_type": "stream",
     "text": [
      "CV 0 | Epoch 4580 | Loss 1.7287250186715808\n"
     ]
    },
    {
     "name": "stdout",
     "output_type": "stream",
     "text": [
      "CV 0 | Epoch 4590 | Loss 1.7240057208708355\n"
     ]
    },
    {
     "name": "stdout",
     "output_type": "stream",
     "text": [
      "CV 0 | Epoch 4600 | Loss 1.7410489124911173\n"
     ]
    },
    {
     "name": "stdout",
     "output_type": "stream",
     "text": [
      "CV 0 | Epoch 4610 | Loss 1.722405743598938\n"
     ]
    },
    {
     "name": "stdout",
     "output_type": "stream",
     "text": [
      "CV 0 | Epoch 4620 | Loss 1.7293631732463837\n"
     ]
    },
    {
     "name": "stdout",
     "output_type": "stream",
     "text": [
      "CV 0 | Epoch 4630 | Loss 1.7246411808899471\n"
     ]
    },
    {
     "name": "stdout",
     "output_type": "stream",
     "text": [
      "CV 0 | Epoch 4640 | Loss 1.7302975833415986\n"
     ]
    },
    {
     "name": "stdout",
     "output_type": "stream",
     "text": [
      "CV 0 | Epoch 4650 | Loss 1.733896825994764\n"
     ]
    },
    {
     "name": "stdout",
     "output_type": "stream",
     "text": [
      "CV 0 | Epoch 4660 | Loss 1.7239168201174055\n"
     ]
    },
    {
     "name": "stdout",
     "output_type": "stream",
     "text": [
      "CV 0 | Epoch 4670 | Loss 1.7240702535424914\n"
     ]
    },
    {
     "name": "stdout",
     "output_type": "stream",
     "text": [
      "CV 0 | Epoch 4680 | Loss 1.7300129796777453\n"
     ]
    },
    {
     "name": "stdout",
     "output_type": "stream",
     "text": [
      "CV 0 | Epoch 4690 | Loss 1.7202697234494346\n"
     ]
    },
    {
     "name": "stdout",
     "output_type": "stream",
     "text": [
      "CV 0 | Epoch 4700 | Loss 1.7267386743000575\n"
     ]
    },
    {
     "name": "stdout",
     "output_type": "stream",
     "text": [
      "CV 0 | Epoch 4710 | Loss 1.7243714647633688\n"
     ]
    },
    {
     "name": "stdout",
     "output_type": "stream",
     "text": [
      "CV 0 | Epoch 4720 | Loss 1.7269084598336901\n"
     ]
    },
    {
     "name": "stdout",
     "output_type": "stream",
     "text": [
      "CV 0 | Epoch 4730 | Loss 1.730707607950483\n"
     ]
    },
    {
     "name": "stdout",
     "output_type": "stream",
     "text": [
      "CV 0 | Epoch 4740 | Loss 1.7295707268374307\n"
     ]
    },
    {
     "name": "stdout",
     "output_type": "stream",
     "text": [
      "CV 0 | Epoch 4750 | Loss 1.728247938837324\n"
     ]
    },
    {
     "name": "stdout",
     "output_type": "stream",
     "text": [
      "CV 0 | Epoch 4760 | Loss 1.7253549780164446\n"
     ]
    },
    {
     "name": "stdout",
     "output_type": "stream",
     "text": [
      "CV 0 | Epoch 4770 | Loss 1.7252546174185617\n"
     ]
    },
    {
     "name": "stdout",
     "output_type": "stream",
     "text": [
      "CV 0 | Epoch 4780 | Loss 1.7233481023992812\n"
     ]
    },
    {
     "name": "stdout",
     "output_type": "stream",
     "text": [
      "CV 0 | Epoch 4790 | Loss 1.7197927474975585\n"
     ]
    },
    {
     "name": "stdout",
     "output_type": "stream",
     "text": [
      "CV 0 | Epoch 4800 | Loss 1.728454351425171\n"
     ]
    },
    {
     "name": "stdout",
     "output_type": "stream",
     "text": [
      "CV 0 | Epoch 4810 | Loss 1.727713748386928\n"
     ]
    },
    {
     "name": "stdout",
     "output_type": "stream",
     "text": [
      "CV 0 | Epoch 4820 | Loss 1.7261650715555463\n"
     ]
    },
    {
     "name": "stdout",
     "output_type": "stream",
     "text": [
      "CV 0 | Epoch 4830 | Loss 1.7299048185348511\n"
     ]
    },
    {
     "name": "stdout",
     "output_type": "stream",
     "text": [
      "CV 0 | Epoch 4840 | Loss 1.7271771277700152\n"
     ]
    },
    {
     "name": "stdout",
     "output_type": "stream",
     "text": [
      "CV 0 | Epoch 4850 | Loss 1.725460433108466\n"
     ]
    },
    {
     "name": "stdout",
     "output_type": "stream",
     "text": [
      "CV 0 | Epoch 4860 | Loss 1.730090662411281\n"
     ]
    },
    {
     "name": "stdout",
     "output_type": "stream",
     "text": [
      "CV 0 | Epoch 4870 | Loss 1.7263809898069926\n"
     ]
    },
    {
     "name": "stdout",
     "output_type": "stream",
     "text": [
      "CV 0 | Epoch 4880 | Loss 1.7293014168739318\n"
     ]
    },
    {
     "name": "stdout",
     "output_type": "stream",
     "text": [
      "CV 0 | Epoch 4890 | Loss 1.731358498760632\n"
     ]
    },
    {
     "name": "stdout",
     "output_type": "stream",
     "text": [
      "CV 0 | Epoch 4900 | Loss 1.72656917486872\n"
     ]
    },
    {
     "name": "stdout",
     "output_type": "stream",
     "text": [
      "CV 0 | Epoch 4910 | Loss 1.7196478111403328\n"
     ]
    },
    {
     "name": "stdout",
     "output_type": "stream",
     "text": [
      "CV 0 | Epoch 4920 | Loss 1.7307457515171596\n"
     ]
    },
    {
     "name": "stdout",
     "output_type": "stream",
     "text": [
      "CV 0 | Epoch 4930 | Loss 1.7336343309709004\n"
     ]
    },
    {
     "name": "stdout",
     "output_type": "stream",
     "text": [
      "CV 0 | Epoch 4940 | Loss 1.7231217512062618\n"
     ]
    },
    {
     "name": "stdout",
     "output_type": "stream",
     "text": [
      "CV 0 | Epoch 4950 | Loss 1.7230900985854012\n"
     ]
    },
    {
     "name": "stdout",
     "output_type": "stream",
     "text": [
      "CV 0 | Epoch 4960 | Loss 1.7297066637447902\n"
     ]
    },
    {
     "name": "stdout",
     "output_type": "stream",
     "text": [
      "CV 0 | Epoch 4970 | Loss 1.7242881221430642\n"
     ]
    },
    {
     "name": "stdout",
     "output_type": "stream",
     "text": [
      "CV 0 | Epoch 4980 | Loss 1.7256769035543715\n"
     ]
    },
    {
     "name": "stdout",
     "output_type": "stream",
     "text": [
      "CV 0 | Epoch 4990 | Loss 1.7290176366056715\n"
     ]
    },
    {
     "name": "stdout",
     "output_type": "stream",
     "text": [
      "CV 0 | Epoch 4999 | Loss 1.7229055416962458\n"
     ]
    }
   ],
   "source": [
    "th_device = th.device(device)\n",
    "\n",
    "metrics = []\n",
    "confusion_matrix = []\n",
    "syn_pred = []\n",
    "ev = Evaluator()\n",
    "\n",
    "th_device = th.device(device)\n",
    "\n",
    "syn_index = ['prev_punishments', 'prev_contributions']\n",
    "edge_index = create_fully_connected(n_player)\n",
    "\n",
    "\n",
    "def shuffle_feature(data, feature_name):\n",
    "    data = {**data}\n",
    "    data[feature_name] = data[feature_name][th.randperm(len(data[feature_name]))]\n",
    "    return data\n",
    "\n",
    "for i, (train_data, test_data) in enumerate(get_cross_validations(data, n_cross_val, fraction_training)):\n",
    "    model = AH_MODELS[model_name](\n",
    "        n_contributions=n_contributions, n_punishments=n_punishments, default_values=default_values,\n",
    "        **model_args).to(th_device)\n",
    "\n",
    "    train_data_ = model.encode(train_data, mask=True, edge_index=edge_index)\n",
    "    if test_data is not None:\n",
    "        test_data_ = model.encode(test_data, mask=True, edge_index=edge_index)\n",
    "    syn_data_ = model.encode(syn_data, mask=False, y_encode=False, info_columns=syn_index, edge_index=edge_index)\n",
    "\n",
    "    syn_df = using_multiindex(\n",
    "        Batch.from_data_list(syn_data_)['info'].detach().cpu().numpy(), ['idx', 'round_number'], syn_index)\n",
    "\n",
    "    optimizer = th.optim.Adam(model.parameters(), **optimizer_args)\n",
    "    loss_fn = th.nn.CrossEntropyLoss(reduction='none')\n",
    "    sum_loss = 0\n",
    "    n_steps = 0\n",
    "\n",
    "    for e in range(train_args['epochs']):\n",
    "        ev.set_labels(cv_split=i, epoch=e)\n",
    "        model.train()\n",
    "        for j, batch_data in enumerate(iter(DataLoader(train_data_, shuffle=True, batch_size=train_args['batch_size']))):\n",
    "            optimizer.zero_grad()\n",
    "            py = model(batch_data).flatten(end_dim=-2)\n",
    "            y_true = batch_data['y_enc'].flatten(end_dim=-2)\n",
    "            mask = batch_data['mask'].flatten()\n",
    "            loss = loss_fn(py, y_true)\n",
    "            loss = (loss * mask).sum() / mask.sum()\n",
    "\n",
    "            loss.backward()\n",
    "\n",
    "            if train_args['clamp_grad']:\n",
    "                for param in model.parameters():\n",
    "                    param.grad.data.clamp_(-train_args['clamp_grad'], train_args['clamp_grad'])\n",
    "            optimizer.step()\n",
    "            sum_loss += loss.item()\n",
    "            n_steps +=1\n",
    "        \n",
    "        last_epoch = e == (train_args['epochs'] - 1)\n",
    "\n",
    "        if (e % train_args['eval_period'] == 0) or last_epoch:\n",
    "            avg_loss = sum_loss/n_steps\n",
    "            print(f'CV {i} | Epoch {e} | Loss {avg_loss}')\n",
    "            ev.add_loss(avg_loss)\n",
    "\n",
    "            ev.eval_set(model, train_data_, calc_confusion=last_epoch, set='train')\n",
    "            if test_data is not None:\n",
    "                ev.eval_set(model, test_data_, calc_confusion=last_epoch, set='test')\n",
    "                for sf in shuffle_features:\n",
    "                    shuffled_data = shuffle_feature(test_data, sf)\n",
    "                    shuffled_data = model.encode(shuffled_data, mask=True, edge_index=edge_index)\n",
    "                    ev.eval_set(model, shuffled_data, calc_confusion=False, set='test', shuffle_feature=sf)\n",
    "            sum_loss = 0\n",
    "            n_steps = 0\n",
    "    ev.eval_syn(model, syn_data_, syn_df)\n",
    "\n",
    "ev.save(output_path, labels)\n",
    "model_path = os.path.join(output_path, 'model.pt')\n",
    "model.save(model_path)"
   ]
  },
  {
   "cell_type": "code",
   "execution_count": 5,
   "id": "fb75532e",
   "metadata": {
    "execution": {
     "iopub.execute_input": "2022-06-30T12:07:49.020694Z",
     "iopub.status.busy": "2022-06-30T12:07:49.020399Z",
     "iopub.status.idle": "2022-06-30T12:07:49.057275Z",
     "shell.execute_reply": "2022-06-30T12:07:49.056692Z"
    },
    "papermill": {
     "duration": 0.062162,
     "end_time": "2022-06-30T12:07:49.059096",
     "exception": false,
     "start_time": "2022-06-30T12:07:48.996934",
     "status": "completed"
    },
    "tags": []
   },
   "outputs": [
    {
     "data": {
      "text/plain": [
       "tensor([[0., 0., 0.,  ..., 0., 0., 0.],\n",
       "        [1., 0., 0.,  ..., 0., 0., 0.],\n",
       "        [0., 0., 0.,  ..., 1., 0., 0.],\n",
       "        ...,\n",
       "        [0., 0., 0.,  ..., 0., 0., 1.],\n",
       "        [0., 0., 0.,  ..., 0., 0., 1.],\n",
       "        [0., 0., 0.,  ..., 0., 0., 1.]])"
      ]
     },
     "execution_count": 5,
     "metadata": {},
     "output_type": "execute_result"
    }
   ],
   "source": [
    "y_true"
   ]
  },
  {
   "cell_type": "code",
   "execution_count": 6,
   "id": "6dccbcbd",
   "metadata": {
    "execution": {
     "iopub.execute_input": "2022-06-30T12:07:49.098547Z",
     "iopub.status.busy": "2022-06-30T12:07:49.098288Z",
     "iopub.status.idle": "2022-06-30T12:07:49.127737Z",
     "shell.execute_reply": "2022-06-30T12:07:49.127085Z"
    },
    "papermill": {
     "duration": 0.050708,
     "end_time": "2022-06-30T12:07:49.129662",
     "exception": false,
     "start_time": "2022-06-30T12:07:49.078954",
     "status": "completed"
    },
    "tags": []
   },
   "outputs": [],
   "source": [
    "py = model(batch_data)\n",
    "pyf = py.flatten(end_dim=-2)\n",
    "y_true = batch_data['y_enc'].flatten(end_dim=-2)\n",
    "mask = batch_data['mask'].flatten()\n",
    "loss = loss_fn(pyf, y_true)\n",
    "loss = (loss * mask).sum() / mask.sum()"
   ]
  },
  {
   "cell_type": "code",
   "execution_count": 68,
   "id": "f3374d56",
   "metadata": {
    "execution": {
     "iopub.execute_input": "2022-06-30T12:07:49.179518Z",
     "iopub.status.busy": "2022-06-30T12:07:49.179196Z",
     "iopub.status.idle": "2022-06-30T12:07:49.253283Z",
     "shell.execute_reply": "2022-06-30T12:07:49.252496Z"
    },
    "papermill": {
     "duration": 0.101721,
     "end_time": "2022-06-30T12:07:49.255466",
     "exception": false,
     "start_time": "2022-06-30T12:07:49.153745",
     "status": "completed"
    },
    "tags": []
   },
   "outputs": [],
   "source": [
    "pred, proba = model.predict(train_data_)"
   ]
  },
  {
   "cell_type": "code",
   "execution_count": 82,
   "id": "d6f0331f",
   "metadata": {},
   "outputs": [],
   "source": [
    "pred = th.concat([model.predict_one(d)[0] for d in train_data_])"
   ]
  },
  {
   "cell_type": "code",
   "execution_count": null,
   "id": "88ba797f",
   "metadata": {},
   "outputs": [],
   "source": []
  },
  {
   "cell_type": "code",
   "execution_count": 95,
   "id": "9cf79b94",
   "metadata": {},
   "outputs": [
    {
     "data": {
      "text/plain": [
       "0        7\n",
       "1        9\n",
       "2       20\n",
       "3       20\n",
       "4       20\n",
       "        ..\n",
       "8635    14\n",
       "8636    11\n",
       "8637     6\n",
       "8638     3\n",
       "8639    19\n",
       "Length: 8640, dtype: int64"
      ]
     },
     "execution_count": 95,
     "metadata": {},
     "output_type": "execute_result"
    }
   ],
   "source": [
    "pd.Series(pred.flatten())"
   ]
  },
  {
   "cell_type": "code",
   "execution_count": 98,
   "id": "f2dbf15d",
   "metadata": {},
   "outputs": [
    {
     "data": {
      "text/plain": [
       "array([ 7,  9, 20, ...,  6,  3, 19])"
      ]
     },
     "execution_count": 98,
     "metadata": {},
     "output_type": "execute_result"
    }
   ],
   "source": [
    "pred.flatten().numpy()"
   ]
  },
  {
   "cell_type": "code",
   "execution_count": 101,
   "id": "3ed5ef59",
   "metadata": {},
   "outputs": [
    {
     "data": {
      "text/plain": [
       "<AxesSubplot:ylabel='count'>"
      ]
     },
     "execution_count": 101,
     "metadata": {},
     "output_type": "execute_result"
    },
    {
     "data": {
      "image/png": "[encoded data removed]",
      "text/plain": [
       "<Figure size 432x288 with 1 Axes>"
      ]
     },
     "metadata": {},
     "output_type": "display_data"
    }
   ],
   "source": [
    "import seaborn as sns\n",
    "\n",
    "sns.set(rc={'axes.facecolor':'white', 'figure.facecolor':'white'})\n",
    "\n",
    "sns.countplot(x=pred[:,0].flatten().numpy())"
   ]
  },
  {
   "cell_type": "code",
   "execution_count": 8,
   "id": "68e0eba5",
   "metadata": {
    "execution": {
     "iopub.execute_input": "2022-06-30T12:07:49.310602Z",
     "iopub.status.busy": "2022-06-30T12:07:49.309978Z",
     "iopub.status.idle": "2022-06-30T12:07:49.350884Z",
     "shell.execute_reply": "2022-06-30T12:07:49.350206Z"
    },
    "papermill": {
     "duration": 0.071052,
     "end_time": "2022-06-30T12:07:49.353023",
     "exception": false,
     "start_time": "2022-06-30T12:07:49.281971",
     "status": "completed"
    },
    "tags": []
   },
   "outputs": [],
   "source": [
    "# pred, proba = model.predict_one(train_data_[0])"
   ]
  },
  {
   "cell_type": "code",
   "execution_count": 102,
   "id": "e27dd14b",
   "metadata": {
    "execution": {
     "iopub.execute_input": "2022-06-30T12:07:49.405612Z",
     "iopub.status.busy": "2022-06-30T12:07:49.405290Z",
     "iopub.status.idle": "2022-06-30T12:07:49.440885Z",
     "shell.execute_reply": "2022-06-30T12:07:49.440258Z"
    },
    "papermill": {
     "duration": 0.063768,
     "end_time": "2022-06-30T12:07:49.442883",
     "exception": false,
     "start_time": "2022-06-30T12:07:49.379115",
     "status": "completed"
    },
    "tags": []
   },
   "outputs": [
    {
     "data": {
      "text/plain": [
       "tensor([[[0.0000, 0.5580],\n",
       "         [0.0667, 0.5391],\n",
       "         [0.1333, 0.6328],\n",
       "         [0.2000, 0.5547],\n",
       "         [0.2667, 0.5547],\n",
       "         [0.3333, 0.5156],\n",
       "         [0.4000, 0.5156],\n",
       "         [0.4667, 0.7500],\n",
       "         [0.0000, 0.5000],\n",
       "         [0.0000, 0.0000],\n",
       "         [0.0000, 0.0000],\n",
       "         [0.0000, 0.0000],\n",
       "         [0.0000, 0.0000],\n",
       "         [0.0000, 0.0000],\n",
       "         [0.0000, 0.0000],\n",
       "         [0.0000, 0.0000]]])"
      ]
     },
     "execution_count": 102,
     "metadata": {},
     "output_type": "execute_result"
    }
   ],
   "source": [
    "train_data_[0]['u']"
   ]
  },
  {
   "cell_type": "markdown",
   "id": "6bbde3c2",
   "metadata": {
    "tags": [
     "papermill-error-cell-tag"
    ]
   },
   "source": [
    "<span id=\"papermill-error-cell\" style=\"color:red; font-family:Helvetica Neue, Helvetica, Arial, sans-serif; font-size:2em;\">Execution using papermill encountered an exception here and stopped:</span>"
   ]
  },
  {
   "cell_type": "code",
   "execution_count": 118,
   "id": "51e56c94",
   "metadata": {
    "execution": {
     "iopub.execute_input": "2022-06-30T12:07:49.494812Z",
     "iopub.status.busy": "2022-06-30T12:07:49.494477Z",
     "iopub.status.idle": "2022-06-30T12:07:50.008634Z",
     "shell.execute_reply": "2022-06-30T12:07:50.007377Z"
    },
    "papermill": {
     "duration": 0.542512,
     "end_time": "2022-06-30T12:07:50.010179",
     "exception": true,
     "start_time": "2022-06-30T12:07:49.467667",
     "status": "failed"
    },
    "tags": []
   },
   "outputs": [
    {
     "data": {
      "text/plain": [
       "<AxesSubplot:ylabel='count'>"
      ]
     },
     "execution_count": 118,
     "metadata": {},
     "output_type": "execute_result"
    },
    {
     "data": {
      "image/png": "[encoded data removed]",
      "text/plain": [
       "<Figure size 432x288 with 1 Axes>"
      ]
     },
     "metadata": {},
     "output_type": "display_data"
    }
   ],
   "source": [
    "model.save(model_path)\n",
    "model2 = AH_MODELS[model_name].load(model_path)\n",
    "pred, proba = model2.predict(train_data_)\n",
    "sns.countplot(x=pred[:,0].flatten().numpy())"
   ]
  },
  {
   "cell_type": "code",
   "execution_count": 119,
   "id": "ac7ef9d7",
   "metadata": {},
   "outputs": [
    {
     "data": {
      "text/plain": [
       "<AxesSubplot:ylabel='count'>"
      ]
     },
     "execution_count": 119,
     "metadata": {},
     "output_type": "execute_result"
    },
    {
     "data": {
      "image/png": "[encoded data removed]",
      "text/plain": [
       "<Figure size 432x288 with 1 Axes>"
      ]
     },
     "metadata": {},
     "output_type": "display_data"
    }
   ],
   "source": [
    "pred, proba = model.predict(train_data_)\n",
    "sns.countplot(x=pred[:,0].flatten().numpy())"
   ]
  },
  {
   "cell_type": "code",
   "execution_count": 109,
   "id": "560188d2",
   "metadata": {},
   "outputs": [
    {
     "data": {
      "text/plain": [
       "'../../data/training/ah_10/data/model.pt'"
      ]
     },
     "execution_count": 109,
     "metadata": {},
     "output_type": "execute_result"
    }
   ],
   "source": [
    "model_path"
   ]
  },
  {
   "cell_type": "code",
   "execution_count": 108,
   "id": "ea6efd2a",
   "metadata": {},
   "outputs": [],
   "source": [
    "import pickle\n",
    "with open('../../tmp.pickle', \"wb\") as output_file:\n",
    "    pickle.dump(train_data_, output_file)"
   ]
  }
 ],
 "metadata": {
  "kernelspec": {
   "display_name": "Python 3.9.1 ('.venv': venv)",
   "language": "python",
   "name": "python3"
  },
  "language_info": {
   "codemirror_mode": {
    "name": "ipython",
    "version": 3
   },
   "file_extension": ".py",
   "mimetype": "text/x-python",
   "name": "python",
   "nbconvert_exporter": "python",
   "pygments_lexer": "ipython3",
   "version": "3.9.1"
  },
  "papermill": {
   "default_parameters": {},
   "duration": 376.216797,
   "end_time": "2022-06-30T12:07:50.559416",
   "environment_variables": {},
   "exception": true,
   "input_path": "notebooks/artificial_humans/graph.ipynb",
   "output_path": "notebooks/artificial_humans/graph.ipynb",
   "parameters": {
    "data_file": "../../data/experiments/pilot_random1_player_round_slim.csv",
    "device": "cpu",
    "fraction_training": 1,
    "labels": {},
    "model_args": {
     "add_edge_model": true,
     "add_global_model": false,
     "add_rnn": true,
     "hidden_size": 5,
     "u_encoding": [
      {
       "encoding": "numeric",
       "n_levels": 16,
       "name": "round_number"
      },
      {
       "etype": "float",
       "name": "prev_common_good",
       "norm": 128
      }
     ],
     "x_encoding": [
      {
       "encoding": "numeric",
       "n_levels": 21,
       "name": "prev_contributions"
      },
      {
       "encoding": "numeric",
       "n_levels": 31,
       "name": "prev_punishments"
      }
     ]
    },
    "model_name": "graph",
    "n_contributions": 21,
    "n_cross_val": null,
    "n_player": 4,
    "n_punishments": 31,
    "optimizer_args": {
     "lr": 0.001,
     "weight_decay": 0.00001
    },
    "output_path": "../../data/training/ah_10",
    "shuffle_features": [
     "prev_punishments",
     "prev_contributions",
     "prev_common_good"
    ],
    "train_args": {
     "batch_size": 10,
     "clamp_grad": 1,
     "epochs": 5000,
     "eval_period": 10
    }
   },
   "start_time": "2022-06-30T12:01:34.342619",
   "version": "2.3.4"
  },
  "vscode": {
   "interpreter": {
    "hash": "83484b78e3eced0c1ebbaf37dd8049c2f9102f6dcade2a60a08a368fc0daac5f"
   }
  }
 },
 "nbformat": 4,
 "nbformat_minor": 5
}
