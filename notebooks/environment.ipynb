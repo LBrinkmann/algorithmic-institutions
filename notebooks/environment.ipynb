{
 "cells": [
  {
   "cell_type": "code",
   "execution_count": 403,
   "id": "686847be",
   "metadata": {
    "tags": [
     "injected-parameters"
    ]
   },
   "outputs": [],
   "source": [
    "# Parameters\n",
    "artificial_humans = \"../data/dev/data/model.pt\"\n",
    "output_file = \"../data/dev/data/manager_run.pt\"\n",
    "model_args = {\"n_layers\": 2, \"hidden_size\": 40}\n",
    "opt_args = {'lr': 0.001}\n",
    "gamma = 1.0\n",
    "eps = 0.2\n",
    "target_update_freq = 10\n",
    "n_episode_steps = 16\n",
    "n_episodes = 1000\n",
    "sample_args = {\n",
    "    'batch_size': 10,\n",
    "    'horizon': 1000\n",
    "}"
   ]
  },
  {
   "cell_type": "code",
   "execution_count": 404,
   "id": "42c92424",
   "metadata": {
    "papermill": {},
    "tags": []
   },
   "outputs": [
    {
     "name": "stdout",
     "output_type": "stream",
     "text": [
      "The autoreload extension is already loaded. To reload it, use:\n",
      "  %reload_ext autoreload\n"
     ]
    }
   ],
   "source": [
    "%load_ext autoreload\n",
    "%autoreload 2\n",
    "\n",
    "import torch as th\n",
    "from aimanager.model.memory import Memory\n",
    "from aimanager.model.environment import ArtificialHumanEnv\n",
    "from aimanager.model.artificial_humans import ArtificialHuman\n",
    "from aimanager.model.neural.mlp import MultiLayer"
   ]
  },
  {
   "cell_type": "code",
   "execution_count": 405,
   "id": "633a9dcd",
   "metadata": {
    "papermill": {},
    "tags": []
   },
   "outputs": [],
   "source": [
    "import torch as th\n",
    "import numpy as np\n",
    "\n",
    "# def shift_obs(tensor_dict):\n",
    "#     \"\"\"\n",
    "#     Creates previous and current observations.\n",
    "\n",
    "#     Args:\n",
    "#         tensor_dict: each tensor need to have the episode_step dimension at second position\n",
    "#     \"\"\"\n",
    "#     previous = {k: t[:, :-1] for k, t in tensor_dict.items()}\n",
    "#     current = {k: t[:, 1:] for k, t in tensor_dict.items()}\n",
    "#     return previous, current\n",
    "\n",
    "\n",
    "class ArtificalManager():\n",
    "    def __init__(\n",
    "            self, *, n_contributions, n_punishments, model_args, opt_args, gamma, target_update_freq, device):\n",
    "        self.device = device\n",
    "        input_size = n_contributions\n",
    "        self.policy_model = MultiLayer(output_size=n_punishments+1, input_size=input_size, **model_args).to(device)\n",
    "        self.target_model = MultiLayer(output_size=n_punishments+1, input_size=input_size, **model_args).to(device)\n",
    "\n",
    "        self.target_model.eval()\n",
    "        self.optimizer = th.optim.RMSprop(self.policy_model.parameters(), **opt_args)\n",
    "        self.gamma = gamma\n",
    "        self.target_update_freq = target_update_freq\n",
    "        self.n_contributions = n_contributions\n",
    "        self.n_punishments = n_punishments\n",
    "\n",
    "    def init_episode(self, episode):\n",
    "        if (episode % self.target_update_freq == 0):\n",
    "            # copy policy net to target net\n",
    "            self.target_model.load_state_dict(self.policy_model.state_dict())\n",
    "\n",
    "        # TODO: add for rnn\n",
    "        # self.policy_model.reset()\n",
    "        # self.target_model.reset()\n",
    "\n",
    "    def encode_obs(self, contributions, episode_step, **_):\n",
    "        oh_cont = th.nn.functional.one_hot(contributions, num_classes=self.n_contributions).float()\n",
    "        es = episode_step.unsqueeze(-1).tile((1,4)).float() / 16\n",
    "        print(oh_cont.shape)\n",
    "        print(es.shape)\n",
    "\n",
    "        return th.cat([oh_cont, es], dim=-1)\n",
    "\n",
    "    def get_q(self, manager_observations, **_):\n",
    "        with th.no_grad():\n",
    "            return self.policy_model(manager_observations)\n",
    "\n",
    "    def act(self, **state):\n",
    "        obs = self.encode_obs(**state)\n",
    "        q = self.get_q(manager_observations=obs)\n",
    "        return q.argmax(dim=-1)\n",
    "\n",
    "    def eps_greedy(self, q_values, eps):\n",
    "        \"\"\"\n",
    "        Args:\n",
    "            q_values: Tensor of type `th.float` and arbitrary shape, last dimension reflect the actions.\n",
    "            eps: fraction of actions sampled at random\n",
    "        Returns:\n",
    "            actions: Tensor of type `th.long` and the same dimensions then q_values, besides of the last.\n",
    "        \"\"\"\n",
    "        n_actions = q_values.shape[-1]\n",
    "        actions_shape = q_values.shape[:-1]\n",
    "\n",
    "        greedy_actions = q_values.argmax(-1)\n",
    "        random_actions = th.randint(0, n_actions, size=actions_shape, device=self.device)\n",
    "\n",
    "        # random number which determine whether to take the random action\n",
    "        random_numbers = th.rand(size=actions_shape, device=device)\n",
    "        select_random = (random_numbers < eps).long()\n",
    "        picked_actions = select_random * random_actions + (1 - select_random) * greedy_actions\n",
    "\n",
    "        return picked_actions\n",
    "\n",
    "\n",
    "    def update(self, actions, rewards, current_obs, next_obs, **_):\n",
    "        self.policy_model.train()\n",
    "        current_state_action_values = self.policy_model(\n",
    "            current_obs).gather(-1, actions.unsqueeze(-1))\n",
    "\n",
    "        next_state_values = th.zeros_like(rewards, device=self.device)\n",
    "        next_state_values[:,:-1] = self.target_model(next_obs[:,:-1]).max(-1)[0].detach()\n",
    "\n",
    "        # Compute the expected Q values\n",
    "        expected_state_action_values = (next_state_values * self.gamma) + rewards\n",
    "\n",
    "        # Compute Huber loss\n",
    "        loss = th.nn.functional.smooth_l1_loss(current_state_action_values,\n",
    "                                               expected_state_action_values.unsqueeze(-1))\n",
    "\n",
    "        # Optimize the model\n",
    "        self.optimizer.zero_grad()\n",
    "        loss.backward()\n",
    "        for param in self.policy_model.parameters():\n",
    "            param.grad.data.clamp_(-1, 1)\n",
    "        self.optimizer.step()"
   ]
  },
  {
   "cell_type": "code",
   "execution_count": 406,
   "id": "d49886d5",
   "metadata": {
    "papermill": {},
    "tags": []
   },
   "outputs": [],
   "source": [
    "# from aimanager.model.neural.random import RandomArtificialHumans\n",
    "\n",
    "device = th.device('cpu')\n",
    "rec_device = th.device('cpu')\n",
    "# rah = RandomArtificialHumans(device=device, max_contribution=20)\n",
    "artifical_humans = ArtificialHuman.load(artificial_humans)\n",
    "\n",
    "env = ArtificialHumanEnv(\n",
    "    artifical_humans=artifical_humans, n_agents=4, n_contributions=21, n_punishments=31, episode_steps=n_episode_steps, device=device)"
   ]
  },
  {
   "cell_type": "code",
   "execution_count": 407,
   "id": "4aa5ac07",
   "metadata": {},
   "outputs": [],
   "source": [
    "# state = env.init_episode()\n",
    "# print(state)\n",
    "# done = False\n",
    "# while not done:\n",
    "#     punishments = th.randint(0, 31, (4,), device=device)\n",
    "#     state, reward, done = env.step(punishments)\n",
    "#     print(state, reward, done)\n"
   ]
  },
  {
   "cell_type": "code",
   "execution_count": 408,
   "id": "02d293a0",
   "metadata": {},
   "outputs": [
    {
     "name": "stdout",
     "output_type": "stream",
     "text": [
      "torch.Size([4, 21])\n",
      "torch.Size([1])\n"
     ]
    },
    {
     "ename": "RuntimeError",
     "evalue": "Sizes of tensors must match except in dimension 1. Expected size 4 but got size 1 for tensor number 1 in the list.",
     "output_type": "error",
     "traceback": [
      "\u001b[0;31m---------------------------------------------------------------------------\u001b[0m",
      "\u001b[0;31mRuntimeError\u001b[0m                              Traceback (most recent call last)",
      "\u001b[1;32m/Users/levinbrinkmann/repros/algorithmic-institutions/notebooks/environment.ipynb Cell 6'\u001b[0m in \u001b[0;36m<module>\u001b[0;34m\u001b[0m\n\u001b[1;32m     <a href='vscode-notebook-cell:/Users/levinbrinkmann/repros/algorithmic-institutions/notebooks/environment.ipynb#ch0000005?line=20'>21</a>\u001b[0m manager\u001b[39m.\u001b[39minit_episode(episode)\n\u001b[1;32m     <a href='vscode-notebook-cell:/Users/levinbrinkmann/repros/algorithmic-institutions/notebooks/environment.ipynb#ch0000005?line=21'>22</a>\u001b[0m \u001b[39m# state_enc = manager.encode_obs(**state)\u001b[39;00m\n\u001b[1;32m     <a href='vscode-notebook-cell:/Users/levinbrinkmann/repros/algorithmic-institutions/notebooks/environment.ipynb#ch0000005?line=22'>23</a>\u001b[0m \u001b[39m# replay_mem.add(episode_step=0, actions=th.zeros(4, dtype=th.int64), rewards=th.zeros(4, dtype=th.float), **state_enc)\u001b[39;00m\n\u001b[0;32m---> <a href='vscode-notebook-cell:/Users/levinbrinkmann/repros/algorithmic-institutions/notebooks/environment.ipynb#ch0000005?line=24'>25</a>\u001b[0m current_obs \u001b[39m=\u001b[39m manager\u001b[39m.\u001b[39;49mencode_obs(\u001b[39m*\u001b[39;49m\u001b[39m*\u001b[39;49mstate)\n\u001b[1;32m     <a href='vscode-notebook-cell:/Users/levinbrinkmann/repros/algorithmic-institutions/notebooks/environment.ipynb#ch0000005?line=25'>26</a>\u001b[0m \u001b[39mfor\u001b[39;00m step \u001b[39min\u001b[39;00m count():\n\u001b[1;32m     <a href='vscode-notebook-cell:/Users/levinbrinkmann/repros/algorithmic-institutions/notebooks/environment.ipynb#ch0000005?line=26'>27</a>\u001b[0m     \u001b[39m# Get observations\u001b[39;00m\n\u001b[1;32m     <a href='vscode-notebook-cell:/Users/levinbrinkmann/repros/algorithmic-institutions/notebooks/environment.ipynb#ch0000005?line=27'>28</a>\u001b[0m     \u001b[39m# break\u001b[39;00m\n\u001b[1;32m     <a href='vscode-notebook-cell:/Users/levinbrinkmann/repros/algorithmic-institutions/notebooks/environment.ipynb#ch0000005?line=28'>29</a>\u001b[0m \n\u001b[1;32m     <a href='vscode-notebook-cell:/Users/levinbrinkmann/repros/algorithmic-institutions/notebooks/environment.ipynb#ch0000005?line=29'>30</a>\u001b[0m     \u001b[39m# Get q values from controller\u001b[39;00m\n\u001b[1;32m     <a href='vscode-notebook-cell:/Users/levinbrinkmann/repros/algorithmic-institutions/notebooks/environment.ipynb#ch0000005?line=30'>31</a>\u001b[0m     q_values \u001b[39m=\u001b[39m manager\u001b[39m.\u001b[39mget_q(manager_observations\u001b[39m=\u001b[39mcurrent_obs)\n",
      "\u001b[1;32m/Users/levinbrinkmann/repros/algorithmic-institutions/notebooks/environment.ipynb Cell 3'\u001b[0m in \u001b[0;36mArtificalManager.encode_obs\u001b[0;34m(self, contributions, episode_step, **_)\u001b[0m\n\u001b[1;32m     <a href='vscode-notebook-cell:/Users/levinbrinkmann/repros/algorithmic-institutions/notebooks/environment.ipynb#ch0000002?line=40'>41</a>\u001b[0m \u001b[39mprint\u001b[39m(th\u001b[39m.\u001b[39mnn\u001b[39m.\u001b[39mfunctional\u001b[39m.\u001b[39mone_hot(contributions, num_classes\u001b[39m=\u001b[39m\u001b[39mself\u001b[39m\u001b[39m.\u001b[39mn_contributions)\u001b[39m.\u001b[39mfloat()\u001b[39m.\u001b[39mshape)\n\u001b[1;32m     <a href='vscode-notebook-cell:/Users/levinbrinkmann/repros/algorithmic-institutions/notebooks/environment.ipynb#ch0000002?line=41'>42</a>\u001b[0m \u001b[39mprint\u001b[39m(episode_step\u001b[39m.\u001b[39munsqueeze(\u001b[39m-\u001b[39m\u001b[39m1\u001b[39m)\u001b[39m.\u001b[39mshape)\n\u001b[0;32m---> <a href='vscode-notebook-cell:/Users/levinbrinkmann/repros/algorithmic-institutions/notebooks/environment.ipynb#ch0000002?line=43'>44</a>\u001b[0m \u001b[39mreturn\u001b[39;00m th\u001b[39m.\u001b[39;49mcat([\n\u001b[1;32m     <a href='vscode-notebook-cell:/Users/levinbrinkmann/repros/algorithmic-institutions/notebooks/environment.ipynb#ch0000002?line=44'>45</a>\u001b[0m         th\u001b[39m.\u001b[39;49mnn\u001b[39m.\u001b[39;49mfunctional\u001b[39m.\u001b[39;49mone_hot(contributions, num_classes\u001b[39m=\u001b[39;49m\u001b[39mself\u001b[39;49m\u001b[39m.\u001b[39;49mn_contributions)\u001b[39m.\u001b[39;49mfloat(),\n\u001b[1;32m     <a href='vscode-notebook-cell:/Users/levinbrinkmann/repros/algorithmic-institutions/notebooks/environment.ipynb#ch0000002?line=45'>46</a>\u001b[0m         episode_step\u001b[39m.\u001b[39;49munsqueeze(\u001b[39m-\u001b[39;49m\u001b[39m1\u001b[39;49m)\u001b[39m.\u001b[39;49mtile((\u001b[39m1\u001b[39;49m,\u001b[39m4\u001b[39;49m))\u001b[39m.\u001b[39;49mfloat() \u001b[39m/\u001b[39;49m \u001b[39m16\u001b[39;49m\n\u001b[1;32m     <a href='vscode-notebook-cell:/Users/levinbrinkmann/repros/algorithmic-institutions/notebooks/environment.ipynb#ch0000002?line=46'>47</a>\u001b[0m     ], dim\u001b[39m=\u001b[39;49m\u001b[39m-\u001b[39;49m\u001b[39m1\u001b[39;49m)\n",
      "\u001b[0;31mRuntimeError\u001b[0m: Sizes of tensors must match except in dimension 1. Expected size 4 but got size 1 for tensor number 1 in the list."
     ]
    }
   ],
   "source": [
    "from itertools import count\n",
    "\n",
    "\n",
    "manager = ArtificalManager(\n",
    "    n_contributions=21, n_punishments=31, model_args=model_args, opt_args=opt_args, gamma=gamma, \n",
    "    target_update_freq=target_update_freq, device=device)\n",
    "\n",
    "replay_mem = Memory(n_episodes=100, n_episode_steps=n_episode_steps-1, output_file=None, device=device)\n",
    "recorder = Memory(n_episodes=n_episodes, n_episode_steps=n_episode_steps, output_file=output_file, device=device)\n",
    "\n",
    "\n",
    "for episode in range(n_episodes):\n",
    "    if (episode > 1) and (episode % 200 == 0):\n",
    "        print(f'Start episode {episode}.')\n",
    "        # print(recorder.memory['common_good'].sum()/len(recorder))\n",
    "        print(replay_mem.memory['rewards'].sum()/len(replay_mem))\n",
    "\n",
    "    state = env.init_episode()\n",
    "\n",
    "    # initialize episode for all controller\n",
    "    manager.init_episode(episode)\n",
    "    # state_enc = manager.encode_obs(**state)\n",
    "    # replay_mem.add(episode_step=0, actions=th.zeros(4, dtype=th.int64), rewards=th.zeros(4, dtype=th.float), **state_enc)\n",
    "    \n",
    "    current_obs = manager.encode_obs(**state)\n",
    "    for step in count():\n",
    "        # Get observations\n",
    "        # break\n",
    "\n",
    "        # Get q values from controller\n",
    "        q_values = manager.get_q(manager_observations=current_obs)\n",
    "\n",
    "        # Sample a action\n",
    "        selected_actions = manager.eps_greedy(q_values=q_values, eps=eps)\n",
    "\n",
    "        state = env.punish(selected_actions)\n",
    "        recorder.add(**state)\n",
    "\n",
    "        # pass actions to environment and advance by one step\n",
    "        state, rewards, done = env.step()\n",
    "\n",
    "\n",
    "        # if (episode > 1) and (episode % 50 == 0)and (step == 3):\n",
    "        #     print(q_values[0], selected_actions, rewards)\n",
    "        if done:\n",
    "            replay_mem.add(\n",
    "                episode_step=step, actions=selected_actions, rewards=rewards, \n",
    "                current_obs=current_obs)\n",
    "        else:\n",
    "            next_obs = manager.encode_obs(**state)\n",
    "            replay_mem.add(\n",
    "                episode_step=step, actions=selected_actions, rewards=rewards, \n",
    "                current_obs=current_obs, next_obs=next_obs)\n",
    "            current_obs = next_obs\n",
    "        \n",
    "        if done:\n",
    "            # allow all controller to update themself\n",
    "            sample = replay_mem.sample(**sample_args)\n",
    "            if sample is not None:\n",
    "                actions = sample['actions']\n",
    "                rewards = sample['rewards']\n",
    "                current_obs = sample['current_obs']\n",
    "                next_obs = sample['next_obs']\n",
    "                current_state_action_values = manager.policy_model(\n",
    "                    current_obs).gather(-1, actions.unsqueeze(-1))\n",
    "\n",
    "                next_state_values = th.zeros_like(rewards, device=manager.device)\n",
    "                next_state_values[:,:-1] = manager.target_model(next_obs[:,:-1]).max(-1)[0].detach()\n",
    "\n",
    "                # Compute the expected Q values\n",
    "                expected_state_action_values = (next_state_values * manager.gamma) + rewards\n",
    "\n",
    "                # Compute Huber loss\n",
    "                loss = th.nn.functional.smooth_l1_loss(\n",
    "                    current_state_action_values, expected_state_action_values.unsqueeze(-1))\n",
    "\n",
    "                # Optimize the model\n",
    "                manager.optimizer.zero_grad()\n",
    "                loss.backward()\n",
    "                for param in manager.policy_model.parameters():\n",
    "                    param.grad.data.clamp_(-1, 1)\n",
    "                manager.optimizer.step()\n",
    "\n",
    "                # manager.update(**sample)\n",
    "            break\n",
    "    # if sample is not None:\n",
    "    #     break\n",
    "    recorder.add(**state)\n",
    "    recorder.next_episode(episode)\n",
    "    replay_mem.next_episode(episode)\n",
    "    # break\n",
    "\n",
    "# current_obs"
   ]
  },
  {
   "cell_type": "code",
   "execution_count": null,
   "id": "3c4b0de5",
   "metadata": {
    "papermill": {},
    "tags": []
   },
   "outputs": [],
   "source": [
    "data = {\n",
    "    'contributions': th.arange(0,21)\n",
    "}\n",
    "\n",
    "# obs = manager.\n",
    "\n",
    "data['punishments'] = manager.act(**data)\n"
   ]
  },
  {
   "cell_type": "code",
   "execution_count": null,
   "id": "2069758d",
   "metadata": {},
   "outputs": [],
   "source": [
    "obs = manager.encode_obs(**data)\n",
    "q = manager.get_q(manager_observations=obs)\n",
    "\n"
   ]
  },
  {
   "cell_type": "code",
   "execution_count": null,
   "id": "833ea78a",
   "metadata": {},
   "outputs": [
    {
     "data": {
      "text/plain": [
       "<AxesSubplot:>"
      ]
     },
     "execution_count": 376,
     "metadata": {},
     "output_type": "execute_result"
    },
    {
     "data": {
      "image/png": "[encoded data removed]",
      "text/plain": [
       "<Figure size 432x288 with 2 Axes>"
      ]
     },
     "metadata": {},
     "output_type": "display_data"
    }
   ],
   "source": [
    "sns.heatmap(q)"
   ]
  },
  {
   "cell_type": "code",
   "execution_count": null,
   "id": "04683647",
   "metadata": {},
   "outputs": [
    {
     "data": {
      "text/plain": [
       "tensor([24, 24, 24, 24, 24, 24, 24, 24, 24, 24, 24, 24, 24, 24, 24, 24, 24, 24,\n",
       "        24, 24, 24])"
      ]
     },
     "execution_count": 377,
     "metadata": {},
     "output_type": "execute_result"
    }
   ],
   "source": [
    "th.argmax(q, -1)"
   ]
  },
  {
   "cell_type": "code",
   "execution_count": null,
   "id": "1f8deff2",
   "metadata": {},
   "outputs": [
    {
     "data": {
      "text/plain": [
       "<AxesSubplot:xlabel='contributions', ylabel='punishments'>"
      ]
     },
     "execution_count": 378,
     "metadata": {},
     "output_type": "execute_result"
    },
    {
     "data": {
      "image/png": "[encoded data removed]",
      "text/plain": [
       "<Figure size 432x288 with 1 Axes>"
      ]
     },
     "metadata": {},
     "output_type": "display_data"
    }
   ],
   "source": [
    "import seaborn as sns\n",
    "import pandas as pd\n",
    "\n",
    "sns.set(rc={'axes.facecolor':'white', 'figure.facecolor':'white'})\n",
    "\n",
    "df = pd.DataFrame(data)\n",
    "sns.scatterplot(data=data, x='contributions', y='punishments')"
   ]
  },
  {
   "cell_type": "code",
   "execution_count": null,
   "id": "b138dca1",
   "metadata": {},
   "outputs": [],
   "source": [
    "from aimanager.utils.array_to_df import using_multiindex\n",
    "\n",
    "def to_series(k, v):\n",
    "    dims = ['episode', 'step', 'agent'][:len(v.shape)]\n",
    "    sr = using_multiindex(v, dims).set_index(dims).rename(columns={\"value\": k})\n",
    "    sr.name = k\n",
    "    return sr\n",
    "dfs = [to_series(k, v)\n",
    "    for k, v in recorder.memory.items() if len(v.shape) <= 3\n",
    "]\n",
    "dfs = [df.reindex(dfs[0].index) for df in dfs]\n",
    "rec_df = pd.concat(dfs, axis=1).reset_index(drop=True)\n",
    "\n",
    "dfs = [to_series(k, v)\n",
    "    for k, v in replay_mem.memory.items() if len(v.shape) <= 3\n",
    "]\n",
    "dfs.append(to_series('current_obs', th.argmax(replay_mem.memory['current_obs'], -1)))\n",
    "dfs = [df.reindex(dfs[0].index) for df in dfs]\n",
    "repm_df = pd.concat(dfs, axis=1).reset_index(drop=True)"
   ]
  },
  {
   "cell_type": "code",
   "execution_count": null,
   "id": "9befc486",
   "metadata": {},
   "outputs": [
    {
     "data": {
      "text/plain": [
       "<AxesSubplot:xlabel='punishments', ylabel='count'>"
      ]
     },
     "execution_count": 380,
     "metadata": {},
     "output_type": "execute_result"
    },
    {
     "data": {
      "image/png": "[encoded data removed]",
      "text/plain": [
       "<Figure size 432x288 with 1 Axes>"
      ]
     },
     "metadata": {},
     "output_type": "display_data"
    }
   ],
   "source": [
    "import seaborn as sns\n",
    "import matplotlib.pyplot as plt\n",
    "\n",
    "sns.countplot(data=rec_df, x='punishments')"
   ]
  },
  {
   "cell_type": "code",
   "execution_count": null,
   "id": "5185882c",
   "metadata": {},
   "outputs": [
    {
     "data": {
      "text/plain": [
       "<AxesSubplot:xlabel='prev_punishments', ylabel='count'>"
      ]
     },
     "execution_count": 381,
     "metadata": {},
     "output_type": "execute_result"
    },
    {
     "data": {
      "image/png": "[encoded data removed]",
      "text/plain": [
       "<Figure size 432x288 with 1 Axes>"
      ]
     },
     "metadata": {},
     "output_type": "display_data"
    }
   ],
   "source": [
    "sns.countplot(data=rec_df, x='prev_punishments')"
   ]
  },
  {
   "cell_type": "code",
   "execution_count": null,
   "id": "5d97f020",
   "metadata": {},
   "outputs": [
    {
     "data": {
      "text/plain": [
       "<AxesSubplot:title={'center':'mean'}, xlabel='prev_contributions', ylabel='prev_punishments'>"
      ]
     },
     "execution_count": 382,
     "metadata": {},
     "output_type": "execute_result"
    },
    {
     "data": {
      "image/png": "[encoded data removed]",
      "text/plain": [
       "<Figure size 1008x432 with 4 Axes>"
      ]
     },
     "metadata": {},
     "output_type": "display_data"
    }
   ],
   "source": [
    "df_count_pt = rec_df.pivot_table(index=['prev_punishments'], columns='prev_contributions', values='contributions', aggfunc=len)\n",
    "df_mean_pt = rec_df.pivot_table(index=['prev_punishments'], columns='prev_contributions', values='contributions', aggfunc=np.mean)\n",
    "\n",
    "\n",
    "\n",
    "f, (ax1, ax2) = plt.subplots(1, 2, figsize=(14,6))\n",
    "ax1.set_title('count')\n",
    "sns.heatmap(df_count_pt, ax=ax1)\n",
    "ax2.set_title('mean')\n",
    "sns.heatmap(df_mean_pt, ax=ax2)"
   ]
  },
  {
   "cell_type": "code",
   "execution_count": null,
   "id": "3682ffeb",
   "metadata": {},
   "outputs": [
    {
     "data": {
      "text/html": [
       "<div>\n",
       "<style scoped>\n",
       "    .dataframe tbody tr th:only-of-type {\n",
       "        vertical-align: middle;\n",
       "    }\n",
       "\n",
       "    .dataframe tbody tr th {\n",
       "        vertical-align: top;\n",
       "    }\n",
       "\n",
       "    .dataframe thead th {\n",
       "        text-align: right;\n",
       "    }\n",
       "</style>\n",
       "<table border=\"1\" class=\"dataframe\">\n",
       "  <thead>\n",
       "    <tr style=\"text-align: right;\">\n",
       "      <th></th>\n",
       "      <th>actions</th>\n",
       "      <th>rewards</th>\n",
       "      <th>episode</th>\n",
       "      <th>episode_steps</th>\n",
       "      <th>current_obs</th>\n",
       "    </tr>\n",
       "  </thead>\n",
       "  <tbody>\n",
       "    <tr>\n",
       "      <th>0</th>\n",
       "      <td>29</td>\n",
       "      <td>-14.599999</td>\n",
       "      <td>899</td>\n",
       "      <td>0</td>\n",
       "      <td>15</td>\n",
       "    </tr>\n",
       "    <tr>\n",
       "      <th>1</th>\n",
       "      <td>24</td>\n",
       "      <td>-3.199999</td>\n",
       "      <td>899</td>\n",
       "      <td>0</td>\n",
       "      <td>7</td>\n",
       "    </tr>\n",
       "    <tr>\n",
       "      <th>2</th>\n",
       "      <td>24</td>\n",
       "      <td>8.000000</td>\n",
       "      <td>899</td>\n",
       "      <td>0</td>\n",
       "      <td>0</td>\n",
       "    </tr>\n",
       "    <tr>\n",
       "      <th>3</th>\n",
       "      <td>24</td>\n",
       "      <td>8.000000</td>\n",
       "      <td>899</td>\n",
       "      <td>0</td>\n",
       "      <td>10</td>\n",
       "    </tr>\n",
       "    <tr>\n",
       "      <th>4</th>\n",
       "      <td>24</td>\n",
       "      <td>-3.199999</td>\n",
       "      <td>899</td>\n",
       "      <td>1</td>\n",
       "      <td>9</td>\n",
       "    </tr>\n",
       "    <tr>\n",
       "      <th>...</th>\n",
       "      <td>...</td>\n",
       "      <td>...</td>\n",
       "      <td>...</td>\n",
       "      <td>...</td>\n",
       "      <td>...</td>\n",
       "    </tr>\n",
       "    <tr>\n",
       "      <th>5995</th>\n",
       "      <td>24</td>\n",
       "      <td>8.000000</td>\n",
       "      <td>998</td>\n",
       "      <td>13</td>\n",
       "      <td>20</td>\n",
       "    </tr>\n",
       "    <tr>\n",
       "      <th>5996</th>\n",
       "      <td>5</td>\n",
       "      <td>27.000000</td>\n",
       "      <td>998</td>\n",
       "      <td>14</td>\n",
       "      <td>20</td>\n",
       "    </tr>\n",
       "    <tr>\n",
       "      <th>5997</th>\n",
       "      <td>24</td>\n",
       "      <td>8.000000</td>\n",
       "      <td>998</td>\n",
       "      <td>14</td>\n",
       "      <td>20</td>\n",
       "    </tr>\n",
       "    <tr>\n",
       "      <th>5998</th>\n",
       "      <td>15</td>\n",
       "      <td>17.000000</td>\n",
       "      <td>998</td>\n",
       "      <td>14</td>\n",
       "      <td>20</td>\n",
       "    </tr>\n",
       "    <tr>\n",
       "      <th>5999</th>\n",
       "      <td>24</td>\n",
       "      <td>8.000000</td>\n",
       "      <td>998</td>\n",
       "      <td>14</td>\n",
       "      <td>20</td>\n",
       "    </tr>\n",
       "  </tbody>\n",
       "</table>\n",
       "<p>6000 rows × 5 columns</p>\n",
       "</div>"
      ],
      "text/plain": [
       "      actions    rewards  episode  episode_steps  current_obs\n",
       "0          29 -14.599999      899              0           15\n",
       "1          24  -3.199999      899              0            7\n",
       "2          24   8.000000      899              0            0\n",
       "3          24   8.000000      899              0           10\n",
       "4          24  -3.199999      899              1            9\n",
       "...       ...        ...      ...            ...          ...\n",
       "5995       24   8.000000      998             13           20\n",
       "5996        5  27.000000      998             14           20\n",
       "5997       24   8.000000      998             14           20\n",
       "5998       15  17.000000      998             14           20\n",
       "5999       24   8.000000      998             14           20\n",
       "\n",
       "[6000 rows x 5 columns]"
      ]
     },
     "execution_count": 383,
     "metadata": {},
     "output_type": "execute_result"
    }
   ],
   "source": [
    "repm_df"
   ]
  },
  {
   "cell_type": "code",
   "execution_count": null,
   "id": "15071b75",
   "metadata": {},
   "outputs": [
    {
     "data": {
      "text/plain": [
       "<AxesSubplot:title={'center':'mean'}, xlabel='actions', ylabel='current_obs'>"
      ]
     },
     "execution_count": 384,
     "metadata": {},
     "output_type": "execute_result"
    },
    {
     "data": {
      "image/png": "[encoded data removed]",
      "text/plain": [
       "<Figure size 1008x432 with 4 Axes>"
      ]
     },
     "metadata": {},
     "output_type": "display_data"
    }
   ],
   "source": [
    "df_count_pt = repm_df.pivot_table(index=['current_obs'], columns='actions', values='rewards', aggfunc=len)\n",
    "df_mean_pt = repm_df.pivot_table(index=['current_obs'], columns='actions', values='rewards', aggfunc=np.mean)\n",
    "\n",
    "\n",
    "\n",
    "f, (ax1, ax2) = plt.subplots(1, 2, figsize=(14,6))\n",
    "ax1.set_title('count')\n",
    "sns.heatmap(df_count_pt, ax=ax1)\n",
    "ax2.set_title('mean')\n",
    "sns.heatmap(df_mean_pt, ax=ax2)"
   ]
  }
 ],
 "metadata": {
  "interpreter": {
   "hash": "b1198fd9370ee0cf82025240fa26724f68bfab1e3f74dbb4acdc06e7861d0dbe"
  },
  "kernelspec": {
   "display_name": "Python 3.9.10 ('.venv': venv)",
   "language": "python",
   "name": "python3"
  },
  "language_info": {
   "codemirror_mode": {
    "name": "ipython",
    "version": 3
   },
   "file_extension": ".py",
   "mimetype": "text/x-python",
   "name": "python",
   "nbconvert_exporter": "python",
   "pygments_lexer": "ipython3",
   "version": "3.9.10"
  },
  "papermill": {
   "default_parameters": {},
   "environment_variables": {},
   "input_path": "environment.ipynb",
   "output_path": "environment.ipynb",
   "parameters": {
    "artificial_humans": "../data/dev/data/model.pt"
   },
   "version": "2.3.4"
  }
 },
 "nbformat": 4,
 "nbformat_minor": 5
}
