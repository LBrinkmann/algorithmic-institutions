{
 "cells": [
  {
   "cell_type": "code",
   "execution_count": 12,
   "metadata": {},
   "outputs": [],
   "source": [
    "import torch as th\n",
    "\n",
    "\n",
    "th.nn.Module\n",
    "\n",
    "class ArtificialHumanEnv():\n",
    "    \"\"\"\n",
    "    Environment that runs the virtual humans and calculuates the value of the common good.\n",
    "\n",
    "    Indices:\n",
    "        t: agent types [0..1]\n",
    "    \"\"\"\n",
    "\n",
    "    def __init__(\n",
    "            self, *, contributors_model, n_agents, max_contribution, max_punishment, device):\n",
    "        \"\"\"\n",
    "        Args:\n",
    "            asdasd\n",
    "        \"\"\"\n",
    "        self.device = device\n",
    "        self.max_contribution = max_contribution\n",
    "        self.max_punishment = max_punishment\n",
    "        self.contributors_model = contributors_model\n",
    "        self.n_agents = n_agents\n",
    "        self.reset_state()\n",
    "\n",
    "\n",
    "    def reset_state(self):\n",
    "        self.state = {\n",
    "            'punishments': th.zeros(self.n_agents, dtype=th.int16),\n",
    "            'contributions': th.zeros(self.n_agents, dtype=th.int16),\n",
    "            'payoffs': th.zeros(self.n_agents, dtype=th.float32),\n",
    "            'valid': th.zeros(self.n_agents, dtype=th.bool),\n",
    "            'common_good': th.zeros(1, dtype=th.float32),\n",
    "            'episode_step': th.zeros(1, dtype=th.int16)\n",
    "        }\n",
    "\n",
    "\n",
    "    def __getattr__(self, name):\n",
    "        if name in self.state:\n",
    "            return self.state[name]\n",
    "        else:\n",
    "            raise AttributeError(f'Unkown state key {name}')\n",
    "\n",
    "    def __setattr__(self, name, value):\n",
    "        if isinstance(value, th.tensor):\n",
    "            if name in self.state:\n",
    "                self.state[name] = value\n",
    "            else:\n",
    "                raise AttributeError(f'Unkown state key {name}')\n",
    "\n",
    "    @staticmethod\n",
    "    def calc_common_good(contributions, punishments):\n",
    "        return contributions.sum() * 1.6 + punishments.sum()\n",
    "\n",
    "    @staticmethod\n",
    "    def calc_payout(contributions, punishments, commond_good):\n",
    "        # TODO: check how to handle missing values\n",
    "        return 20 - contributions - punishments + 0.25 * commond_good\n",
    "\n",
    "    def get_contributions(self):\n",
    "        contributions = self.contributors_model.get_contributions(**self.state)\n",
    "        return contributions\n",
    "\n",
    "    def init_episode(self):\n",
    "        self.episode += 1\n",
    "        self.episode_step = 0\n",
    "        self.contributions = self.get_contributions()\n",
    "        return self.state\n",
    "\n",
    "    def step(self, punishments):\n",
    "        self.episode_step += 1\n",
    "\n",
    "        assert punishments.max() <= self.max_punishment\n",
    "        assert punishments.dtype == th.int64\n",
    "\n",
    "        if (self.episode_step == self.episode_steps):\n",
    "            done = True\n",
    "        elif self.episode_step > self.episode_steps:\n",
    "            raise ValueError('Environment is done already.')\n",
    "        else:\n",
    "            done = False\n",
    "\n",
    "        self.punishment = punishments\n",
    "        self.common_good = self.calc_common_good(self.contributions, self.punishments)\n",
    "        self.payout = self.calc_payout(self.contributions, self.punishments, self.common_good)\n",
    "        self.contributions = self.get_contributions()\n",
    "\n",
    "        return self.state, self.common_good,  done\n"
   ]
  },
  {
   "cell_type": "code",
   "execution_count": 13,
   "metadata": {},
   "outputs": [
    {
     "ename": "RecursionError",
     "evalue": "maximum recursion depth exceeded",
     "output_type": "error",
     "traceback": [
      "\u001b[0;31m---------------------------------------------------------------------------\u001b[0m",
      "\u001b[0;31mRecursionError\u001b[0m                            Traceback (most recent call last)",
      "\u001b[1;32m/Users/levinbrinkmann/repros/algorithmic-institutions/notebooks/environment.ipynb Cell 2'\u001b[0m in \u001b[0;36m<module>\u001b[0;34m\u001b[0m\n\u001b[1;32m      <a href='vscode-notebook-cell:/Users/levinbrinkmann/repros/algorithmic-institutions/notebooks/environment.ipynb#ch0000001?line=0'>1</a>\u001b[0m device \u001b[39m=\u001b[39m th\u001b[39m.\u001b[39mdevice(\u001b[39m'\u001b[39m\u001b[39mcpu\u001b[39m\u001b[39m'\u001b[39m)\n\u001b[0;32m----> <a href='vscode-notebook-cell:/Users/levinbrinkmann/repros/algorithmic-institutions/notebooks/environment.ipynb#ch0000001?line=2'>3</a>\u001b[0m env \u001b[39m=\u001b[39m ArtificialHumanEnv(\n\u001b[1;32m      <a href='vscode-notebook-cell:/Users/levinbrinkmann/repros/algorithmic-institutions/notebooks/environment.ipynb#ch0000001?line=3'>4</a>\u001b[0m     contributors_model\u001b[39m=\u001b[39;49m\u001b[39mNone\u001b[39;49;00m, n_agents\u001b[39m=\u001b[39;49m\u001b[39m4\u001b[39;49m, max_contribution\u001b[39m=\u001b[39;49m\u001b[39m20\u001b[39;49m, max_punishment\u001b[39m=\u001b[39;49m\u001b[39m30\u001b[39;49m, device\u001b[39m=\u001b[39;49mdevice)\n",
      "\u001b[1;32m/Users/levinbrinkmann/repros/algorithmic-institutions/notebooks/environment.ipynb Cell 1'\u001b[0m in \u001b[0;36mArtificialHumanEnv.__init__\u001b[0;34m(self, contributors_model, n_agents, max_contribution, max_punishment, device)\u001b[0m\n\u001b[1;32m     <a href='vscode-notebook-cell:/Users/levinbrinkmann/repros/algorithmic-institutions/notebooks/environment.ipynb#ch0000000?line=13'>14</a>\u001b[0m \u001b[39mdef\u001b[39;00m \u001b[39m__init__\u001b[39m(\n\u001b[1;32m     <a href='vscode-notebook-cell:/Users/levinbrinkmann/repros/algorithmic-institutions/notebooks/environment.ipynb#ch0000000?line=14'>15</a>\u001b[0m         \u001b[39mself\u001b[39m, \u001b[39m*\u001b[39m, contributors_model, n_agents, max_contribution, max_punishment, device):\n\u001b[1;32m     <a href='vscode-notebook-cell:/Users/levinbrinkmann/repros/algorithmic-institutions/notebooks/environment.ipynb#ch0000000?line=15'>16</a>\u001b[0m     \u001b[39m\"\"\"\u001b[39;00m\n\u001b[1;32m     <a href='vscode-notebook-cell:/Users/levinbrinkmann/repros/algorithmic-institutions/notebooks/environment.ipynb#ch0000000?line=16'>17</a>\u001b[0m \u001b[39m    Args:\u001b[39;00m\n\u001b[1;32m     <a href='vscode-notebook-cell:/Users/levinbrinkmann/repros/algorithmic-institutions/notebooks/environment.ipynb#ch0000000?line=17'>18</a>\u001b[0m \u001b[39m        asdasd\u001b[39;00m\n\u001b[1;32m     <a href='vscode-notebook-cell:/Users/levinbrinkmann/repros/algorithmic-institutions/notebooks/environment.ipynb#ch0000000?line=18'>19</a>\u001b[0m \u001b[39m    \"\"\"\u001b[39;00m\n\u001b[0;32m---> <a href='vscode-notebook-cell:/Users/levinbrinkmann/repros/algorithmic-institutions/notebooks/environment.ipynb#ch0000000?line=19'>20</a>\u001b[0m     \u001b[39mself\u001b[39m\u001b[39m.\u001b[39mdevice \u001b[39m=\u001b[39m device\n\u001b[1;32m     <a href='vscode-notebook-cell:/Users/levinbrinkmann/repros/algorithmic-institutions/notebooks/environment.ipynb#ch0000000?line=20'>21</a>\u001b[0m     \u001b[39mself\u001b[39m\u001b[39m.\u001b[39mmax_contribution \u001b[39m=\u001b[39m max_contribution\n\u001b[1;32m     <a href='vscode-notebook-cell:/Users/levinbrinkmann/repros/algorithmic-institutions/notebooks/environment.ipynb#ch0000000?line=21'>22</a>\u001b[0m     \u001b[39mself\u001b[39m\u001b[39m.\u001b[39mmax_punishment \u001b[39m=\u001b[39m max_punishment\n",
      "\u001b[1;32m/Users/levinbrinkmann/repros/algorithmic-institutions/notebooks/environment.ipynb Cell 1'\u001b[0m in \u001b[0;36mArtificialHumanEnv.__setattr__\u001b[0;34m(self, name, value)\u001b[0m\n\u001b[1;32m     <a href='vscode-notebook-cell:/Users/levinbrinkmann/repros/algorithmic-institutions/notebooks/environment.ipynb#ch0000000?line=44'>45</a>\u001b[0m \u001b[39mdef\u001b[39;00m \u001b[39m__setattr__\u001b[39m(\u001b[39mself\u001b[39m, name, value):\n\u001b[0;32m---> <a href='vscode-notebook-cell:/Users/levinbrinkmann/repros/algorithmic-institutions/notebooks/environment.ipynb#ch0000000?line=45'>46</a>\u001b[0m     \u001b[39mif\u001b[39;00m name \u001b[39min\u001b[39;00m \u001b[39mself\u001b[39;49m\u001b[39m.\u001b[39;49mstate:\n\u001b[1;32m     <a href='vscode-notebook-cell:/Users/levinbrinkmann/repros/algorithmic-institutions/notebooks/environment.ipynb#ch0000000?line=46'>47</a>\u001b[0m         \u001b[39mself\u001b[39m\u001b[39m.\u001b[39mstate[name] \u001b[39m=\u001b[39m value\n\u001b[1;32m     <a href='vscode-notebook-cell:/Users/levinbrinkmann/repros/algorithmic-institutions/notebooks/environment.ipynb#ch0000000?line=47'>48</a>\u001b[0m     \u001b[39melse\u001b[39;00m:\n",
      "\u001b[1;32m/Users/levinbrinkmann/repros/algorithmic-institutions/notebooks/environment.ipynb Cell 1'\u001b[0m in \u001b[0;36mArtificialHumanEnv.__getattr__\u001b[0;34m(self, name)\u001b[0m\n\u001b[1;32m     <a href='vscode-notebook-cell:/Users/levinbrinkmann/repros/algorithmic-institutions/notebooks/environment.ipynb#ch0000000?line=38'>39</a>\u001b[0m \u001b[39mdef\u001b[39;00m \u001b[39m__getattr__\u001b[39m(\u001b[39mself\u001b[39m, name):\n\u001b[0;32m---> <a href='vscode-notebook-cell:/Users/levinbrinkmann/repros/algorithmic-institutions/notebooks/environment.ipynb#ch0000000?line=39'>40</a>\u001b[0m     \u001b[39mif\u001b[39;00m name \u001b[39min\u001b[39;00m \u001b[39mself\u001b[39;49m\u001b[39m.\u001b[39;49mstate:\n\u001b[1;32m     <a href='vscode-notebook-cell:/Users/levinbrinkmann/repros/algorithmic-institutions/notebooks/environment.ipynb#ch0000000?line=40'>41</a>\u001b[0m         \u001b[39mreturn\u001b[39;00m \u001b[39mself\u001b[39m\u001b[39m.\u001b[39mstate[name]\n\u001b[1;32m     <a href='vscode-notebook-cell:/Users/levinbrinkmann/repros/algorithmic-institutions/notebooks/environment.ipynb#ch0000000?line=41'>42</a>\u001b[0m     \u001b[39melse\u001b[39;00m:\n",
      "\u001b[1;32m/Users/levinbrinkmann/repros/algorithmic-institutions/notebooks/environment.ipynb Cell 1'\u001b[0m in \u001b[0;36mArtificialHumanEnv.__getattr__\u001b[0;34m(self, name)\u001b[0m\n\u001b[1;32m     <a href='vscode-notebook-cell:/Users/levinbrinkmann/repros/algorithmic-institutions/notebooks/environment.ipynb#ch0000000?line=38'>39</a>\u001b[0m \u001b[39mdef\u001b[39;00m \u001b[39m__getattr__\u001b[39m(\u001b[39mself\u001b[39m, name):\n\u001b[0;32m---> <a href='vscode-notebook-cell:/Users/levinbrinkmann/repros/algorithmic-institutions/notebooks/environment.ipynb#ch0000000?line=39'>40</a>\u001b[0m     \u001b[39mif\u001b[39;00m name \u001b[39min\u001b[39;00m \u001b[39mself\u001b[39;49m\u001b[39m.\u001b[39;49mstate:\n\u001b[1;32m     <a href='vscode-notebook-cell:/Users/levinbrinkmann/repros/algorithmic-institutions/notebooks/environment.ipynb#ch0000000?line=40'>41</a>\u001b[0m         \u001b[39mreturn\u001b[39;00m \u001b[39mself\u001b[39m\u001b[39m.\u001b[39mstate[name]\n\u001b[1;32m     <a href='vscode-notebook-cell:/Users/levinbrinkmann/repros/algorithmic-institutions/notebooks/environment.ipynb#ch0000000?line=41'>42</a>\u001b[0m     \u001b[39melse\u001b[39;00m:\n",
      "    \u001b[0;31m[... skipping similar frames: ArtificialHumanEnv.__getattr__ at line 40 (2967 times)]\u001b[0m\n",
      "\u001b[1;32m/Users/levinbrinkmann/repros/algorithmic-institutions/notebooks/environment.ipynb Cell 1'\u001b[0m in \u001b[0;36mArtificialHumanEnv.__getattr__\u001b[0;34m(self, name)\u001b[0m\n\u001b[1;32m     <a href='vscode-notebook-cell:/Users/levinbrinkmann/repros/algorithmic-institutions/notebooks/environment.ipynb#ch0000000?line=38'>39</a>\u001b[0m \u001b[39mdef\u001b[39;00m \u001b[39m__getattr__\u001b[39m(\u001b[39mself\u001b[39m, name):\n\u001b[0;32m---> <a href='vscode-notebook-cell:/Users/levinbrinkmann/repros/algorithmic-institutions/notebooks/environment.ipynb#ch0000000?line=39'>40</a>\u001b[0m     \u001b[39mif\u001b[39;00m name \u001b[39min\u001b[39;00m \u001b[39mself\u001b[39;49m\u001b[39m.\u001b[39;49mstate:\n\u001b[1;32m     <a href='vscode-notebook-cell:/Users/levinbrinkmann/repros/algorithmic-institutions/notebooks/environment.ipynb#ch0000000?line=40'>41</a>\u001b[0m         \u001b[39mreturn\u001b[39;00m \u001b[39mself\u001b[39m\u001b[39m.\u001b[39mstate[name]\n\u001b[1;32m     <a href='vscode-notebook-cell:/Users/levinbrinkmann/repros/algorithmic-institutions/notebooks/environment.ipynb#ch0000000?line=41'>42</a>\u001b[0m     \u001b[39melse\u001b[39;00m:\n",
      "\u001b[0;31mRecursionError\u001b[0m: maximum recursion depth exceeded"
     ]
    }
   ],
   "source": [
    "\n",
    "device = th.device('cpu')\n",
    "\n",
    "env = ArtificialHumanEnv(\n",
    "    contributors_model=None, n_agents=4, max_contribution=20, max_punishment=30, device=device)"
   ]
  },
  {
   "cell_type": "code",
   "execution_count": null,
   "metadata": {},
   "outputs": [],
   "source": [
    "env.test = 1"
   ]
  }
 ],
 "metadata": {
  "interpreter": {
   "hash": "b1198fd9370ee0cf82025240fa26724f68bfab1e3f74dbb4acdc06e7861d0dbe"
  },
  "kernelspec": {
   "display_name": "Python 3.9.10 ('.venv': venv)",
   "language": "python",
   "name": "python3"
  },
  "language_info": {
   "codemirror_mode": {
    "name": "ipython",
    "version": 3
   },
   "file_extension": ".py",
   "mimetype": "text/x-python",
   "name": "python",
   "nbconvert_exporter": "python",
   "pygments_lexer": "ipython3",
   "version": "3.9.10"
  },
  "orig_nbformat": 4
 },
 "nbformat": 4,
 "nbformat_minor": 2
}
