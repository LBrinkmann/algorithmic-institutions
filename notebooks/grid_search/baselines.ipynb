{
 "cells": [
  {
   "cell_type": "markdown",
   "metadata": {},
   "source": [
    "# Investigate if numeric encoding can lead to a smoother response surface.\n",
    "\n",
    "## Main Questions\n",
    "\n",
    "* Do we get a more smooth response surface, if we use\n",
    "    * numeric input encoding\n",
    "    * use narrow network"
   ]
  },
  {
   "cell_type": "code",
   "execution_count": 2,
   "metadata": {},
   "outputs": [],
   "source": [
    "%load_ext autoreload\n",
    "%autoreload 2\n",
    "\n",
    "import os\n",
    "import pandas as pd\n",
    "import seaborn as sns\n",
    "import matplotlib.pyplot as plt\n",
    "import statsmodels.formula.api as smf\n",
    "from aimanager.utils.utils import make_dir\n",
    "from aimanager.utils.merge import merge_files_by_name\n",
    "\n",
    "sns.set(rc={'axes.facecolor':'white', 'figure.facecolor':'white'})\n",
    "\n",
    "folder = f'../../data/training/baselines'\n",
    "merged_folder = f'../../data/training/baselines_merged'\n",
    "\n",
    "plot_folder = f'plots/baseline'\n",
    "\n",
    "make_dir(plot_folder)\n",
    "make_dir(merged_folder)"
   ]
  },
  {
   "cell_type": "code",
   "execution_count": 3,
   "metadata": {},
   "outputs": [],
   "source": [
    "file_names = ['metrics.parquet', 'confusion_matrix.parquet', 'synthetic_predicitions.parquet']\n",
    "\n",
    "def get_df(file_name, merged_folder, folder):\n",
    "    m_file = os.path.join(merged_folder, file_name)\n",
    "    if not os.path.isfile(m_file):\n",
    "        df = merge_files_by_name(folder, file_name)\n",
    "        df.to_parquet(m_file)\n",
    "        return df\n",
    "    else:\n",
    "        return pd.read_parquet(m_file)\n",
    "\n",
    "metrics_df, confusion_matrix_df, synthethetic_df = (\n",
    "    get_df(file_name, merged_folder, folder)\n",
    "    for file_name in file_names\n",
    ")"
   ]
  },
  {
   "cell_type": "code",
   "execution_count": 6,
   "metadata": {},
   "outputs": [
    {
     "ename": "TypeError",
     "evalue": "value_counts() got an unexpected keyword argument 'keep_na'",
     "output_type": "error",
     "traceback": [
      "\u001b[0;31m---------------------------------------------------------------------------\u001b[0m",
      "\u001b[0;31mTypeError\u001b[0m                                 Traceback (most recent call last)",
      "\u001b[1;32m/Users/levinbrinkmann/repros/algorithmic-institutions/notebooks/grid_search/baselines.ipynb Cell 4'\u001b[0m in \u001b[0;36m<cell line: 1>\u001b[0;34m()\u001b[0m\n\u001b[0;32m----> <a href='vscode-notebook-cell:/Users/levinbrinkmann/repros/algorithmic-institutions/notebooks/grid_search/baselines.ipynb#ch0000003?line=0'>1</a>\u001b[0m metrics_df[\u001b[39m'\u001b[39;49m\u001b[39mbaseline\u001b[39;49m\u001b[39m'\u001b[39;49m]\u001b[39m.\u001b[39;49mvalue_counts(keep_na\u001b[39m=\u001b[39;49m\u001b[39mTrue\u001b[39;49;00m)\n",
      "\u001b[0;31mTypeError\u001b[0m: value_counts() got an unexpected keyword argument 'keep_na'"
     ]
    }
   ],
   "source": [
    "metrics_df['baseline'].value_counts(dropna=False)"
   ]
  },
  {
   "cell_type": "code",
   "execution_count": 66,
   "metadata": {},
   "outputs": [
    {
     "name": "stdout",
     "output_type": "stream",
     "text": [
      "['y_encoding', 'lr']\n"
     ]
    }
   ],
   "source": [
    "labels = list(set(metrics_df.columns) - set(['name', 'value', 'cv_split', 'epoch', 'set']))\n",
    "print(labels)\n",
    "\n",
    "metrics_df['label'] = ''\n",
    "bw = ''\n",
    "for l in labels:\n",
    "    metrics_df['label'] += (bw + l + ':') + metrics_df[l].astype(str)\n",
    "    bw = ' '\n",
    "\n",
    "to_string = ['layers', 'hidden_size']\n",
    "to_string = list(set(to_string).intersection(set(metrics_df.columns)))\n",
    "if len(to_string) > 0:\n",
    "    metrics_df[to_string] = metrics_df[to_string].astype(str)\n",
    "    synthethetic_df[to_string] = synthethetic_df[to_string].astype(str)\n",
    "    confusion_matrix_df[to_string] = confusion_matrix_df[to_string].astype(str)"
   ]
  },
  {
   "cell_type": "code",
   "execution_count": 67,
   "metadata": {},
   "outputs": [
    {
     "data": {
      "text/plain": [
       "baseline    name               \n",
       "onehot_mlp  accuracy               0.489901\n",
       "            mean_absolute_error    2.959608\n",
       "Name: value, dtype: float64"
      ]
     },
     "execution_count": 67,
     "metadata": {},
     "output_type": "execute_result"
    }
   ],
   "source": [
    "w = (\n",
    "    (baseline_df['set'] == 'test') & \n",
    "    (baseline_df['epoch'] == 990)\n",
    ")\n",
    "\n",
    "df = baseline_df[w]\n",
    "\n",
    "baseline = df.groupby(['baseline', 'name'])['value'].median()\n",
    "baseline"
   ]
  },
  {
   "cell_type": "markdown",
   "metadata": {},
   "source": [
    "## Overview"
   ]
  },
  {
   "cell_type": "code",
   "execution_count": 68,
   "metadata": {},
   "outputs": [
    {
     "data": {
      "image/png": "[encoded data removed]",
      "text/plain": [
       "<Figure size 864x864 with 1 Axes>"
      ]
     },
     "metadata": {},
     "output_type": "display_data"
    }
   ],
   "source": [
    "metric_name = 'accuracy'\n",
    "\n",
    "w = (\n",
    "    (metrics_df['name'] == metric_name) &\n",
    "    (metrics_df['set'] == 'test') & \n",
    "    # (metrics_df['layers'] == '3') & \n",
    "    # (metrics_df['hidden_size'] == '20') & \n",
    "    # (metrics_df['lr'] == '1.e-3') & \n",
    "    # (metrics_df['y_encoding'] != 'numeric') & \n",
    "    (metrics_df['epoch'] == 990)\n",
    ")\n",
    "df = metrics_df[w]\n",
    "# df['y_ordinal'] = df['y_ordinal'].astype(str)\n",
    "df = df.sort_values(['y_encoding',  'lr'])\n",
    "sns.catplot(data=df, x='value', y='label', orient='h', kind='box', sharex=False, height=12)\n",
    "\n",
    "for idx, dfg in baseline.groupby(level=0):\n",
    "    plt.axvline(dfg[(idx, metric_name)], color='black', ls='--')\n",
    "    plt.text(dfg[(idx, metric_name)], 0.5, idx, rotation=90, size=16, va='center')"
   ]
  },
  {
   "cell_type": "markdown",
   "metadata": {},
   "source": [
    "### First conclusion\n",
    "\n",
    "* Hugh variance in the performance\n",
    "* Numeric encoding has clearly lower performance"
   ]
  },
  {
   "cell_type": "markdown",
   "metadata": {},
   "source": [
    "## Statistical analysis of grid"
   ]
  },
  {
   "cell_type": "code",
   "execution_count": 69,
   "metadata": {},
   "outputs": [],
   "source": [
    "label_ref = {\n",
    "    # 'regularisation': 'none',\n",
    "    'y_encoding': 'onehot',\n",
    "    'x_encoding': 'numeric',\n",
    "    'layers': 2,\n",
    "    'hidden_size': 5,\n",
    "    'lr': '1.e-4'\n",
    "}\n",
    "\n",
    "label_str = [f\"C({l}, Treatment(reference='{label_ref[l]}'))\" if l in label_ref else l for l in labels]"
   ]
  },
  {
   "cell_type": "code",
   "execution_count": 70,
   "metadata": {},
   "outputs": [
    {
     "name": "stdout",
     "output_type": "stream",
     "text": [
      "metric accuracy - positive coef -> better\n"
     ]
    },
    {
     "data": {
      "text/html": [
       "<div>\n",
       "<style scoped>\n",
       "    .dataframe tbody tr th:only-of-type {\n",
       "        vertical-align: middle;\n",
       "    }\n",
       "\n",
       "    .dataframe tbody tr th {\n",
       "        vertical-align: top;\n",
       "    }\n",
       "\n",
       "    .dataframe thead th {\n",
       "        text-align: right;\n",
       "    }\n",
       "</style>\n",
       "<table border=\"1\" class=\"dataframe\">\n",
       "  <thead>\n",
       "    <tr style=\"text-align: right;\">\n",
       "      <th></th>\n",
       "      <th>Coef.</th>\n",
       "      <th>Std.Err.</th>\n",
       "      <th>z</th>\n",
       "      <th>P&gt;|z|</th>\n",
       "      <th>[0.025</th>\n",
       "      <th>0.975]</th>\n",
       "    </tr>\n",
       "  </thead>\n",
       "  <tbody>\n",
       "    <tr>\n",
       "      <th>Intercept</th>\n",
       "      <td>0.350919</td>\n",
       "      <td>0.018585</td>\n",
       "      <td>18.882239</td>\n",
       "      <td>1.596704e-79</td>\n",
       "      <td>0.314494</td>\n",
       "      <td>0.387344</td>\n",
       "    </tr>\n",
       "    <tr>\n",
       "      <th>C(y_encoding, Treatment(reference='onehot'))[T.numeric]</th>\n",
       "      <td>-0.232040</td>\n",
       "      <td>0.026283</td>\n",
       "      <td>-8.828639</td>\n",
       "      <td>1.059567e-18</td>\n",
       "      <td>-0.283553</td>\n",
       "      <td>-0.180527</td>\n",
       "    </tr>\n",
       "    <tr>\n",
       "      <th>C(lr, Treatment(reference='1.e-4'))[T.1.e-3]</th>\n",
       "      <td>0.074986</td>\n",
       "      <td>0.026283</td>\n",
       "      <td>2.853060</td>\n",
       "      <td>4.330050e-03</td>\n",
       "      <td>0.023473</td>\n",
       "      <td>0.126499</td>\n",
       "    </tr>\n",
       "    <tr>\n",
       "      <th>C(y_encoding, Treatment(reference='onehot'))[T.numeric]:C(lr, Treatment(reference='1.e-4'))[T.1.e-3]</th>\n",
       "      <td>-0.083792</td>\n",
       "      <td>0.037169</td>\n",
       "      <td>-2.254338</td>\n",
       "      <td>2.417489e-02</td>\n",
       "      <td>-0.156642</td>\n",
       "      <td>-0.010942</td>\n",
       "    </tr>\n",
       "  </tbody>\n",
       "</table>\n",
       "</div>"
      ],
      "text/plain": [
       "                                                       Coef.  Std.Err.  \\\n",
       "Intercept                                           0.350919  0.018585   \n",
       "C(y_encoding, Treatment(reference='onehot'))[T.... -0.232040  0.026283   \n",
       "C(lr, Treatment(reference='1.e-4'))[T.1.e-3]        0.074986  0.026283   \n",
       "C(y_encoding, Treatment(reference='onehot'))[T.... -0.083792  0.037169   \n",
       "\n",
       "                                                            z         P>|z|  \\\n",
       "Intercept                                           18.882239  1.596704e-79   \n",
       "C(y_encoding, Treatment(reference='onehot'))[T....  -8.828639  1.059567e-18   \n",
       "C(lr, Treatment(reference='1.e-4'))[T.1.e-3]         2.853060  4.330050e-03   \n",
       "C(y_encoding, Treatment(reference='onehot'))[T....  -2.254338  2.417489e-02   \n",
       "\n",
       "                                                      [0.025    0.975]  \n",
       "Intercept                                           0.314494  0.387344  \n",
       "C(y_encoding, Treatment(reference='onehot'))[T.... -0.283553 -0.180527  \n",
       "C(lr, Treatment(reference='1.e-4'))[T.1.e-3]        0.023473  0.126499  \n",
       "C(y_encoding, Treatment(reference='onehot'))[T.... -0.156642 -0.010942  "
      ]
     },
     "execution_count": 70,
     "metadata": {},
     "output_type": "execute_result"
    }
   ],
   "source": [
    "w = (\n",
    "    (metrics_df['name'] == 'accuracy') &\n",
    "    (metrics_df['set'] == 'test') &\n",
    "    # (metrics_df['y_encoding'] != 'numeric') & \n",
    "    # (metrics_df['layers'] == '2') & \n",
    "    (metrics_df['epoch'] == 990)\n",
    ")\n",
    "df = metrics_df[w]\n",
    "\n",
    "m_str = [f'{a}*{b}' for a in label_str for b in label_str]\n",
    "\n",
    "results = smf.glm(f\"value ~ {'+'.join(m_str)}\", data=df).fit()\n",
    "results_df = results.summary2().tables[1]\n",
    "\n",
    "print('metric accuracy - positive coef -> better')\n",
    "results_df[results_df['P>|z|'] < 0.25].sort_values('P>|z|')\n"
   ]
  },
  {
   "cell_type": "markdown",
   "metadata": {},
   "source": [
    "### Accuracy\n",
    "\n",
    "#### Strong evidence\n",
    "* larger learning rate (1.e-3) is better\n",
    "* ordinal x encoding (and to a lesser extend onehot) is better then numeric encoding\n",
    "* higher number of neurons is better for onehot encodingß"
   ]
  },
  {
   "cell_type": "code",
   "execution_count": 71,
   "metadata": {},
   "outputs": [
    {
     "name": "stdout",
     "output_type": "stream",
     "text": [
      "metric mean_absolute_error - negative coef -> better\n"
     ]
    },
    {
     "data": {
      "text/html": [
       "<div>\n",
       "<style scoped>\n",
       "    .dataframe tbody tr th:only-of-type {\n",
       "        vertical-align: middle;\n",
       "    }\n",
       "\n",
       "    .dataframe tbody tr th {\n",
       "        vertical-align: top;\n",
       "    }\n",
       "\n",
       "    .dataframe thead th {\n",
       "        text-align: right;\n",
       "    }\n",
       "</style>\n",
       "<table border=\"1\" class=\"dataframe\">\n",
       "  <thead>\n",
       "    <tr style=\"text-align: right;\">\n",
       "      <th></th>\n",
       "      <th>Coef.</th>\n",
       "      <th>Std.Err.</th>\n",
       "      <th>z</th>\n",
       "      <th>P&gt;|z|</th>\n",
       "      <th>[0.025</th>\n",
       "      <th>0.975]</th>\n",
       "    </tr>\n",
       "  </thead>\n",
       "  <tbody>\n",
       "    <tr>\n",
       "      <th>Intercept</th>\n",
       "      <td>4.607176</td>\n",
       "      <td>0.090662</td>\n",
       "      <td>50.816974</td>\n",
       "      <td>0.000000e+00</td>\n",
       "      <td>4.429482</td>\n",
       "      <td>4.784871</td>\n",
       "    </tr>\n",
       "    <tr>\n",
       "      <th>C(lr, Treatment(reference='1.e-4'))[T.1.e-3]</th>\n",
       "      <td>-1.177724</td>\n",
       "      <td>0.128216</td>\n",
       "      <td>-9.185495</td>\n",
       "      <td>4.096404e-20</td>\n",
       "      <td>-1.429022</td>\n",
       "      <td>-0.926426</td>\n",
       "    </tr>\n",
       "    <tr>\n",
       "      <th>C(y_encoding, Treatment(reference='onehot'))[T.numeric]</th>\n",
       "      <td>-1.094997</td>\n",
       "      <td>0.128216</td>\n",
       "      <td>-8.540274</td>\n",
       "      <td>1.339039e-17</td>\n",
       "      <td>-1.346295</td>\n",
       "      <td>-0.843699</td>\n",
       "    </tr>\n",
       "    <tr>\n",
       "      <th>C(y_encoding, Treatment(reference='onehot'))[T.numeric]:C(lr, Treatment(reference='1.e-4'))[T.1.e-3]</th>\n",
       "      <td>1.199044</td>\n",
       "      <td>0.181324</td>\n",
       "      <td>6.612706</td>\n",
       "      <td>3.773575e-11</td>\n",
       "      <td>0.843655</td>\n",
       "      <td>1.554433</td>\n",
       "    </tr>\n",
       "  </tbody>\n",
       "</table>\n",
       "</div>"
      ],
      "text/plain": [
       "                                                       Coef.  Std.Err.  \\\n",
       "Intercept                                           4.607176  0.090662   \n",
       "C(lr, Treatment(reference='1.e-4'))[T.1.e-3]       -1.177724  0.128216   \n",
       "C(y_encoding, Treatment(reference='onehot'))[T.... -1.094997  0.128216   \n",
       "C(y_encoding, Treatment(reference='onehot'))[T....  1.199044  0.181324   \n",
       "\n",
       "                                                            z         P>|z|  \\\n",
       "Intercept                                           50.816974  0.000000e+00   \n",
       "C(lr, Treatment(reference='1.e-4'))[T.1.e-3]        -9.185495  4.096404e-20   \n",
       "C(y_encoding, Treatment(reference='onehot'))[T....  -8.540274  1.339039e-17   \n",
       "C(y_encoding, Treatment(reference='onehot'))[T....   6.612706  3.773575e-11   \n",
       "\n",
       "                                                      [0.025    0.975]  \n",
       "Intercept                                           4.429482  4.784871  \n",
       "C(lr, Treatment(reference='1.e-4'))[T.1.e-3]       -1.429022 -0.926426  \n",
       "C(y_encoding, Treatment(reference='onehot'))[T.... -1.346295 -0.843699  \n",
       "C(y_encoding, Treatment(reference='onehot'))[T....  0.843655  1.554433  "
      ]
     },
     "execution_count": 71,
     "metadata": {},
     "output_type": "execute_result"
    }
   ],
   "source": [
    "w = (\n",
    "    (metrics_df['name'] == 'mean_absolute_error') &\n",
    "    (metrics_df['set'] == 'test') &\n",
    "    (metrics_df['epoch'] == 990)\n",
    ")\n",
    "df = metrics_df[w]\n",
    "\n",
    "m_str = [f'{a}*{b}' for a in label_str for b in label_str]\n",
    "\n",
    "results = smf.glm(f\"value ~ {'+'.join(m_str)}\", data=df).fit()\n",
    "results_df = results.summary2().tables[1]\n",
    "\n",
    "print('metric mean_absolute_error - negative coef -> better')\n",
    "results_df[results_df['P>|z|'] < 0.10].sort_values('P>|z|')"
   ]
  },
  {
   "cell_type": "markdown",
   "metadata": {},
   "source": [
    "### mean absolute error\n",
    "\n",
    "#### Strong evidence\n",
    "* ordinal > numeric\n",
    "* hidden 20 > hidden 5"
   ]
  },
  {
   "cell_type": "markdown",
   "metadata": {},
   "source": [
    "## Best parameters"
   ]
  },
  {
   "cell_type": "code",
   "execution_count": 72,
   "metadata": {},
   "outputs": [
    {
     "name": "stdout",
     "output_type": "stream",
     "text": [
      "Best performance for metric mean_absolute_error is y_encoding:onehot lr:1.e-3.\n",
      "                     name    set     value\n",
      "998              accuracy   test  0.413784\n",
      "999              accuracy  train  0.422983\n",
      "1198  mean_absolute_error   test  3.386667\n",
      "1199  mean_absolute_error  train  3.407352\n",
      "================\n",
      "Best performance for metric accuracy is y_encoding:onehot lr:1.e-3.\n",
      "                     name    set     value\n",
      "998              accuracy   test  0.413784\n",
      "999              accuracy  train  0.422983\n",
      "1198  mean_absolute_error   test  3.386667\n",
      "1199  mean_absolute_error  train  3.407352\n",
      "================\n"
     ]
    }
   ],
   "source": [
    "# w = (\n",
    "#     (metrics_df['x_encoding'] == 'numeric')\n",
    "# )\n",
    "# df = metrics_df[w]\n",
    "df = metrics_df\n",
    "\n",
    "best_labels = {}\n",
    "for m in ['mean_absolute_error', 'accuracy']:\n",
    "    df = df.reset_index(drop=True)\n",
    "    gb_col = list(set(df.columns) - set(['cv_split', 'value']))\n",
    "    df_g = df.groupby(gb_col)['value'].median().reset_index()\n",
    "    df_g = df_g.dropna(subset='value')\n",
    "    w = (\n",
    "        (df_g['name'] == m) &\n",
    "        (df_g['set'] == 'test')\n",
    "    )\n",
    "    if m == 'mean_absolute_error':\n",
    "        best = df_g.loc[df_g[w]['value'].idxmin()]\n",
    "    else:\n",
    "        best = df_g.loc[df_g[w]['value'].idxmax()]\n",
    "    best_labels[m] = {l: best[l] for l in labels}\n",
    "\n",
    "    print(f'Best performance for metric {m} is {best.label}.')\n",
    "    w = (\n",
    "        (df_g['label'] == best.label) &\n",
    "        (df_g['epoch'] == 990)\n",
    "    )\n",
    "\n",
    "    print(df_g.loc[w, ['name', 'set', 'value']])\n",
    "    print('================')\n",
    "    # print(f'Best performance for metric {m} with a value of {best.value} is {best.label} in epoch {best.epoch}')\n",
    "\n"
   ]
  },
  {
   "cell_type": "markdown",
   "metadata": {},
   "source": [
    "### Summary\n",
    "\n",
    "* We have the highest accuracy and mae for\n",
    "    * low regularisation \n",
    "    * hidden_size of 20\n",
    "    * learning rate of 1.e-3\n",
    "    * x-encoding onehot\n",
    "* 3 layer is leading to a better mae, 2 layer to a higher accuracy"
   ]
  },
  {
   "cell_type": "markdown",
   "metadata": {},
   "source": [
    "## Investigation of particular parameter\n",
    "\n",
    "### Hidden Size and number of layer"
   ]
  },
  {
   "cell_type": "code",
   "execution_count": 73,
   "metadata": {},
   "outputs": [
    {
     "name": "stdout",
     "output_type": "stream",
     "text": [
      "epoch=990\n"
     ]
    },
    {
     "data": {
      "image/png": "[encoded data removed]",
      "text/plain": [
       "<Figure size 787.85x360 with 2 Axes>"
      ]
     },
     "metadata": {},
     "output_type": "display_data"
    }
   ],
   "source": [
    "selection = best_labels['mean_absolute_error'].copy()\n",
    "\n",
    "focus = ['y_encoding', 'lr']\n",
    "metric_name = 'mean_absolute_error'\n",
    "\n",
    "for f in focus:\n",
    "    selection.pop(f)\n",
    "selection['epoch'] = 990\n",
    "\n",
    "w1 = pd.concat(\n",
    "    (metrics_df[k] == v\n",
    "    for k,v in selection.items()), axis=1\n",
    ").all(1)\n",
    "\n",
    "w2 = (\n",
    "    (metrics_df['name'] == metric_name) \n",
    ")\n",
    "\n",
    "fg = sns.catplot(data=metrics_df[w1 & w2], x=focus[0], hue=focus[1], y='value', col='set', kind='box', sharey=True)\n",
    "\n",
    "for idx, dfg in baseline.groupby(level=0):\n",
    "    for ax in fg.axes_dict.values():\n",
    "        ax.axhline(dfg[(idx, metric_name)], color='black', ls='--')\n",
    "        ax.text(-0.5, dfg[(idx, metric_name)]*0.99,  idx, rotation=0, size=12, va='center')\n",
    "\n",
    "print('|'.join(f'{k}={v}' for k, v in selection.items()))"
   ]
  },
  {
   "cell_type": "markdown",
   "metadata": {},
   "source": [
    "#### Results\n",
    "\n",
    "* Number of layers has a relative small effect on mae\n",
    "* Number of hidden units has a large effect on the training set and a small effect on the test set (overfitting!)"
   ]
  },
  {
   "cell_type": "markdown",
   "metadata": {},
   "source": [
    "## Confusion Matrix"
   ]
  },
  {
   "cell_type": "code",
   "execution_count": 75,
   "metadata": {},
   "outputs": [
    {
     "data": {
      "text/plain": [
       "<seaborn.axisgrid.FacetGrid at 0x7f68c4f93070>"
      ]
     },
     "execution_count": 75,
     "metadata": {},
     "output_type": "execute_result"
    },
    {
     "data": {
      "image/png": "[encoded data removed]",
      "text/plain": [
       "<Figure size 1080x360 with 4 Axes>"
      ]
     },
     "metadata": {},
     "output_type": "display_data"
    }
   ],
   "source": [
    "selection = best_labels['accuracy'].copy()\n",
    "\n",
    "w = confusion_matrix_df['set'] == 'test'\n",
    "\n",
    "df = confusion_matrix_df[w].copy()\n",
    "\n",
    "focus_dimension = 'y_encoding'\n",
    "\n",
    "selection.pop(focus_dimension)\n",
    "# selection['regularisation'] = 'wd_1.e-6'\n",
    "\n",
    "w = pd.concat(\n",
    "    (df[k] == v\n",
    "    for k,v in selection.items()), axis=1\n",
    ").all(1)\n",
    "\n",
    "df = df[w]\n",
    "\n",
    "# w2 = df[focus_dimension].isin(['none', 'wd_1.e-3', 'wd_1.e-4'])\n",
    "# df = df[w2]\n",
    "\n",
    "df = df.sort_values(focus_dimension)\n",
    "\n",
    "def _plot_heatmap(data, x, y, values):\n",
    "    dfg = data.groupby([x,y])[values].sum().reset_index()\n",
    "    dfg[values] = dfg[values] / dfg.groupby([x])[values].transform('sum')\n",
    "    # dfg = dfg.reset_index()\n",
    "    cm = dfg.pivot_table(index=x, columns=y, values=values)\n",
    "    sns.heatmap(cm)\n",
    "\n",
    "plot_heatmap = lambda data, color: _plot_heatmap(\n",
    "    data, x='y_true',y='y_pred', values='value')\n",
    "\n",
    "fg = sns.FacetGrid(df, col=focus_dimension, col_wrap=3, height=5)\n",
    "fg.map_dataframe(plot_heatmap)"
   ]
  },
  {
   "cell_type": "markdown",
   "metadata": {},
   "source": [
    "In the numeric encoding, the model is only taking actions that are a multiple of 5."
   ]
  },
  {
   "cell_type": "markdown",
   "metadata": {},
   "source": [
    "## Response surface"
   ]
  },
  {
   "cell_type": "markdown",
   "metadata": {},
   "source": [
    "## "
   ]
  },
  {
   "cell_type": "code",
   "execution_count": 77,
   "metadata": {},
   "outputs": [
    {
     "data": {
      "text/plain": [
       "<seaborn.axisgrid.FacetGrid at 0x7f6a72096370>"
      ]
     },
     "execution_count": 77,
     "metadata": {},
     "output_type": "execute_result"
    },
    {
     "data": {
      "image/png": "[encoded data removed]",
      "text/plain": [
       "<Figure size 1080x360 with 4 Axes>"
      ]
     },
     "metadata": {},
     "output_type": "display_data"
    }
   ],
   "source": [
    "selection = best_labels['accuracy'].copy()\n",
    "df = synthethetic_df.copy()\n",
    "\n",
    "focus_dimension = 'y_encoding'\n",
    "\n",
    "selection.pop(focus_dimension)\n",
    "# selection['regularisation'] = 'wd_1.e-6'\n",
    "\n",
    "w = pd.concat(\n",
    "    (df[k] == v\n",
    "    for k,v in selection.items()), axis=1\n",
    ").all(1)\n",
    "\n",
    "df = df[w]\n",
    "\n",
    "# w2 = df[focus_dimension].isin(['none', 'wd_1.e-3', 'wd_1.e-4'])\n",
    "# df = df[w2]\n",
    "\n",
    "df = df.sort_values(focus_dimension)\n",
    "\n",
    "if df['y_encoding'].unique()[0] == 'ordinal':\n",
    "    df['exp_contribution'] = df['proba']\n",
    "else:\n",
    "    df['exp_contribution'] = df['contribution'] * df['proba']\n",
    "\n",
    "\n",
    "def _plot_heatmap(data, x, y, values):\n",
    "    dfg = data.groupby([x,y])['exp_contribution'].sum()\n",
    "    dfg = dfg.reset_index()\n",
    "    cm = dfg.pivot_table(index=x, columns=y, values=values)\n",
    "    sns.heatmap(cm)\n",
    "\n",
    "plot_heatmap = lambda data, color: _plot_heatmap(\n",
    "    data, x='prev_contribution',y='prev_punishment', values='exp_contribution')\n",
    "\n",
    "fg = sns.FacetGrid(df, col=focus_dimension, col_wrap=3, height=5)\n",
    "fg.map_dataframe(plot_heatmap)"
   ]
  },
  {
   "cell_type": "markdown",
   "metadata": {},
   "source": [
    "Numeric encoding is creating nicely smooth response surfaces. "
   ]
  }
 ],
 "metadata": {
  "interpreter": {
   "hash": "b1198fd9370ee0cf82025240fa26724f68bfab1e3f74dbb4acdc06e7861d0dbe"
  },
  "kernelspec": {
   "display_name": "Python 3.9.10 64-bit ('.venv': venv)",
   "language": "python",
   "name": "python3"
  },
  "language_info": {
   "codemirror_mode": {
    "name": "ipython",
    "version": 3
   },
   "file_extension": ".py",
   "mimetype": "text/x-python",
   "name": "python",
   "nbconvert_exporter": "python",
   "pygments_lexer": "ipython3",
   "version": "3.9.10"
  },
  "orig_nbformat": 4
 },
 "nbformat": 4,
 "nbformat_minor": 2
}
