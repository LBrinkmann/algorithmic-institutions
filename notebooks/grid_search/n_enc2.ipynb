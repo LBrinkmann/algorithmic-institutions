{
 "cells": [
  {
   "cell_type": "markdown",
   "metadata": {},
   "source": [
    "# Investigate if numeric encoding can lead to a smoother response surface.\n",
    "\n",
    "## Main Questions\n",
    "\n",
    "* Do we get a more smooth response surface, if we use\n",
    "    * numeric input encodingß\n",
    "    * use narrow networkß"
   ]
  },
  {
   "cell_type": "code",
   "execution_count": 2,
   "metadata": {},
   "outputs": [],
   "source": [
    "%load_ext autoreload\n",
    "%autoreload 2\n",
    "\n",
    "import os\n",
    "import pandas as pd\n",
    "import seaborn as sns\n",
    "import matplotlib.pyplot as plt\n",
    "import statsmodels.formula.api as smf\n",
    "from aimanager.utils.utils import make_dir\n",
    "from aimanager.utils.merge import merge_files_by_name\n",
    "\n",
    "sns.set(rc={'axes.facecolor':'white', 'figure.facecolor':'white'})\n",
    "\n",
    "run = 'n_enc2'\n",
    "\n",
    "folder = f'../../data/training/{run}/train'\n",
    "merged_folder = f'../../data/training/{run}/merged'\n",
    "plot_folder = f'plots/{run}'\n",
    "\n",
    "make_dir(plot_folder)\n",
    "make_dir(merged_folder)"
   ]
  },
  {
   "cell_type": "code",
   "execution_count": 3,
   "metadata": {},
   "outputs": [],
   "source": [
    "file_names = ['metrics.parquet', 'confusion_matrix.parquet', 'synthetic_predicitions.parquet']\n",
    "\n",
    "def get_df(file_name, merged_folder, folder):\n",
    "    m_file = os.path.join(merged_folder, file_name)\n",
    "    if not os.path.isfile(m_file):\n",
    "        df = merge_files_by_name(folder, file_name)\n",
    "        df.to_parquet(m_file)\n",
    "        return df\n",
    "    else:\n",
    "        return pd.read_parquet(m_file)\n",
    "\n",
    "metrics_df, confusion_matrix_df, synthethetic_df = (\n",
    "    get_df(file_name, merged_folder, folder)\n",
    "    for file_name in file_names\n",
    ")"
   ]
  },
  {
   "cell_type": "code",
   "execution_count": 4,
   "metadata": {},
   "outputs": [
    {
     "name": "stdout",
     "output_type": "stream",
     "text": [
      "['layers', 'regularisation', 'hidden_size', 'y_encoding', 'x_encoding', 'lr']\n"
     ]
    }
   ],
   "source": [
    "labels = list(set(metrics_df.columns) - set(['name', 'value', 'cv_split', 'epoch', 'set']))\n",
    "print(labels)\n",
    "\n",
    "metrics_df['label'] = ''\n",
    "bw = ''\n",
    "for l in labels:\n",
    "    metrics_df['label'] += (bw + l + ':') + metrics_df[l].astype(str)\n",
    "    bw = ' '\n",
    "\n",
    "to_string = ['layers', 'hidden_size']\n",
    "metrics_df[to_string] = metrics_df[to_string].astype(str)\n",
    "synthethetic_df[to_string] = synthethetic_df[to_string].astype(str)\n",
    "confusion_matrix_df[to_string] = confusion_matrix_df[to_string].astype(str)"
   ]
  },
  {
   "cell_type": "markdown",
   "metadata": {},
   "source": [
    "## Overview"
   ]
  },
  {
   "cell_type": "code",
   "execution_count": 19,
   "metadata": {},
   "outputs": [
    {
     "data": {
      "text/plain": [
       "<seaborn.axisgrid.FacetGrid at 0x7fb46b0c9f40>"
      ]
     },
     "execution_count": 19,
     "metadata": {},
     "output_type": "execute_result"
    },
    {
     "data": {
      "image/png": "[encoded data removed]",
      "text/plain": [
       "<Figure size 576x576 with 1 Axes>"
      ]
     },
     "metadata": {},
     "output_type": "display_data"
    }
   ],
   "source": [
    "w = (\n",
    "    (metrics_df['name'] == 'accuracy') &\n",
    "    (metrics_df['set'] == 'test') & \n",
    "    (metrics_df['layers'] == '3') & \n",
    "    (metrics_df['hidden_size'] == '20') & \n",
    "    (metrics_df['lr'] == '1.e-3') & \n",
    "    # (metrics_df['y_encoding'] != 'numeric') & \n",
    "    (metrics_df['epoch'] == 990)\n",
    ")\n",
    "df = metrics_df[w]\n",
    "# df['y_ordinal'] = df['y_ordinal'].astype(str)\n",
    "df = df.sort_values(['x_encoding', 'layers', 'hidden_size',  'lr'])\n",
    "sns.catplot(data=df, x='value', y='x_encoding', orient='h', kind='box', sharex=False, height=8)"
   ]
  },
  {
   "cell_type": "markdown",
   "metadata": {},
   "source": [
    "### First conclusion\n",
    "\n",
    "* Numeric encoding did not work (investigate scaling)"
   ]
  },
  {
   "cell_type": "markdown",
   "metadata": {},
   "source": [
    "## Statistical analysis of grid"
   ]
  },
  {
   "cell_type": "code",
   "execution_count": 6,
   "metadata": {},
   "outputs": [],
   "source": [
    "label_ref = {\n",
    "    # 'regularisation': 'none',\n",
    "    'x_encoding': 'numeric',\n",
    "    'layers': 2,\n",
    "    'hidden_size': 5,\n",
    "    'lr': '1.e-4'\n",
    "}\n",
    "\n",
    "label_str = [f\"C({l}, Treatment(reference='{label_ref[l]}'))\" if l in label_ref else l for l in labels]"
   ]
  },
  {
   "cell_type": "code",
   "execution_count": 7,
   "metadata": {},
   "outputs": [
    {
     "name": "stdout",
     "output_type": "stream",
     "text": [
      "metric accuracy - positive coef -> better\n"
     ]
    },
    {
     "data": {
      "text/html": [
       "<div>\n",
       "<style scoped>\n",
       "    .dataframe tbody tr th:only-of-type {\n",
       "        vertical-align: middle;\n",
       "    }\n",
       "\n",
       "    .dataframe tbody tr th {\n",
       "        vertical-align: top;\n",
       "    }\n",
       "\n",
       "    .dataframe thead th {\n",
       "        text-align: right;\n",
       "    }\n",
       "</style>\n",
       "<table border=\"1\" class=\"dataframe\">\n",
       "  <thead>\n",
       "    <tr style=\"text-align: right;\">\n",
       "      <th></th>\n",
       "      <th>Coef.</th>\n",
       "      <th>Std.Err.</th>\n",
       "      <th>z</th>\n",
       "      <th>P&gt;|z|</th>\n",
       "      <th>[0.025</th>\n",
       "      <th>0.975]</th>\n",
       "    </tr>\n",
       "  </thead>\n",
       "  <tbody>\n",
       "    <tr>\n",
       "      <th>Intercept</th>\n",
       "      <td>0.315826</td>\n",
       "      <td>0.018972</td>\n",
       "      <td>16.647026</td>\n",
       "      <td>3.180187e-62</td>\n",
       "      <td>0.278641</td>\n",
       "      <td>0.353010</td>\n",
       "    </tr>\n",
       "    <tr>\n",
       "      <th>C(lr, Treatment(reference='1.e-4'))[T.1.e-3]</th>\n",
       "      <td>0.069090</td>\n",
       "      <td>0.021907</td>\n",
       "      <td>3.153792</td>\n",
       "      <td>1.611638e-03</td>\n",
       "      <td>0.026153</td>\n",
       "      <td>0.112026</td>\n",
       "    </tr>\n",
       "    <tr>\n",
       "      <th>C(x_encoding, Treatment(reference='numeric'))[T.ordinal]</th>\n",
       "      <td>0.058838</td>\n",
       "      <td>0.023998</td>\n",
       "      <td>2.451814</td>\n",
       "      <td>1.421382e-02</td>\n",
       "      <td>0.011803</td>\n",
       "      <td>0.105873</td>\n",
       "    </tr>\n",
       "    <tr>\n",
       "      <th>C(hidden_size, Treatment(reference='5'))[T.20]:C(x_encoding, Treatment(reference='numeric'))[T.onehot]</th>\n",
       "      <td>0.049474</td>\n",
       "      <td>0.023998</td>\n",
       "      <td>2.061588</td>\n",
       "      <td>3.924697e-02</td>\n",
       "      <td>0.002439</td>\n",
       "      <td>0.096508</td>\n",
       "    </tr>\n",
       "    <tr>\n",
       "      <th>C(x_encoding, Treatment(reference='numeric'))[T.onehot]</th>\n",
       "      <td>0.042064</td>\n",
       "      <td>0.023998</td>\n",
       "      <td>1.752828</td>\n",
       "      <td>7.963148e-02</td>\n",
       "      <td>-0.004971</td>\n",
       "      <td>0.089099</td>\n",
       "    </tr>\n",
       "  </tbody>\n",
       "</table>\n",
       "</div>"
      ],
      "text/plain": [
       "                                                       Coef.  Std.Err.  \\\n",
       "Intercept                                           0.315826  0.018972   \n",
       "C(lr, Treatment(reference='1.e-4'))[T.1.e-3]        0.069090  0.021907   \n",
       "C(x_encoding, Treatment(reference='numeric'))[T...  0.058838  0.023998   \n",
       "C(hidden_size, Treatment(reference='5'))[T.20]:...  0.049474  0.023998   \n",
       "C(x_encoding, Treatment(reference='numeric'))[T...  0.042064  0.023998   \n",
       "\n",
       "                                                            z         P>|z|  \\\n",
       "Intercept                                           16.647026  3.180187e-62   \n",
       "C(lr, Treatment(reference='1.e-4'))[T.1.e-3]         3.153792  1.611638e-03   \n",
       "C(x_encoding, Treatment(reference='numeric'))[T...   2.451814  1.421382e-02   \n",
       "C(hidden_size, Treatment(reference='5'))[T.20]:...   2.061588  3.924697e-02   \n",
       "C(x_encoding, Treatment(reference='numeric'))[T...   1.752828  7.963148e-02   \n",
       "\n",
       "                                                      [0.025    0.975]  \n",
       "Intercept                                           0.278641  0.353010  \n",
       "C(lr, Treatment(reference='1.e-4'))[T.1.e-3]        0.026153  0.112026  \n",
       "C(x_encoding, Treatment(reference='numeric'))[T...  0.011803  0.105873  \n",
       "C(hidden_size, Treatment(reference='5'))[T.20]:...  0.002439  0.096508  \n",
       "C(x_encoding, Treatment(reference='numeric'))[T... -0.004971  0.089099  "
      ]
     },
     "execution_count": 7,
     "metadata": {},
     "output_type": "execute_result"
    }
   ],
   "source": [
    "w = (\n",
    "    (metrics_df['name'] == 'accuracy') &\n",
    "    (metrics_df['set'] == 'test') &\n",
    "    # (metrics_df['y_encoding'] != 'numeric') & \n",
    "    # (metrics_df['layers'] == '2') & \n",
    "    (metrics_df['epoch'] == 990)\n",
    ")\n",
    "df = metrics_df[w]\n",
    "\n",
    "m_str = [f'{a}*{b}' for a in label_str for b in label_str]\n",
    "\n",
    "results = smf.glm(f\"value ~ {'+'.join(m_str)}\", data=df).fit()\n",
    "results_df = results.summary2().tables[1]\n",
    "\n",
    "print('metric accuracy - positive coef -> better')\n",
    "results_df[results_df['P>|z|'] < 0.25].sort_values('P>|z|')\n"
   ]
  },
  {
   "cell_type": "markdown",
   "metadata": {},
   "source": [
    "### Accuracy\n",
    "\n",
    "#### Strong evidence\n",
    "* onehot > ordinal\n",
    "\n",
    "#### Some indication\n",
    "* hidden_size: 10 > 40\n",
    "* learning rate: '1.e-4' > '1.e-3' (not for ordinal encoding)"
   ]
  },
  {
   "cell_type": "code",
   "execution_count": 8,
   "metadata": {},
   "outputs": [
    {
     "name": "stdout",
     "output_type": "stream",
     "text": [
      "metric mean_absolute_error - negative coef -> better\n"
     ]
    },
    {
     "data": {
      "text/html": [
       "<div>\n",
       "<style scoped>\n",
       "    .dataframe tbody tr th:only-of-type {\n",
       "        vertical-align: middle;\n",
       "    }\n",
       "\n",
       "    .dataframe tbody tr th {\n",
       "        vertical-align: top;\n",
       "    }\n",
       "\n",
       "    .dataframe thead th {\n",
       "        text-align: right;\n",
       "    }\n",
       "</style>\n",
       "<table border=\"1\" class=\"dataframe\">\n",
       "  <thead>\n",
       "    <tr style=\"text-align: right;\">\n",
       "      <th></th>\n",
       "      <th>Coef.</th>\n",
       "      <th>Std.Err.</th>\n",
       "      <th>z</th>\n",
       "      <th>P&gt;|z|</th>\n",
       "      <th>[0.025</th>\n",
       "      <th>0.975]</th>\n",
       "    </tr>\n",
       "  </thead>\n",
       "  <tbody>\n",
       "    <tr>\n",
       "      <th>Intercept</th>\n",
       "      <td>7.109073</td>\n",
       "      <td>0.250650</td>\n",
       "      <td>28.362496</td>\n",
       "      <td>5.870074e-177</td>\n",
       "      <td>6.617807</td>\n",
       "      <td>7.600339</td>\n",
       "    </tr>\n",
       "    <tr>\n",
       "      <th>C(lr, Treatment(reference='1.e-4'))[T.1.e-3]</th>\n",
       "      <td>-3.100759</td>\n",
       "      <td>0.289426</td>\n",
       "      <td>-10.713470</td>\n",
       "      <td>8.800068e-27</td>\n",
       "      <td>-3.668024</td>\n",
       "      <td>-2.533494</td>\n",
       "    </tr>\n",
       "    <tr>\n",
       "      <th>C(x_encoding, Treatment(reference='numeric'))[T.ordinal]</th>\n",
       "      <td>-2.892732</td>\n",
       "      <td>0.317051</td>\n",
       "      <td>-9.123883</td>\n",
       "      <td>7.247989e-20</td>\n",
       "      <td>-3.514140</td>\n",
       "      <td>-2.271325</td>\n",
       "    </tr>\n",
       "    <tr>\n",
       "      <th>C(x_encoding, Treatment(reference='numeric'))[T.ordinal]:C(lr, Treatment(reference='1.e-4'))[T.1.e-3]</th>\n",
       "      <td>1.834124</td>\n",
       "      <td>0.317051</td>\n",
       "      <td>5.784956</td>\n",
       "      <td>7.253112e-09</td>\n",
       "      <td>1.212716</td>\n",
       "      <td>2.455531</td>\n",
       "    </tr>\n",
       "    <tr>\n",
       "      <th>C(hidden_size, Treatment(reference='5'))[T.20]:C(lr, Treatment(reference='1.e-4'))[T.1.e-3]</th>\n",
       "      <td>1.240027</td>\n",
       "      <td>0.258871</td>\n",
       "      <td>4.790140</td>\n",
       "      <td>1.666653e-06</td>\n",
       "      <td>0.732650</td>\n",
       "      <td>1.747404</td>\n",
       "    </tr>\n",
       "    <tr>\n",
       "      <th>C(hidden_size, Treatment(reference='5'))[T.20]</th>\n",
       "      <td>-1.184786</td>\n",
       "      <td>0.289426</td>\n",
       "      <td>-4.093568</td>\n",
       "      <td>4.247847e-05</td>\n",
       "      <td>-1.752051</td>\n",
       "      <td>-0.617521</td>\n",
       "    </tr>\n",
       "    <tr>\n",
       "      <th>C(x_encoding, Treatment(reference='numeric'))[T.onehot]</th>\n",
       "      <td>-1.173336</td>\n",
       "      <td>0.317051</td>\n",
       "      <td>-3.700785</td>\n",
       "      <td>2.149336e-04</td>\n",
       "      <td>-1.794744</td>\n",
       "      <td>-0.551928</td>\n",
       "    </tr>\n",
       "    <tr>\n",
       "      <th>C(hidden_size, Treatment(reference='5'))[T.20]:C(x_encoding, Treatment(reference='numeric'))[T.onehot]</th>\n",
       "      <td>-0.809424</td>\n",
       "      <td>0.317051</td>\n",
       "      <td>-2.552982</td>\n",
       "      <td>1.068050e-02</td>\n",
       "      <td>-1.430832</td>\n",
       "      <td>-0.188017</td>\n",
       "    </tr>\n",
       "    <tr>\n",
       "      <th>C(layers, Treatment(reference='2'))[T.3]:C(x_encoding, Treatment(reference='numeric'))[T.ordinal]</th>\n",
       "      <td>0.764712</td>\n",
       "      <td>0.317051</td>\n",
       "      <td>2.411957</td>\n",
       "      <td>1.586715e-02</td>\n",
       "      <td>0.143305</td>\n",
       "      <td>1.386120</td>\n",
       "    </tr>\n",
       "    <tr>\n",
       "      <th>C(x_encoding, Treatment(reference='numeric'))[T.onehot]:C(lr, Treatment(reference='1.e-4'))[T.1.e-3]</th>\n",
       "      <td>0.763900</td>\n",
       "      <td>0.317051</td>\n",
       "      <td>2.409396</td>\n",
       "      <td>1.597894e-02</td>\n",
       "      <td>0.142493</td>\n",
       "      <td>1.385308</td>\n",
       "    </tr>\n",
       "  </tbody>\n",
       "</table>\n",
       "</div>"
      ],
      "text/plain": [
       "                                                       Coef.  Std.Err.  \\\n",
       "Intercept                                           7.109073  0.250650   \n",
       "C(lr, Treatment(reference='1.e-4'))[T.1.e-3]       -3.100759  0.289426   \n",
       "C(x_encoding, Treatment(reference='numeric'))[T... -2.892732  0.317051   \n",
       "C(x_encoding, Treatment(reference='numeric'))[T...  1.834124  0.317051   \n",
       "C(hidden_size, Treatment(reference='5'))[T.20]:...  1.240027  0.258871   \n",
       "C(hidden_size, Treatment(reference='5'))[T.20]     -1.184786  0.289426   \n",
       "C(x_encoding, Treatment(reference='numeric'))[T... -1.173336  0.317051   \n",
       "C(hidden_size, Treatment(reference='5'))[T.20]:... -0.809424  0.317051   \n",
       "C(layers, Treatment(reference='2'))[T.3]:C(x_en...  0.764712  0.317051   \n",
       "C(x_encoding, Treatment(reference='numeric'))[T...  0.763900  0.317051   \n",
       "\n",
       "                                                            z          P>|z|  \\\n",
       "Intercept                                           28.362496  5.870074e-177   \n",
       "C(lr, Treatment(reference='1.e-4'))[T.1.e-3]       -10.713470   8.800068e-27   \n",
       "C(x_encoding, Treatment(reference='numeric'))[T...  -9.123883   7.247989e-20   \n",
       "C(x_encoding, Treatment(reference='numeric'))[T...   5.784956   7.253112e-09   \n",
       "C(hidden_size, Treatment(reference='5'))[T.20]:...   4.790140   1.666653e-06   \n",
       "C(hidden_size, Treatment(reference='5'))[T.20]      -4.093568   4.247847e-05   \n",
       "C(x_encoding, Treatment(reference='numeric'))[T...  -3.700785   2.149336e-04   \n",
       "C(hidden_size, Treatment(reference='5'))[T.20]:...  -2.552982   1.068050e-02   \n",
       "C(layers, Treatment(reference='2'))[T.3]:C(x_en...   2.411957   1.586715e-02   \n",
       "C(x_encoding, Treatment(reference='numeric'))[T...   2.409396   1.597894e-02   \n",
       "\n",
       "                                                      [0.025    0.975]  \n",
       "Intercept                                           6.617807  7.600339  \n",
       "C(lr, Treatment(reference='1.e-4'))[T.1.e-3]       -3.668024 -2.533494  \n",
       "C(x_encoding, Treatment(reference='numeric'))[T... -3.514140 -2.271325  \n",
       "C(x_encoding, Treatment(reference='numeric'))[T...  1.212716  2.455531  \n",
       "C(hidden_size, Treatment(reference='5'))[T.20]:...  0.732650  1.747404  \n",
       "C(hidden_size, Treatment(reference='5'))[T.20]     -1.752051 -0.617521  \n",
       "C(x_encoding, Treatment(reference='numeric'))[T... -1.794744 -0.551928  \n",
       "C(hidden_size, Treatment(reference='5'))[T.20]:... -1.430832 -0.188017  \n",
       "C(layers, Treatment(reference='2'))[T.3]:C(x_en...  0.143305  1.386120  \n",
       "C(x_encoding, Treatment(reference='numeric'))[T...  0.142493  1.385308  "
      ]
     },
     "execution_count": 8,
     "metadata": {},
     "output_type": "execute_result"
    }
   ],
   "source": [
    "w = (\n",
    "    (metrics_df['name'] == 'mean_absolute_error') &\n",
    "    (metrics_df['set'] == 'test') &\n",
    "    (metrics_df['epoch'] == 990)\n",
    ")\n",
    "df = metrics_df[w]\n",
    "\n",
    "m_str = [f'{a}*{b}' for a in label_str for b in label_str]\n",
    "\n",
    "results = smf.glm(f\"value ~ {'+'.join(m_str)}\", data=df).fit()\n",
    "results_df = results.summary2().tables[1]\n",
    "\n",
    "print('metric mean_absolute_error - negative coef -> better')\n",
    "results_df[results_df['P>|z|'] < 0.10].sort_values('P>|z|')"
   ]
  },
  {
   "cell_type": "markdown",
   "metadata": {},
   "source": [
    "### mean absolute error\n",
    "\n",
    "#### Strong evidence\n",
    "* ordinal > onehot\n",
    "* regularisation: dropout 0.5 is bad, not so much with ordinal encoding\n",
    "\n",
    "#### Some indication\n",
    "* for ordinal encoding: hiddensize 10 > 40 (dropout 0.5 helps)"
   ]
  },
  {
   "cell_type": "markdown",
   "metadata": {},
   "source": [
    "## Best parameters"
   ]
  },
  {
   "cell_type": "code",
   "execution_count": 9,
   "metadata": {},
   "outputs": [
    {
     "name": "stdout",
     "output_type": "stream",
     "text": [
      "Best performance for metric mean_absolute_error is layers:3 regularisation:wd_1.e-4 hidden_size:20 y_encoding:onehot x_encoding:onehot lr:1.e-3.\n",
      "                       name    set     value\n",
      "230140             accuracy   test  0.491948\n",
      "230141             accuracy  train  0.496944\n",
      "230236  mean_absolute_error   test  2.902741\n",
      "230237  mean_absolute_error  train  3.004541\n",
      "================\n",
      "Best performance for metric accuracy is layers:2 regularisation:wd_1.e-4 hidden_size:20 y_encoding:onehot x_encoding:onehot lr:1.e-3.\n",
      "                      name    set     value\n",
      "57316             accuracy   test  0.492454\n",
      "57317             accuracy  train  0.491879\n",
      "57412  mean_absolute_error   test  3.016180\n",
      "57413  mean_absolute_error  train  3.047066\n",
      "================\n"
     ]
    }
   ],
   "source": [
    "# w = (\n",
    "#     (metrics_df['x_encoding'] == 'numeric')\n",
    "# )\n",
    "# df = metrics_df[w]\n",
    "df = metrics_df\n",
    "\n",
    "best_labels = {}\n",
    "for m in ['mean_absolute_error', 'accuracy']:\n",
    "    df = df.reset_index(drop=True)\n",
    "    gb_col = list(set(df.columns) - set(['cv_split', 'value']))\n",
    "    df_g = df.groupby(gb_col)['value'].median().reset_index()\n",
    "    df_g = df_g.dropna(subset='value')\n",
    "    w = (\n",
    "        (df_g['name'] == m) &\n",
    "        (df_g['set'] == 'test')\n",
    "    )\n",
    "    if m == 'mean_absolute_error':\n",
    "        best = df_g.loc[df_g[w]['value'].idxmin()]\n",
    "    else:\n",
    "        best = df_g.loc[df_g[w]['value'].idxmax()]\n",
    "    best_labels[m] = {l: best[l] for l in labels}\n",
    "\n",
    "    print(f'Best performance for metric {m} is {best.label}.')\n",
    "    w = (\n",
    "        (df_g['label'] == best.label) &\n",
    "        (df_g['epoch'] == 990)\n",
    "    )\n",
    "\n",
    "    print(df_g.loc[w, ['name', 'set', 'value']])\n",
    "    print('================')\n",
    "    # print(f'Best performance for metric {m} with a value of {best.value} is {best.label} in epoch {best.epoch}')\n",
    "\n"
   ]
  },
  {
   "cell_type": "markdown",
   "metadata": {},
   "source": [
    "### Summary\n",
    "\n",
    "* We have the highest accuracy and mae for\n",
    "    * 3 layer\n",
    "    * low regularisation \n",
    "    * hidden_size of 40\n",
    "    * learning rate of 1.e-3\n",
    "* Ordinal y is leading to a better mae, onehot y to a higher accuracy"
   ]
  },
  {
   "cell_type": "markdown",
   "metadata": {},
   "source": [
    "## Investigation of particular parameter\n",
    "\n",
    "### Hidden Size and number of layer"
   ]
  },
  {
   "cell_type": "code",
   "execution_count": 10,
   "metadata": {},
   "outputs": [
    {
     "name": "stdout",
     "output_type": "stream",
     "text": [
      "regularisation=wd_1.e-4|y_encoding=onehot|x_encoding=onehot|lr=1.e-3|epoch=990\n"
     ]
    },
    {
     "data": {
      "image/png": "[encoded data removed]",
      "text/plain": [
       "<Figure size 799.425x360 with 2 Axes>"
      ]
     },
     "metadata": {},
     "output_type": "display_data"
    }
   ],
   "source": [
    "selection = best_labels['mean_absolute_error'].copy()\n",
    "\n",
    "focus = ['layers', 'hidden_size']\n",
    "metric_name = 'mean_absolute_error'\n",
    "\n",
    "for f in focus:\n",
    "    selection.pop(f)\n",
    "selection['epoch'] = 990\n",
    "\n",
    "w1 = pd.concat(\n",
    "    (metrics_df[k] == v\n",
    "    for k,v in selection.items()), axis=1\n",
    ").all(1)\n",
    "\n",
    "w2 = (\n",
    "    (metrics_df['name'] == metric_name) \n",
    ")\n",
    "\n",
    "sns.catplot(data=metrics_df[w1 & w2], x=focus[0], hue=focus[1], y='value', col='set', kind='box', sharey=False)\n",
    "print('|'.join(f'{k}={v}' for k, v in selection.items()))"
   ]
  },
  {
   "cell_type": "markdown",
   "metadata": {},
   "source": [
    "#### Results\n",
    "\n",
    "* Number of layers has a relative small effect on mae\n",
    "* Number of hidden units has a large effect on the training set and a small effect on the test set (overfitting!)"
   ]
  },
  {
   "cell_type": "markdown",
   "metadata": {},
   "source": [
    "### Hidden Size and regularisation"
   ]
  },
  {
   "cell_type": "code",
   "execution_count": 11,
   "metadata": {},
   "outputs": [
    {
     "name": "stdout",
     "output_type": "stream",
     "text": [
      "layers=3|y_encoding=onehot|x_encoding=onehot|lr=1.e-3|epoch=990\n"
     ]
    },
    {
     "data": {
      "image/png": "[encoded data removed]",
      "text/plain": [
       "<Figure size 929.475x432 with 2 Axes>"
      ]
     },
     "metadata": {},
     "output_type": "display_data"
    }
   ],
   "source": [
    "selection = best_labels['mean_absolute_error'].copy()\n",
    "\n",
    "focus = ['hidden_size', 'regularisation']\n",
    "metric_name = 'mean_absolute_error'\n",
    "\n",
    "selection = {k: v for k, v in selection.items() if k not in focus}\n",
    "selection['epoch'] = 990\n",
    "\n",
    "w1 = pd.concat(\n",
    "    (metrics_df[k] == v\n",
    "    for k,v in selection.items()), axis=1\n",
    ").all(1)\n",
    "\n",
    "w2 = (\n",
    "    (metrics_df['name'] == metric_name) \n",
    ")\n",
    "sns.catplot(data=metrics_df[w1 & w2], col=focus[0], x=focus[1], y='value', hue='set', kind='box', sharey=False, height=6)\n",
    "print('|'.join(f'{k}={v}' for k, v in selection.items()))"
   ]
  },
  {
   "cell_type": "markdown",
   "metadata": {},
   "source": [
    "#### Results\n",
    "\n",
    "* The non regularised model has the lowest cv variance in test performance\n",
    "* No clear benefit in regularisation\n",
    "* Mild weight decay decreases test error, but at the expense of high variance."
   ]
  },
  {
   "cell_type": "markdown",
   "metadata": {},
   "source": [
    "## Confusion Matrix"
   ]
  },
  {
   "cell_type": "code",
   "execution_count": 12,
   "metadata": {},
   "outputs": [
    {
     "data": {
      "text/plain": [
       "<AxesSubplot:xlabel='y_pred', ylabel='y_true'>"
      ]
     },
     "execution_count": 12,
     "metadata": {},
     "output_type": "execute_result"
    },
    {
     "data": {
      "image/png": "[encoded data removed]",
      "text/plain": [
       "<Figure size 1008x720 with 2 Axes>"
      ]
     },
     "metadata": {},
     "output_type": "display_data"
    }
   ],
   "source": [
    "# Todo: double check the normalisation\n",
    "w = pd.concat(\n",
    "    (confusion_matrix_df[k] == v\n",
    "    for k,v in best_labels['accuracy'].items()), axis=1\n",
    ").all(1)\n",
    "\n",
    "cm_g_df = confusion_matrix_df[w].groupby(['set', 'y_true', 'y_pred'])['value'].sum().reset_index()\n",
    "cm_g_df['fraction'] = cm_g_df['value'] / cm_g_df.groupby(['set', 'y_true'])['value'].transform('sum')\n",
    "cm = cm_g_df.pivot_table(index=['set', 'y_true'], columns='y_pred', values='fraction')\n",
    "\n",
    "plt.figure(figsize=(14,10))\n",
    "sns.heatmap(cm.loc['test'], vmin=0, vmax=1)"
   ]
  },
  {
   "cell_type": "markdown",
   "metadata": {},
   "source": [
    "## "
   ]
  },
  {
   "cell_type": "code",
   "execution_count": 13,
   "metadata": {},
   "outputs": [
    {
     "data": {
      "text/plain": [
       "<seaborn.axisgrid.FacetGrid at 0x7fb2ade6fbb0>"
      ]
     },
     "execution_count": 13,
     "metadata": {},
     "output_type": "execute_result"
    },
    {
     "data": {
      "image/png": "[encoded data removed]",
      "text/plain": [
       "<Figure size 1080x360 with 6 Axes>"
      ]
     },
     "metadata": {},
     "output_type": "display_data"
    }
   ],
   "source": [
    "selection = best_labels['accuracy'].copy()\n",
    "\n",
    "focus_dimension = 'x_encoding'\n",
    "\n",
    "selection.pop(focus_dimension)\n",
    "# selection['regularisation'] = 'wd_1.e-6'\n",
    "\n",
    "w = pd.concat(\n",
    "    (synthethetic_df[k] == v\n",
    "    for k,v in selection.items()), axis=1\n",
    ").all(1)\n",
    "\n",
    "# w2 = synthethetic_df[focus_dimension].isin(['none', 'wd_1.e-3', 'wd_1.e-4'])\n",
    "\n",
    "df = synthethetic_df[w].copy()\n",
    "df = df.sort_values(focus_dimension)\n",
    "\n",
    "if df['y_encoding'].unique()[0] == 'ordinal':\n",
    "    df['exp_contribution'] = df['proba']\n",
    "else:\n",
    "    df['exp_contribution'] = df['contribution'] * df['proba']\n",
    "\n",
    "\n",
    "def _plot_heatmap(data, x, y, values):\n",
    "    # groupby = list(set(df.columns) - set([x,y,values]))\n",
    "    dfg = data.groupby([x,y])['exp_contribution'].sum()\n",
    "    dfg = dfg.reset_index()\n",
    "    cm = dfg.pivot_table(index=x, columns=y, values=values)\n",
    "    sns.heatmap(cm)\n",
    "\n",
    "plot_heatmap = lambda data, color: _plot_heatmap(\n",
    "    data, x='prev_contribution',y='prev_punishment', values='exp_contribution')\n",
    "\n",
    "fg = sns.FacetGrid(df, col=focus_dimension, col_wrap=3, height=5)\n",
    "fg.map_dataframe(plot_heatmap)"
   ]
  },
  {
   "cell_type": "code",
   "execution_count": null,
   "metadata": {},
   "outputs": [],
   "source": []
  }
 ],
 "metadata": {
  "interpreter": {
   "hash": "b1198fd9370ee0cf82025240fa26724f68bfab1e3f74dbb4acdc06e7861d0dbe"
  },
  "kernelspec": {
   "display_name": "Python 3.9.10 64-bit ('.venv': venv)",
   "language": "python",
   "name": "python3"
  },
  "language_info": {
   "codemirror_mode": {
    "name": "ipython",
    "version": 3
   },
   "file_extension": ".py",
   "mimetype": "text/x-python",
   "name": "python",
   "nbconvert_exporter": "python",
   "pygments_lexer": "ipython3",
   "version": "3.9.1"
  },
  "orig_nbformat": 4
 },
 "nbformat": 4,
 "nbformat_minor": 2
}
