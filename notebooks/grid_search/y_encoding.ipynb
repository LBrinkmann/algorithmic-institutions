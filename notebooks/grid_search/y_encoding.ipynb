{
 "cells": [
  {
   "cell_type": "markdown",
   "metadata": {},
   "source": [
    "# Investigate if numeric encoding can lead to a smoother response surface.\n",
    "\n",
    "## Main Questions\n",
    "\n",
    "* Do we get a more smooth response surface, if we use\n",
    "    * numeric input encoding\n",
    "    * use narrow network"
   ]
  },
  {
   "cell_type": "code",
   "execution_count": 1,
   "metadata": {},
   "outputs": [],
   "source": [
    "%load_ext autoreload\n",
    "%autoreload 2\n",
    "\n",
    "import os\n",
    "import pandas as pd\n",
    "import seaborn as sns\n",
    "import matplotlib.pyplot as plt\n",
    "import statsmodels.formula.api as smf\n",
    "from aimanager.utils.utils import make_dir\n",
    "from aimanager.utils.merge import merge_files_by_name\n",
    "\n",
    "sns.set(rc={'axes.facecolor':'white', 'figure.facecolor':'white'})\n",
    "\n",
    "run = 'y_encoding_2'\n",
    "\n",
    "folder = f'../../data/training/{run}/train'\n",
    "merged_folder = f'../../data/training/{run}/merged'\n",
    "bs_folder = f'../../data/training/baselines'\n",
    "bs_merged_folder = f'../../data/training/baselines_merged'\n",
    "\n",
    "plot_folder = f'plots/{run}'\n",
    "\n",
    "make_dir(plot_folder)\n",
    "make_dir(merged_folder)\n",
    "make_dir(bs_merged_folder)"
   ]
  },
  {
   "cell_type": "code",
   "execution_count": 2,
   "metadata": {},
   "outputs": [],
   "source": [
    "file_names = ['metrics.parquet', 'confusion_matrix.parquet', 'synthetic_predicitions.parquet']\n",
    "\n",
    "def get_df(file_name, merged_folder, folder):\n",
    "    m_file = os.path.join(merged_folder, file_name)\n",
    "    if not os.path.isfile(m_file):\n",
    "        df = merge_files_by_name(folder, file_name)\n",
    "        df.to_parquet(m_file)\n",
    "        return df\n",
    "    else:\n",
    "        return pd.read_parquet(m_file)\n",
    "\n",
    "metrics_df, confusion_matrix_df, synthethetic_df = (\n",
    "    get_df(file_name, merged_folder, folder)\n",
    "    for file_name in file_names\n",
    ")\n",
    "\n",
    "baseline_df = get_df(file_names[0], bs_merged_folder, bs_folder)"
   ]
  },
  {
   "cell_type": "code",
   "execution_count": 3,
   "metadata": {},
   "outputs": [
    {
     "data": {
      "text/html": [
       "<div>\n",
       "<style scoped>\n",
       "    .dataframe tbody tr th:only-of-type {\n",
       "        vertical-align: middle;\n",
       "    }\n",
       "\n",
       "    .dataframe tbody tr th {\n",
       "        vertical-align: top;\n",
       "    }\n",
       "\n",
       "    .dataframe thead th {\n",
       "        text-align: right;\n",
       "    }\n",
       "</style>\n",
       "<table border=\"1\" class=\"dataframe\">\n",
       "  <thead>\n",
       "    <tr style=\"text-align: right;\">\n",
       "      <th></th>\n",
       "      <th>name</th>\n",
       "      <th>value</th>\n",
       "      <th>cv_split</th>\n",
       "      <th>epoch</th>\n",
       "      <th>set</th>\n",
       "      <th>baseline</th>\n",
       "    </tr>\n",
       "  </thead>\n",
       "  <tbody>\n",
       "    <tr>\n",
       "      <th>0</th>\n",
       "      <td>loss</td>\n",
       "      <td>3.053400</td>\n",
       "      <td>0</td>\n",
       "      <td>0</td>\n",
       "      <td>None</td>\n",
       "      <td>NaN</td>\n",
       "    </tr>\n",
       "    <tr>\n",
       "      <th>1</th>\n",
       "      <td>mean_absolute_error</td>\n",
       "      <td>7.679183</td>\n",
       "      <td>0</td>\n",
       "      <td>0</td>\n",
       "      <td>train</td>\n",
       "      <td>NaN</td>\n",
       "    </tr>\n",
       "    <tr>\n",
       "      <th>2</th>\n",
       "      <td>accuracy</td>\n",
       "      <td>0.030038</td>\n",
       "      <td>0</td>\n",
       "      <td>0</td>\n",
       "      <td>train</td>\n",
       "      <td>NaN</td>\n",
       "    </tr>\n",
       "    <tr>\n",
       "      <th>3</th>\n",
       "      <td>mean_absolute_error</td>\n",
       "      <td>7.546326</td>\n",
       "      <td>0</td>\n",
       "      <td>0</td>\n",
       "      <td>test</td>\n",
       "      <td>NaN</td>\n",
       "    </tr>\n",
       "    <tr>\n",
       "      <th>4</th>\n",
       "      <td>accuracy</td>\n",
       "      <td>0.012780</td>\n",
       "      <td>0</td>\n",
       "      <td>0</td>\n",
       "      <td>test</td>\n",
       "      <td>NaN</td>\n",
       "    </tr>\n",
       "    <tr>\n",
       "      <th>...</th>\n",
       "      <td>...</td>\n",
       "      <td>...</td>\n",
       "      <td>...</td>\n",
       "      <td>...</td>\n",
       "      <td>...</td>\n",
       "      <td>...</td>\n",
       "    </tr>\n",
       "    <tr>\n",
       "      <th>9995</th>\n",
       "      <td>loss</td>\n",
       "      <td>1.749402</td>\n",
       "      <td>19</td>\n",
       "      <td>990</td>\n",
       "      <td>None</td>\n",
       "      <td>onehot_mlp</td>\n",
       "    </tr>\n",
       "    <tr>\n",
       "      <th>9996</th>\n",
       "      <td>mean_absolute_error</td>\n",
       "      <td>3.049074</td>\n",
       "      <td>19</td>\n",
       "      <td>990</td>\n",
       "      <td>train</td>\n",
       "      <td>onehot_mlp</td>\n",
       "    </tr>\n",
       "    <tr>\n",
       "      <th>9997</th>\n",
       "      <td>accuracy</td>\n",
       "      <td>0.492141</td>\n",
       "      <td>19</td>\n",
       "      <td>990</td>\n",
       "      <td>train</td>\n",
       "      <td>onehot_mlp</td>\n",
       "    </tr>\n",
       "    <tr>\n",
       "      <th>9998</th>\n",
       "      <td>mean_absolute_error</td>\n",
       "      <td>3.331210</td>\n",
       "      <td>19</td>\n",
       "      <td>990</td>\n",
       "      <td>test</td>\n",
       "      <td>onehot_mlp</td>\n",
       "    </tr>\n",
       "    <tr>\n",
       "      <th>9999</th>\n",
       "      <td>accuracy</td>\n",
       "      <td>0.474522</td>\n",
       "      <td>19</td>\n",
       "      <td>990</td>\n",
       "      <td>test</td>\n",
       "      <td>onehot_mlp</td>\n",
       "    </tr>\n",
       "  </tbody>\n",
       "</table>\n",
       "<p>20000 rows × 6 columns</p>\n",
       "</div>"
      ],
      "text/plain": [
       "                     name     value  cv_split  epoch    set    baseline\n",
       "0                    loss  3.053400         0      0   None         NaN\n",
       "1     mean_absolute_error  7.679183         0      0  train         NaN\n",
       "2                accuracy  0.030038         0      0  train         NaN\n",
       "3     mean_absolute_error  7.546326         0      0   test         NaN\n",
       "4                accuracy  0.012780         0      0   test         NaN\n",
       "...                   ...       ...       ...    ...    ...         ...\n",
       "9995                 loss  1.749402        19    990   None  onehot_mlp\n",
       "9996  mean_absolute_error  3.049074        19    990  train  onehot_mlp\n",
       "9997             accuracy  0.492141        19    990  train  onehot_mlp\n",
       "9998  mean_absolute_error  3.331210        19    990   test  onehot_mlp\n",
       "9999             accuracy  0.474522        19    990   test  onehot_mlp\n",
       "\n",
       "[20000 rows x 6 columns]"
      ]
     },
     "execution_count": 3,
     "metadata": {},
     "output_type": "execute_result"
    }
   ],
   "source": [
    "baseline_df"
   ]
  },
  {
   "cell_type": "code",
   "execution_count": 4,
   "metadata": {},
   "outputs": [
    {
     "name": "stdout",
     "output_type": "stream",
     "text": [
      "['y_encoding', 'lr']\n"
     ]
    }
   ],
   "source": [
    "labels = list(set(metrics_df.columns) - set(['name', 'value', 'cv_split', 'epoch', 'set']))\n",
    "print(labels)\n",
    "\n",
    "metrics_df['label'] = ''\n",
    "bw = ''\n",
    "for l in labels:\n",
    "    metrics_df['label'] += (bw + l + ':') + metrics_df[l].astype(str)\n",
    "    bw = ' '\n",
    "\n",
    "to_string = ['layers', 'hidden_size']\n",
    "to_string = list(set(to_string).intersection(set(metrics_df.columns)))\n",
    "if len(to_string) > 0:\n",
    "    metrics_df[to_string] = metrics_df[to_string].astype(str)\n",
    "    synthethetic_df[to_string] = synthethetic_df[to_string].astype(str)\n",
    "    confusion_matrix_df[to_string] = confusion_matrix_df[to_string].astype(str)"
   ]
  },
  {
   "cell_type": "code",
   "execution_count": 5,
   "metadata": {},
   "outputs": [
    {
     "data": {
      "text/plain": [
       "baseline    name               \n",
       "onehot_mlp  accuracy               0.489901\n",
       "            mean_absolute_error    2.959608\n",
       "Name: value, dtype: float64"
      ]
     },
     "execution_count": 5,
     "metadata": {},
     "output_type": "execute_result"
    }
   ],
   "source": [
    "w = (\n",
    "    (baseline_df['set'] == 'test') & \n",
    "    (baseline_df['epoch'] == 990)\n",
    ")\n",
    "\n",
    "df = baseline_df[w]\n",
    "\n",
    "baseline = df.groupby(['baseline', 'name'])['value'].median()\n",
    "baseline"
   ]
  },
  {
   "cell_type": "markdown",
   "metadata": {},
   "source": [
    "## Overview"
   ]
  },
  {
   "cell_type": "code",
   "execution_count": 6,
   "metadata": {},
   "outputs": [
    {
     "data": {
      "image/png": "[encoded data removed]",
      "text/plain": [
       "<Figure size 864x864 with 1 Axes>"
      ]
     },
     "metadata": {},
     "output_type": "display_data"
    }
   ],
   "source": [
    "metric_name = 'accuracy'\n",
    "\n",
    "w = (\n",
    "    (metrics_df['name'] == metric_name) &\n",
    "    (metrics_df['set'] == 'test') & \n",
    "    # (metrics_df['layers'] == '3') & \n",
    "    # (metrics_df['hidden_size'] == '20') & \n",
    "    # (metrics_df['lr'] == '1.e-3') & \n",
    "    # (metrics_df['y_encoding'] != 'numeric') & \n",
    "    (metrics_df['epoch'] == 990)\n",
    ")\n",
    "df = metrics_df[w]\n",
    "# df['y_ordinal'] = df['y_ordinal'].astype(str)\n",
    "df = df.sort_values(['y_encoding',  'lr'])\n",
    "sns.catplot(data=df, x='value', y='label', orient='h', kind='box', sharex=False, height=12)\n",
    "\n",
    "for idx, dfg in baseline.groupby(level=0):\n",
    "    plt.axvline(dfg[(idx, metric_name)], color='black', ls='--')\n",
    "    plt.text(dfg[(idx, metric_name)], 0.5, idx, rotation=90, size=16, va='center')"
   ]
  },
  {
   "cell_type": "markdown",
   "metadata": {},
   "source": [
    "### First conclusion\n",
    "\n",
    "* Hugh variance in the performance\n",
    "* Numeric encoding has clearly lower performance"
   ]
  },
  {
   "cell_type": "markdown",
   "metadata": {},
   "source": [
    "## Statistical analysis of grid"
   ]
  },
  {
   "cell_type": "code",
   "execution_count": 7,
   "metadata": {},
   "outputs": [],
   "source": [
    "label_ref = {\n",
    "    # 'regularisation': 'none',\n",
    "    'y_encoding': 'onehot',\n",
    "    'x_encoding': 'numeric',\n",
    "    'layers': 2,\n",
    "    'hidden_size': 5,\n",
    "    'lr': '1.e-4'\n",
    "}\n",
    "\n",
    "label_str = [f\"C({l}, Treatment(reference='{label_ref[l]}'))\" if l in label_ref else l for l in labels]"
   ]
  },
  {
   "cell_type": "code",
   "execution_count": 8,
   "metadata": {},
   "outputs": [
    {
     "name": "stdout",
     "output_type": "stream",
     "text": [
      "metric accuracy - positive coef -> better\n"
     ]
    },
    {
     "data": {
      "text/html": [
       "<div>\n",
       "<style scoped>\n",
       "    .dataframe tbody tr th:only-of-type {\n",
       "        vertical-align: middle;\n",
       "    }\n",
       "\n",
       "    .dataframe tbody tr th {\n",
       "        vertical-align: top;\n",
       "    }\n",
       "\n",
       "    .dataframe thead th {\n",
       "        text-align: right;\n",
       "    }\n",
       "</style>\n",
       "<table border=\"1\" class=\"dataframe\">\n",
       "  <thead>\n",
       "    <tr style=\"text-align: right;\">\n",
       "      <th></th>\n",
       "      <th>Coef.</th>\n",
       "      <th>Std.Err.</th>\n",
       "      <th>z</th>\n",
       "      <th>P&gt;|z|</th>\n",
       "      <th>[0.025</th>\n",
       "      <th>0.975]</th>\n",
       "    </tr>\n",
       "  </thead>\n",
       "  <tbody>\n",
       "    <tr>\n",
       "      <th>Intercept</th>\n",
       "      <td>0.335908</td>\n",
       "      <td>0.018776</td>\n",
       "      <td>17.890523</td>\n",
       "      <td>1.397912e-71</td>\n",
       "      <td>0.299108</td>\n",
       "      <td>0.372708</td>\n",
       "    </tr>\n",
       "    <tr>\n",
       "      <th>C(y_encoding, Treatment(reference='onehot'))[T.numeric_sigmoid]</th>\n",
       "      <td>-0.255992</td>\n",
       "      <td>0.026553</td>\n",
       "      <td>-9.640803</td>\n",
       "      <td>5.376560e-22</td>\n",
       "      <td>-0.308034</td>\n",
       "      <td>-0.203949</td>\n",
       "    </tr>\n",
       "    <tr>\n",
       "      <th>C(y_encoding, Treatment(reference='onehot'))[T.numeric]</th>\n",
       "      <td>-0.254366</td>\n",
       "      <td>0.026553</td>\n",
       "      <td>-9.579577</td>\n",
       "      <td>9.744307e-22</td>\n",
       "      <td>-0.306409</td>\n",
       "      <td>-0.202323</td>\n",
       "    </tr>\n",
       "    <tr>\n",
       "      <th>C(lr, Treatment(reference='1.e-4'))[T.1.e-3]</th>\n",
       "      <td>0.072200</td>\n",
       "      <td>0.026553</td>\n",
       "      <td>2.719082</td>\n",
       "      <td>6.546332e-03</td>\n",
       "      <td>0.020157</td>\n",
       "      <td>0.124242</td>\n",
       "    </tr>\n",
       "    <tr>\n",
       "      <th>C(y_encoding, Treatment(reference='onehot'))[T.numeric]:C(lr, Treatment(reference='1.e-4'))[T.1.e-3]</th>\n",
       "      <td>-0.077596</td>\n",
       "      <td>0.037552</td>\n",
       "      <td>-2.066378</td>\n",
       "      <td>3.879279e-02</td>\n",
       "      <td>-0.151195</td>\n",
       "      <td>-0.003996</td>\n",
       "    </tr>\n",
       "    <tr>\n",
       "      <th>C(y_encoding, Treatment(reference='onehot'))[T.numeric_sigmoid]:C(lr, Treatment(reference='1.e-4'))[T.1.e-3]</th>\n",
       "      <td>-0.076809</td>\n",
       "      <td>0.037552</td>\n",
       "      <td>-2.045426</td>\n",
       "      <td>4.081287e-02</td>\n",
       "      <td>-0.150408</td>\n",
       "      <td>-0.003209</td>\n",
       "    </tr>\n",
       "  </tbody>\n",
       "</table>\n",
       "</div>"
      ],
      "text/plain": [
       "                                                       Coef.  Std.Err.  \\\n",
       "Intercept                                           0.335908  0.018776   \n",
       "C(y_encoding, Treatment(reference='onehot'))[T.... -0.255992  0.026553   \n",
       "C(y_encoding, Treatment(reference='onehot'))[T.... -0.254366  0.026553   \n",
       "C(lr, Treatment(reference='1.e-4'))[T.1.e-3]        0.072200  0.026553   \n",
       "C(y_encoding, Treatment(reference='onehot'))[T.... -0.077596  0.037552   \n",
       "C(y_encoding, Treatment(reference='onehot'))[T.... -0.076809  0.037552   \n",
       "\n",
       "                                                            z         P>|z|  \\\n",
       "Intercept                                           17.890523  1.397912e-71   \n",
       "C(y_encoding, Treatment(reference='onehot'))[T....  -9.640803  5.376560e-22   \n",
       "C(y_encoding, Treatment(reference='onehot'))[T....  -9.579577  9.744307e-22   \n",
       "C(lr, Treatment(reference='1.e-4'))[T.1.e-3]         2.719082  6.546332e-03   \n",
       "C(y_encoding, Treatment(reference='onehot'))[T....  -2.066378  3.879279e-02   \n",
       "C(y_encoding, Treatment(reference='onehot'))[T....  -2.045426  4.081287e-02   \n",
       "\n",
       "                                                      [0.025    0.975]  \n",
       "Intercept                                           0.299108  0.372708  \n",
       "C(y_encoding, Treatment(reference='onehot'))[T.... -0.308034 -0.203949  \n",
       "C(y_encoding, Treatment(reference='onehot'))[T.... -0.306409 -0.202323  \n",
       "C(lr, Treatment(reference='1.e-4'))[T.1.e-3]        0.020157  0.124242  \n",
       "C(y_encoding, Treatment(reference='onehot'))[T.... -0.151195 -0.003996  \n",
       "C(y_encoding, Treatment(reference='onehot'))[T.... -0.150408 -0.003209  "
      ]
     },
     "execution_count": 8,
     "metadata": {},
     "output_type": "execute_result"
    }
   ],
   "source": [
    "w = (\n",
    "    (metrics_df['name'] == 'accuracy') &\n",
    "    (metrics_df['set'] == 'test') &\n",
    "    # (metrics_df['y_encoding'] != 'numeric') & \n",
    "    # (metrics_df['layers'] == '2') & \n",
    "    (metrics_df['epoch'] == 990)\n",
    ")\n",
    "df = metrics_df[w]\n",
    "\n",
    "m_str = [f'{a}*{b}' for a in label_str for b in label_str]\n",
    "\n",
    "results = smf.glm(f\"value ~ {'+'.join(m_str)}\", data=df).fit()\n",
    "results_df = results.summary2().tables[1]\n",
    "\n",
    "print('metric accuracy - positive coef -> better')\n",
    "results_df[results_df['P>|z|'] < 0.25].sort_values('P>|z|')\n"
   ]
  },
  {
   "cell_type": "markdown",
   "metadata": {},
   "source": [
    "### Accuracy\n",
    "\n",
    "#### Strong evidence\n",
    "* larger learning rate (1.e-3) is better\n",
    "* ordinal x encoding (and to a lesser extend onehot) is better then numeric encoding\n",
    "* higher number of neurons is better for onehot encodingß"
   ]
  },
  {
   "cell_type": "code",
   "execution_count": 9,
   "metadata": {},
   "outputs": [
    {
     "name": "stdout",
     "output_type": "stream",
     "text": [
      "metric mean_absolute_error - negative coef -> better\n"
     ]
    },
    {
     "data": {
      "text/html": [
       "<div>\n",
       "<style scoped>\n",
       "    .dataframe tbody tr th:only-of-type {\n",
       "        vertical-align: middle;\n",
       "    }\n",
       "\n",
       "    .dataframe tbody tr th {\n",
       "        vertical-align: top;\n",
       "    }\n",
       "\n",
       "    .dataframe thead th {\n",
       "        text-align: right;\n",
       "    }\n",
       "</style>\n",
       "<table border=\"1\" class=\"dataframe\">\n",
       "  <thead>\n",
       "    <tr style=\"text-align: right;\">\n",
       "      <th></th>\n",
       "      <th>Coef.</th>\n",
       "      <th>Std.Err.</th>\n",
       "      <th>z</th>\n",
       "      <th>P&gt;|z|</th>\n",
       "      <th>[0.025</th>\n",
       "      <th>0.975]</th>\n",
       "    </tr>\n",
       "  </thead>\n",
       "  <tbody>\n",
       "    <tr>\n",
       "      <th>Intercept</th>\n",
       "      <td>5.209894</td>\n",
       "      <td>0.195356</td>\n",
       "      <td>26.668706</td>\n",
       "      <td>1.086177e-156</td>\n",
       "      <td>4.827003</td>\n",
       "      <td>5.592785</td>\n",
       "    </tr>\n",
       "    <tr>\n",
       "      <th>C(lr, Treatment(reference='1.e-4'))[T.1.e-3]</th>\n",
       "      <td>-1.611330</td>\n",
       "      <td>0.276275</td>\n",
       "      <td>-5.832336</td>\n",
       "      <td>5.465671e-09</td>\n",
       "      <td>-2.152819</td>\n",
       "      <td>-1.069840</td>\n",
       "    </tr>\n",
       "    <tr>\n",
       "      <th>C(y_encoding, Treatment(reference='onehot'))[T.numeric]</th>\n",
       "      <td>-1.379146</td>\n",
       "      <td>0.276275</td>\n",
       "      <td>-4.991927</td>\n",
       "      <td>5.977989e-07</td>\n",
       "      <td>-1.920635</td>\n",
       "      <td>-0.837656</td>\n",
       "    </tr>\n",
       "    <tr>\n",
       "      <th>C(y_encoding, Treatment(reference='onehot'))[T.numeric_sigmoid]</th>\n",
       "      <td>-1.368992</td>\n",
       "      <td>0.276275</td>\n",
       "      <td>-4.955176</td>\n",
       "      <td>7.226491e-07</td>\n",
       "      <td>-1.910482</td>\n",
       "      <td>-0.827503</td>\n",
       "    </tr>\n",
       "    <tr>\n",
       "      <th>C(y_encoding, Treatment(reference='onehot'))[T.numeric]:C(lr, Treatment(reference='1.e-4'))[T.1.e-3]</th>\n",
       "      <td>1.642062</td>\n",
       "      <td>0.390712</td>\n",
       "      <td>4.202740</td>\n",
       "      <td>2.637028e-05</td>\n",
       "      <td>0.876280</td>\n",
       "      <td>2.407844</td>\n",
       "    </tr>\n",
       "    <tr>\n",
       "      <th>C(y_encoding, Treatment(reference='onehot'))[T.numeric_sigmoid]:C(lr, Treatment(reference='1.e-4'))[T.1.e-3]</th>\n",
       "      <td>1.610513</td>\n",
       "      <td>0.390712</td>\n",
       "      <td>4.121993</td>\n",
       "      <td>3.756088e-05</td>\n",
       "      <td>0.844731</td>\n",
       "      <td>2.376295</td>\n",
       "    </tr>\n",
       "  </tbody>\n",
       "</table>\n",
       "</div>"
      ],
      "text/plain": [
       "                                                       Coef.  Std.Err.  \\\n",
       "Intercept                                           5.209894  0.195356   \n",
       "C(lr, Treatment(reference='1.e-4'))[T.1.e-3]       -1.611330  0.276275   \n",
       "C(y_encoding, Treatment(reference='onehot'))[T.... -1.379146  0.276275   \n",
       "C(y_encoding, Treatment(reference='onehot'))[T.... -1.368992  0.276275   \n",
       "C(y_encoding, Treatment(reference='onehot'))[T....  1.642062  0.390712   \n",
       "C(y_encoding, Treatment(reference='onehot'))[T....  1.610513  0.390712   \n",
       "\n",
       "                                                            z          P>|z|  \\\n",
       "Intercept                                           26.668706  1.086177e-156   \n",
       "C(lr, Treatment(reference='1.e-4'))[T.1.e-3]        -5.832336   5.465671e-09   \n",
       "C(y_encoding, Treatment(reference='onehot'))[T....  -4.991927   5.977989e-07   \n",
       "C(y_encoding, Treatment(reference='onehot'))[T....  -4.955176   7.226491e-07   \n",
       "C(y_encoding, Treatment(reference='onehot'))[T....   4.202740   2.637028e-05   \n",
       "C(y_encoding, Treatment(reference='onehot'))[T....   4.121993   3.756088e-05   \n",
       "\n",
       "                                                      [0.025    0.975]  \n",
       "Intercept                                           4.827003  5.592785  \n",
       "C(lr, Treatment(reference='1.e-4'))[T.1.e-3]       -2.152819 -1.069840  \n",
       "C(y_encoding, Treatment(reference='onehot'))[T.... -1.920635 -0.837656  \n",
       "C(y_encoding, Treatment(reference='onehot'))[T.... -1.910482 -0.827503  \n",
       "C(y_encoding, Treatment(reference='onehot'))[T....  0.876280  2.407844  \n",
       "C(y_encoding, Treatment(reference='onehot'))[T....  0.844731  2.376295  "
      ]
     },
     "execution_count": 9,
     "metadata": {},
     "output_type": "execute_result"
    }
   ],
   "source": [
    "w = (\n",
    "    (metrics_df['name'] == 'mean_absolute_error') &\n",
    "    (metrics_df['set'] == 'test') &\n",
    "    (metrics_df['epoch'] == 990)\n",
    ")\n",
    "df = metrics_df[w]\n",
    "\n",
    "m_str = [f'{a}*{b}' for a in label_str for b in label_str]\n",
    "\n",
    "results = smf.glm(f\"value ~ {'+'.join(m_str)}\", data=df).fit()\n",
    "results_df = results.summary2().tables[1]\n",
    "\n",
    "print('metric mean_absolute_error - negative coef -> better')\n",
    "results_df[results_df['P>|z|'] < 0.10].sort_values('P>|z|')"
   ]
  },
  {
   "cell_type": "markdown",
   "metadata": {},
   "source": [
    "### mean absolute error\n",
    "\n",
    "#### Strong evidence\n",
    "* ordinal > numeric\n",
    "* hidden 20 > hidden 5"
   ]
  },
  {
   "cell_type": "markdown",
   "metadata": {},
   "source": [
    "## Best parameters"
   ]
  },
  {
   "cell_type": "code",
   "execution_count": 10,
   "metadata": {},
   "outputs": [
    {
     "name": "stdout",
     "output_type": "stream",
     "text": [
      "Best performance for metric mean_absolute_error is y_encoding:onehot lr:1.e-3.\n",
      "                     name    set     value\n",
      "1699             accuracy   test  0.393013\n",
      "1799             accuracy  train  0.414251\n",
      "1899  mean_absolute_error   test  3.577020\n",
      "1999  mean_absolute_error  train  3.446996\n",
      "================\n",
      "Best performance for metric accuracy is y_encoding:onehot lr:1.e-3.\n",
      "                     name    set     value\n",
      "1699             accuracy   test  0.393013\n",
      "1799             accuracy  train  0.414251\n",
      "1899  mean_absolute_error   test  3.577020\n",
      "1999  mean_absolute_error  train  3.446996\n",
      "================\n"
     ]
    }
   ],
   "source": [
    "# w = (\n",
    "#     (metrics_df['x_encoding'] == 'numeric')\n",
    "# )\n",
    "# df = metrics_df[w]\n",
    "df = metrics_df\n",
    "\n",
    "best_labels = {}\n",
    "for m in ['mean_absolute_error', 'accuracy']:\n",
    "    df = df.reset_index(drop=True)\n",
    "    gb_col = list(set(df.columns) - set(['cv_split', 'value']))\n",
    "    df_g = df.groupby(gb_col)['value'].median().reset_index()\n",
    "    df_g = df_g.dropna(subset='value')\n",
    "    w = (\n",
    "        (df_g['name'] == m) &\n",
    "        (df_g['set'] == 'test')\n",
    "    )\n",
    "    if m == 'mean_absolute_error':\n",
    "        best = df_g.loc[df_g[w]['value'].idxmin()]\n",
    "    else:\n",
    "        best = df_g.loc[df_g[w]['value'].idxmax()]\n",
    "    best_labels[m] = {l: best[l] for l in labels}\n",
    "\n",
    "    print(f'Best performance for metric {m} is {best.label}.')\n",
    "    w = (\n",
    "        (df_g['label'] == best.label) &\n",
    "        (df_g['epoch'] == 990)\n",
    "    )\n",
    "\n",
    "    print(df_g.loc[w, ['name', 'set', 'value']])\n",
    "    print('================')\n",
    "    # print(f'Best performance for metric {m} with a value of {best.value} is {best.label} in epoch {best.epoch}')\n",
    "\n"
   ]
  },
  {
   "cell_type": "markdown",
   "metadata": {},
   "source": [
    "### Summary\n",
    "\n",
    "* We have the highest accuracy and mae for\n",
    "    * low regularisation \n",
    "    * hidden_size of 20\n",
    "    * learning rate of 1.e-3\n",
    "    * x-encoding onehot\n",
    "* 3 layer is leading to a better mae, 2 layer to a higher accuracy"
   ]
  },
  {
   "cell_type": "markdown",
   "metadata": {},
   "source": [
    "## Investigation of particular parameter\n",
    "\n",
    "### Hidden Size and number of layer"
   ]
  },
  {
   "cell_type": "code",
   "execution_count": 11,
   "metadata": {},
   "outputs": [
    {
     "name": "stdout",
     "output_type": "stream",
     "text": [
      "epoch=990\n"
     ]
    },
    {
     "data": {
      "image/png": "[encoded data removed]",
      "text/plain": [
       "<Figure size 787.85x360 with 2 Axes>"
      ]
     },
     "metadata": {},
     "output_type": "display_data"
    }
   ],
   "source": [
    "selection = best_labels['mean_absolute_error'].copy()\n",
    "\n",
    "focus = ['y_encoding', 'lr']\n",
    "metric_name = 'mean_absolute_error'\n",
    "\n",
    "for f in focus:\n",
    "    selection.pop(f)\n",
    "selection['epoch'] = 990\n",
    "\n",
    "w1 = pd.concat(\n",
    "    (metrics_df[k] == v\n",
    "    for k,v in selection.items()), axis=1\n",
    ").all(1)\n",
    "\n",
    "w2 = (\n",
    "    (metrics_df['name'] == metric_name) \n",
    ")\n",
    "\n",
    "fg = sns.catplot(data=metrics_df[w1 & w2], x=focus[0], hue=focus[1], y='value', col='set', kind='box', sharey=True)\n",
    "\n",
    "for idx, dfg in baseline.groupby(level=0):\n",
    "    for ax in fg.axes_dict.values():\n",
    "        ax.axhline(dfg[(idx, metric_name)], color='black', ls='--')\n",
    "        ax.text(-0.5, dfg[(idx, metric_name)]*0.99,  idx, rotation=0, size=12, va='center')\n",
    "\n",
    "print('|'.join(f'{k}={v}' for k, v in selection.items()))"
   ]
  },
  {
   "cell_type": "markdown",
   "metadata": {},
   "source": [
    "#### Results\n",
    "\n",
    "* Number of layers has a relative small effect on mae\n",
    "* Number of hidden units has a large effect on the training set and a small effect on the test set (overfitting!)"
   ]
  },
  {
   "cell_type": "markdown",
   "metadata": {},
   "source": [
    "## Confusion Matrix"
   ]
  },
  {
   "cell_type": "code",
   "execution_count": 12,
   "metadata": {},
   "outputs": [
    {
     "data": {
      "text/plain": [
       "<seaborn.axisgrid.FacetGrid at 0x7f17edf3a460>"
      ]
     },
     "execution_count": 12,
     "metadata": {},
     "output_type": "execute_result"
    },
    {
     "data": {
      "image/png": "[encoded data removed]",
      "text/plain": [
       "<Figure size 1080x360 with 6 Axes>"
      ]
     },
     "metadata": {},
     "output_type": "display_data"
    }
   ],
   "source": [
    "selection = best_labels['accuracy'].copy()\n",
    "\n",
    "w = confusion_matrix_df['set'] == 'test'\n",
    "\n",
    "df = confusion_matrix_df[w].copy()\n",
    "\n",
    "focus_dimension = 'y_encoding'\n",
    "\n",
    "selection.pop(focus_dimension)\n",
    "# selection['regularisation'] = 'wd_1.e-6'\n",
    "\n",
    "w = pd.concat(\n",
    "    (df[k] == v\n",
    "    for k,v in selection.items()), axis=1\n",
    ").all(1)\n",
    "\n",
    "df = df[w]\n",
    "\n",
    "# w2 = df[focus_dimension].isin(['none', 'wd_1.e-3', 'wd_1.e-4'])\n",
    "# df = df[w2]\n",
    "\n",
    "df = df.sort_values(focus_dimension)\n",
    "\n",
    "def _plot_heatmap(data, x, y, values):\n",
    "    dfg = data.groupby([x,y])[values].sum().reset_index()\n",
    "    dfg[values] = dfg[values] / dfg.groupby([x])[values].transform('sum')\n",
    "    # dfg = dfg.reset_index()\n",
    "    cm = dfg.pivot_table(index=x, columns=y, values=values)\n",
    "    sns.heatmap(cm)\n",
    "\n",
    "plot_heatmap = lambda data, color: _plot_heatmap(\n",
    "    data, x='y_true',y='y_pred', values='value')\n",
    "\n",
    "fg = sns.FacetGrid(df, col=focus_dimension, col_wrap=3, height=5)\n",
    "fg.map_dataframe(plot_heatmap)"
   ]
  },
  {
   "cell_type": "markdown",
   "metadata": {},
   "source": [
    "In the numeric encoding, the model is only taking actions that are a multiple of 5."
   ]
  },
  {
   "cell_type": "markdown",
   "metadata": {},
   "source": [
    "## Response surface"
   ]
  },
  {
   "cell_type": "markdown",
   "metadata": {},
   "source": [
    "## "
   ]
  },
  {
   "cell_type": "code",
   "execution_count": 13,
   "metadata": {},
   "outputs": [
    {
     "data": {
      "text/plain": [
       "<seaborn.axisgrid.FacetGrid at 0x7f17edf3a190>"
      ]
     },
     "execution_count": 13,
     "metadata": {},
     "output_type": "execute_result"
    },
    {
     "data": {
      "image/png": "[encoded data removed]",
      "text/plain": [
       "<Figure size 1080x360 with 6 Axes>"
      ]
     },
     "metadata": {},
     "output_type": "display_data"
    }
   ],
   "source": [
    "selection = best_labels['accuracy'].copy()\n",
    "df = synthethetic_df.copy()\n",
    "\n",
    "focus_dimension = 'y_encoding'\n",
    "\n",
    "selection.pop(focus_dimension)\n",
    "# selection['regularisation'] = 'wd_1.e-6'\n",
    "\n",
    "w = pd.concat(\n",
    "    (df[k] == v\n",
    "    for k,v in selection.items()), axis=1\n",
    ").all(1)\n",
    "\n",
    "df = df[w]\n",
    "\n",
    "# w2 = df[focus_dimension].isin(['none', 'wd_1.e-3', 'wd_1.e-4'])\n",
    "# df = df[w2]\n",
    "\n",
    "df = df.sort_values(focus_dimension)\n",
    "\n",
    "if df['y_encoding'].unique()[0] == 'ordinal':\n",
    "    df['exp_contribution'] = df['proba']\n",
    "else:\n",
    "    df['exp_contribution'] = df['contribution'] * df['proba']\n",
    "\n",
    "\n",
    "def _plot_heatmap(data, x, y, values):\n",
    "    dfg = data.groupby([x,y])['exp_contribution'].sum()\n",
    "    dfg = dfg.reset_index()\n",
    "    cm = dfg.pivot_table(index=x, columns=y, values=values)\n",
    "    sns.heatmap(cm)\n",
    "\n",
    "plot_heatmap = lambda data, color: _plot_heatmap(\n",
    "    data, x='prev_contribution',y='prev_punishment', values='exp_contribution')\n",
    "\n",
    "fg = sns.FacetGrid(df, col=focus_dimension, col_wrap=3, height=5)\n",
    "fg.map_dataframe(plot_heatmap)"
   ]
  },
  {
   "cell_type": "markdown",
   "metadata": {},
   "source": [
    "Numeric encoding is creating nicely smooth response surfaces. "
   ]
  }
 ],
 "metadata": {
  "interpreter": {
   "hash": "b1198fd9370ee0cf82025240fa26724f68bfab1e3f74dbb4acdc06e7861d0dbe"
  },
  "kernelspec": {
   "display_name": "Python 3.9.10 64-bit ('.venv': venv)",
   "language": "python",
   "name": "python3"
  },
  "language_info": {
   "codemirror_mode": {
    "name": "ipython",
    "version": 3
   },
   "file_extension": ".py",
   "mimetype": "text/x-python",
   "name": "python",
   "nbconvert_exporter": "python",
   "pygments_lexer": "ipython3",
   "version": "3.9.1"
  },
  "orig_nbformat": 4
 },
 "nbformat": 4,
 "nbformat_minor": 2
}
