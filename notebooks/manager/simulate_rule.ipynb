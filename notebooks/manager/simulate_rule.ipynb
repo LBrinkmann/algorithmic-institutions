{
 "cells": [
  {
   "cell_type": "code",
   "execution_count": 39,
   "id": "737cdca3",
   "metadata": {
    "tags": [
     "injected-parameters"
    ]
   },
   "outputs": [],
   "source": [
    "# Parameters\n",
    "artificial_humans = \"../../data/training/ah_10/data/model.pt\"\n",
    "artificial_humans_model = \"graph\"\n",
    "output_path = \"../../data/manager/simulate_rule/v1/\"\n",
    "n_episode_steps = 16\n",
    "s = 0\n",
    "b = 0\n",
    "c = 0\n",
    "n_episodes = 2\n"
   ]
  },
  {
   "cell_type": "code",
   "execution_count": 40,
   "id": "42c92424",
   "metadata": {
    "papermill": {},
    "tags": []
   },
   "outputs": [
    {
     "name": "stdout",
     "output_type": "stream",
     "text": [
      "The autoreload extension is already loaded. To reload it, use:\n",
      "  %reload_ext autoreload\n"
     ]
    }
   ],
   "source": [
    "%load_ext autoreload\n",
    "%autoreload 2\n",
    "\n",
    "import os\n",
    "import torch as th\n",
    "from itertools import count\n",
    "from aimanager.utils.utils import make_dir\n",
    "\n",
    "from aimanager.manager.memory import Memory\n",
    "from aimanager.manager.environment import ArtificialHumanEnv\n",
    "from aimanager.artificial_humans import AH_MODELS\n",
    "from aimanager.utils.array_to_df import using_multiindex\n",
    "\n",
    "output_path = os.path.join(output_path, 'data')"
   ]
  },
  {
   "cell_type": "code",
   "execution_count": 41,
   "id": "550f4cec",
   "metadata": {
    "papermill": {},
    "tags": []
   },
   "outputs": [],
   "source": [
    "class RuleManager:\n",
    "    def __init__(self, s, b, c):\n",
    "        self.s = s\n",
    "        self.b = b\n",
    "        self.c = c\n",
    "\n",
    "    def get_punishment(self, contributions, **_):\n",
    "        punishments = (20-contributions) * self.s + (20 != contributions).to(th.float) * self.c - self.b\n",
    "        punishments = punishments.round().to(th.int64)\n",
    "        punishments = th.minimum(th.maximum(punishments, th.zeros_like(punishments)), th.full_like(punishments, 30))\n",
    "        return punishments"
   ]
  },
  {
   "cell_type": "code",
   "execution_count": 42,
   "id": "02d293a0",
   "metadata": {
    "papermill": {},
    "tags": []
   },
   "outputs": [],
   "source": [
    "device = th.device('cpu')\n",
    "rec_device = th.device('cpu')\n",
    "artifical_humans = AH_MODELS[artificial_humans_model].load(artificial_humans).to(device)\n",
    "\n",
    "env = ArtificialHumanEnv(\n",
    "    artifical_humans=artifical_humans, n_agents=4, n_contributions=21, n_punishments=31, episode_steps=n_episode_steps, device=device)\n",
    "\n",
    "recorder = Memory(n_episodes=n_episodes, n_episode_steps=n_episode_steps, output_file=None, device=device)\n",
    "\n",
    "for episode in range(n_episodes):\n",
    "    manager = RuleManager(s=s, b=b, c=c)\n",
    "    state = env.init_episode()\n",
    "    for step in count():\n",
    "        action = manager.get_punishment(**state)\n",
    "        state = env.punish(action)\n",
    "        recorder.add(**state, episode_step=step)\n",
    "        state, reward, done = env.step()\n",
    "        if done:\n",
    "            break\n",
    "    recorder.next_episode(episode)"
   ]
  },
  {
   "cell_type": "code",
   "execution_count": 43,
   "id": "926b07b2",
   "metadata": {
    "papermill": {},
    "tags": []
   },
   "outputs": [],
   "source": [
    "punishments = using_multiindex(recorder.memory['punishments'].numpy(), columns=['idx','round_number', 'agent'], value_name='punishments')\n",
    "common_good = using_multiindex(recorder.memory['common_good'].numpy(), columns=['idx','round_number', 'agent'], value_name='common_good')\n",
    "contributions = using_multiindex(recorder.memory['contributions'].numpy(), columns=['idx','round_number', 'agent'], value_name='contributions')\n",
    "\n",
    "df = punishments.merge(common_good).merge(contributions)\n",
    "\n",
    "df = df.drop(columns=['idx', 'agent'])\n",
    "\n",
    "df = df.groupby(['round_number']).mean().reset_index()\n",
    "df['s'] = s\n",
    "df['b'] = b\n",
    "df['c'] = c\n",
    "\n",
    "\n",
    "make_dir(output_path)\n",
    "df.to_csv(os.path.join(output_path, 'trace.csv'))"
   ]
  }
 ],
 "metadata": {
  "interpreter": {
   "hash": "b1198fd9370ee0cf82025240fa26724f68bfab1e3f74dbb4acdc06e7861d0dbe"
  },
  "kernelspec": {
   "display_name": "Python 3.9.10 ('.venv': venv)",
   "language": "python",
   "name": "python3"
  },
  "language_info": {
   "codemirror_mode": {
    "name": "ipython",
    "version": 3
   },
   "file_extension": ".py",
   "mimetype": "text/x-python",
   "name": "python",
   "nbconvert_exporter": "python",
   "pygments_lexer": "ipython3",
   "version": "3.9.10"
  },
  "papermill": {
   "default_parameters": {},
   "environment_variables": {},
   "input_path": "notebooks/manager/simulate_rule.ipynb",
   "output_path": "notebooks/manager/simulate_rule.ipynb",
   "parameters": {
    "artificial_humans": "../../data/training/ah_10/data/model.pt",
    "artificial_humans_model": "graph",
    "b": 0,
    "c": 0,
    "n_episode_steps": 16,
    "n_episodes": 2,
    "output_file": "../../data/manager/simulate_rule/v1/data.pt",
    "s": 0
   },
   "version": "2.3.4"
  }
 },
 "nbformat": 4,
 "nbformat_minor": 5
}
