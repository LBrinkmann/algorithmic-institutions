{
 "cells": [
  {
   "cell_type": "code",
   "execution_count": 403,
   "metadata": {},
   "outputs": [],
   "source": [
    "import os\n",
    "import numpy as np\n",
    "import pandas as pd\n",
    "from sklearn.linear_model import LogisticRegression\n",
    "from sklearn.multioutput import MultiOutputClassifier\n",
    "from sklearn.preprocessing import StandardScaler\n",
    "from sklearn.pipeline import Pipeline\n",
    "from aimanager.model.cross_validation import split_xy, get_cross_validations\n",
    "from aimanager.model.encoder import int_to_ordinal, ordinal_to_int, joined_encoder\n",
    "from aimanager.model.metrics import create_metrics, create_confusion_matrix\n",
    "from aimanager.utils.array_to_df import add_labels\n",
    "from aimanager.utils.utils import make_dir\n",
    "\n",
    "import yaml\n"
   ]
  },
  {
   "cell_type": "code",
   "execution_count": 404,
   "metadata": {},
   "outputs": [],
   "source": [
    "default = \"\"\"\n",
    "x_encoding:\n",
    "    a: \n",
    "        ordinal: true\n",
    "        n_levels: 21\n",
    "        column: contribution\n",
    "    b: \n",
    "        ordinal: false\n",
    "        column: punishment\n",
    "    c:\n",
    "        etype: interaction\n",
    "        a: \n",
    "            ordinal: true\n",
    "            n_levels: 21\n",
    "            column: contribution\n",
    "        b: \n",
    "            ordinal: false\n",
    "            column: punishment\n",
    "y_encoding:\n",
    "    ordinal: true\n",
    "    n_levels: 21\n",
    "    column: contribution\n",
    "model_config:\n",
    "    max_iter: 10000\n",
    "    C: 1.0\n",
    "    # penalty: elasticnet\n",
    "    # l1_ratio: 0.0\n",
    "    # solver: saga\n",
    "ordinal_y: true\n",
    "n_cross_val: 10\n",
    "data: ../data/pilot1_player_round_slim.csv\n",
    "\"\"\"\n",
    "config = yaml.safe_load(default)\n",
    "labels = {}\n",
    "output_folder = '../data/dev/logreg'"
   ]
  },
  {
   "cell_type": "code",
   "execution_count": 405,
   "metadata": {},
   "outputs": [],
   "source": [
    "def predict(model, x_enc, ordinal_y):\n",
    "    y_pred = model.predict(x_enc)\n",
    "    y_pred_proba = model.predict_proba(x_enc)\n",
    "    if ordinal_y:\n",
    "        y_pred_proba = np.stack(y_pred_proba, axis=1)\n",
    "        y_pred_ordinal = y_pred\n",
    "        y_pred = ordinal_to_int(y_pred)\n",
    "    else:\n",
    "        y_pred_ordinal = int_to_ordinal(y_pred)\n",
    "    return y_pred, y_pred_ordinal, y_pred_proba"
   ]
  },
  {
   "cell_type": "code",
   "execution_count": 406,
   "metadata": {},
   "outputs": [],
   "source": [
    "ordinal_y = config['y_encoding']['ordinal']\n",
    "\n",
    "df = pd.read_csv(config['data'])\n",
    "\n",
    "metrics = []\n",
    "confusion_matrix = []\n",
    "\n",
    "x_df, y_sr = split_xy(df)\n",
    "for i, split in enumerate(get_cross_validations(x_df, y_sr, config['n_cross_val'])):\n",
    "    x_train_df, y_train_sr, x_test_df, y_test_sr = split\n",
    "    y_test = y_test_sr.astype(int).values\n",
    "    y_train = y_train_sr.astype(int).values\n",
    "    y_test_ord = int_to_ordinal(y_test, n_levels=config['y_encoding']['n_levels'])\n",
    "    y_train_ord = int_to_ordinal(y_train, n_levels=config['y_encoding']['n_levels'])\n",
    "\n",
    "    y = y_train_ord if ordinal_y else y_train\n",
    "\n",
    "    pipe = Pipeline([('scaler', StandardScaler()), ('log_reg', LogisticRegression(**config['model_config']))])\n",
    "\n",
    "    model = MultiOutputClassifier(pipe)\n",
    "\n",
    "    x_train_enc = joined_encoder(x_train_df, config['x_encoding'])\n",
    "    x_test_enc = joined_encoder(x_test_df, config['x_encoding'])\n",
    "    model.fit(x_train_enc, y_train_ord)\n",
    "\n",
    "    # training set performance\n",
    "    y_pred, y_pred_ordinal, y_pred_proba = predict(model, x_test_enc, ordinal_y)\n",
    "    metrics += create_metrics(y_test, y_test_ord, y_pred, y_pred_ordinal, y_pred_proba, ordinal_y=ordinal_y, set='test', cv_split=i)\n",
    "    confusion_matrix += create_confusion_matrix(y_test, y_pred, set='test', cv_split=i)\n",
    "\n",
    "    # test set performance\n",
    "    y_pred, y_pred_ordinal, y_pred_proba = predict(model, x_train_enc, ordinal_y)\n",
    "    metrics += create_metrics(y_train, y_train_ord, y_pred, y_pred_ordinal, y_pred_proba, ordinal_y=ordinal_y, set='train', cv_split=i)\n",
    "    confusion_matrix += create_confusion_matrix(y_train, y_pred, set='train', cv_split=i)\n"
   ]
  },
  {
   "cell_type": "code",
   "execution_count": 407,
   "metadata": {},
   "outputs": [],
   "source": [
    "make_dir(output_folder)\n",
    "\n",
    "metrics_df = pd.DataFrame(metrics)\n",
    "metrics_df = add_labels(metrics_df, labels)\n",
    "metrics_df.to_parquet(os.path.join(output_folder, 'metrics.parquet'))\n",
    "\n",
    "\n",
    "confusion_matrix_df = pd.DataFrame(confusion_matrix)\n",
    "confusion_matrix_df = add_labels(confusion_matrix_df, labels)\n",
    "confusion_matrix_df.to_parquet(os.path.join(output_folder, 'confusion_matrix.parquet'))"
   ]
  }
 ],
 "metadata": {
  "interpreter": {
   "hash": "b1198fd9370ee0cf82025240fa26724f68bfab1e3f74dbb4acdc06e7861d0dbe"
  },
  "kernelspec": {
   "display_name": "Python 3.9.10 64-bit ('.venv': venv)",
   "language": "python",
   "name": "python3"
  },
  "language_info": {
   "codemirror_mode": {
    "name": "ipython",
    "version": 3
   },
   "file_extension": ".py",
   "mimetype": "text/x-python",
   "name": "python",
   "nbconvert_exporter": "python",
   "pygments_lexer": "ipython3",
   "version": "3.9.10"
  },
  "orig_nbformat": 4
 },
 "nbformat": 4,
 "nbformat_minor": 2
}
