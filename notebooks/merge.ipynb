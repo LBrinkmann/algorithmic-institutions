{
 "cells": [
  {
   "cell_type": "code",
   "execution_count": 1,
   "id": "98693dae",
   "metadata": {
    "execution": {
     "iopub.execute_input": "2022-06-20T13:01:27.430465Z",
     "iopub.status.busy": "2022-06-20T13:01:27.428716Z",
     "iopub.status.idle": "2022-06-20T13:01:27.444063Z",
     "shell.execute_reply": "2022-06-20T13:01:27.442793Z"
    },
    "papermill": {
     "duration": 0.02793,
     "end_time": "2022-06-20T13:01:27.446103",
     "exception": false,
     "start_time": "2022-06-20T13:01:27.418173",
     "status": "completed"
    },
    "tags": [
     "injected-parameters"
    ]
   },
   "outputs": [],
   "source": [
    "# Parameters\n",
    "run = \"graph_3\"\n"
   ]
  },
  {
   "cell_type": "code",
   "execution_count": 2,
   "id": "e857ae70",
   "metadata": {
    "execution": {
     "iopub.execute_input": "2022-06-20T13:01:27.456079Z",
     "iopub.status.busy": "2022-06-20T13:01:27.455702Z",
     "iopub.status.idle": "2022-06-20T13:01:30.310644Z",
     "shell.execute_reply": "2022-06-20T13:01:30.308531Z"
    },
    "papermill": {
     "duration": 2.864916,
     "end_time": "2022-06-20T13:01:30.315128",
     "exception": false,
     "start_time": "2022-06-20T13:01:27.450212",
     "status": "completed"
    },
    "tags": []
   },
   "outputs": [],
   "source": [
    "%load_ext autoreload\n",
    "%autoreload 2\n",
    "\n",
    "import os\n",
    "import pandas as pd\n",
    "from aimanager.utils.utils import make_dir\n",
    "from aimanager.utils.merge import merge_files_by_name\n",
    "\n",
    "folder = f'../data/training/{run}/train'\n",
    "merged_folder = f'../data/training/{run}/merged'\n",
    "\n",
    "make_dir(merged_folder)"
   ]
  },
  {
   "cell_type": "code",
   "execution_count": 3,
   "id": "10323f24",
   "metadata": {
    "execution": {
     "iopub.execute_input": "2022-06-20T13:01:30.329387Z",
     "iopub.status.busy": "2022-06-20T13:01:30.328623Z",
     "iopub.status.idle": "2022-06-20T13:04:42.332673Z",
     "shell.execute_reply": "2022-06-20T13:04:42.331144Z"
    },
    "papermill": {
     "duration": 192.01534,
     "end_time": "2022-06-20T13:04:42.336669",
     "exception": false,
     "start_time": "2022-06-20T13:01:30.321329",
     "status": "completed"
    },
    "tags": []
   },
   "outputs": [],
   "source": [
    "file_names = ['metrics.parquet', 'confusion_matrix.parquet', 'synthetic_predicitions.parquet']\n",
    "# file_names = ['metrics.parquet']\n",
    "\n",
    "def get_df(file_name, merged_folder, folder):\n",
    "    m_file = os.path.join(merged_folder, file_name)\n",
    "    if not os.path.isfile(m_file):\n",
    "        df = merge_files_by_name(folder, file_name)\n",
    "        df.to_parquet(m_file)\n",
    "        return df\n",
    "    else:\n",
    "        return pd.read_parquet(m_file)\n",
    "\n",
    "for file_name in file_names:\n",
    "    get_df(file_name, merged_folder, folder)"
   ]
  }
 ],
 "metadata": {
  "interpreter": {
   "hash": "83484b78e3eced0c1ebbaf37dd8049c2f9102f6dcade2a60a08a368fc0daac5f"
  },
  "kernelspec": {
   "display_name": "Python 3.9.1 ('.venv': venv)",
   "language": "python",
   "name": "python3"
  },
  "language_info": {
   "codemirror_mode": {
    "name": "ipython",
    "version": 3
   },
   "file_extension": ".py",
   "mimetype": "text/x-python",
   "name": "python",
   "nbconvert_exporter": "python",
   "pygments_lexer": "ipython3",
   "version": "3.9.1"
  },
  "papermill": {
   "default_parameters": {},
   "duration": 200.563016,
   "end_time": "2022-06-20T13:04:42.768017",
   "environment_variables": {},
   "exception": null,
   "input_path": "notebooks/merge.ipynb",
   "output_path": "notebooks/merge.ipynb",
   "parameters": {
    "run": "graph_3"
   },
   "start_time": "2022-06-20T13:01:22.205001",
   "version": "2.3.4"
  }
 },
 "nbformat": 4,
 "nbformat_minor": 5
}