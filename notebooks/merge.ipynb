{
 "cells": [
  {
   "cell_type": "code",
   "execution_count": 1,
   "id": "e9991367",
   "metadata": {
    "execution": {
     "iopub.execute_input": "2022-06-02T08:46:45.864238Z",
     "iopub.status.busy": "2022-06-02T08:46:45.863447Z",
     "iopub.status.idle": "2022-06-02T08:46:45.881015Z",
     "shell.execute_reply": "2022-06-02T08:46:45.879747Z"
    },
    "papermill": {
     "duration": 0.031174,
     "end_time": "2022-06-02T08:46:45.884084",
     "exception": false,
     "start_time": "2022-06-02T08:46:45.852910",
     "status": "completed"
    },
    "tags": [
     "injected-parameters"
    ]
   },
   "outputs": [],
   "source": [
    "# Parameters\n",
    "run = \"mlp_parameter\"\n"
   ]
  },
  {
   "cell_type": "code",
   "execution_count": 2,
   "id": "e857ae70",
   "metadata": {
    "execution": {
     "iopub.execute_input": "2022-06-02T08:46:45.897135Z",
     "iopub.status.busy": "2022-06-02T08:46:45.896452Z",
     "iopub.status.idle": "2022-06-02T08:46:48.850152Z",
     "shell.execute_reply": "2022-06-02T08:46:48.848126Z"
    },
    "papermill": {
     "duration": 2.965254,
     "end_time": "2022-06-02T08:46:48.854985",
     "exception": false,
     "start_time": "2022-06-02T08:46:45.889731",
     "status": "completed"
    },
    "tags": []
   },
   "outputs": [],
   "source": [
    "%load_ext autoreload\n",
    "%autoreload 2\n",
    "\n",
    "import os\n",
    "import pandas as pd\n",
    "from aimanager.utils.utils import make_dir\n",
    "from aimanager.utils.merge import merge_files_by_name\n",
    "\n",
    "folder = f'../data/training/{run}/train'\n",
    "merged_folder = f'../data/training/{run}/merged'\n",
    "\n",
    "make_dir(merged_folder)"
   ]
  },
  {
   "cell_type": "code",
   "execution_count": 3,
   "id": "10323f24",
   "metadata": {
    "execution": {
     "iopub.execute_input": "2022-06-02T08:46:48.868873Z",
     "iopub.status.busy": "2022-06-02T08:46:48.868113Z",
     "iopub.status.idle": "2022-06-02T08:46:50.002492Z",
     "shell.execute_reply": "2022-06-02T08:46:50.001027Z"
    },
    "papermill": {
     "duration": 1.143499,
     "end_time": "2022-06-02T08:46:50.005139",
     "exception": false,
     "start_time": "2022-06-02T08:46:48.861640",
     "status": "completed"
    },
    "tags": []
   },
   "outputs": [],
   "source": [
    "# file_names = ['metrics.parquet', 'confusion_matrix.parquet', 'synthetic_predicitions.parquet']\n",
    "file_names = ['metrics.parquet']\n",
    "\n",
    "def get_df(file_name, merged_folder, folder):\n",
    "    m_file = os.path.join(merged_folder, file_name)\n",
    "    if not os.path.isfile(m_file):\n",
    "        df = merge_files_by_name(folder, file_name)\n",
    "        df.to_parquet(m_file)\n",
    "        return df\n",
    "    else:\n",
    "        return pd.read_parquet(m_file)\n",
    "\n",
    "for file_name in file_names:\n",
    "    get_df(file_name, merged_folder, folder)"
   ]
  }
 ],
 "metadata": {
  "interpreter": {
   "hash": "83484b78e3eced0c1ebbaf37dd8049c2f9102f6dcade2a60a08a368fc0daac5f"
  },
  "kernelspec": {
   "display_name": "Python 3.9.1 ('.venv': venv)",
   "language": "python",
   "name": "python3"
  },
  "language_info": {
   "codemirror_mode": {
    "name": "ipython",
    "version": 3
   },
   "file_extension": ".py",
   "mimetype": "text/x-python",
   "name": "python",
   "nbconvert_exporter": "python",
   "pygments_lexer": "ipython3",
   "version": "3.9.1"
  },
  "papermill": {
   "default_parameters": {},
   "duration": 9.932726,
   "end_time": "2022-06-02T08:46:50.331744",
   "environment_variables": {},
   "exception": null,
   "input_path": "notebooks/merge.ipynb",
   "output_path": "notebooks/merge.ipynb",
   "parameters": {
    "run": "mlp_parameter"
   },
   "start_time": "2022-06-02T08:46:40.399018",
   "version": "2.3.4"
  }
 },
 "nbformat": 4,
 "nbformat_minor": 5
}